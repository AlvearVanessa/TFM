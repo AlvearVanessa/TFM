{
  "nbformat": 4,
  "nbformat_minor": 0,
  "metadata": {
    "colab": {
      "name": "Preprocesado.ipynb",
      "provenance": [],
      "collapsed_sections": [
        "8wi33mmt4vSb"
      ],
      "include_colab_link": true
    },
    "kernelspec": {
      "name": "python3",
      "display_name": "Python 3"
    },
    "language_info": {
      "name": "python"
    }
  },
  "cells": [
    {
      "cell_type": "markdown",
      "metadata": {
        "id": "view-in-github",
        "colab_type": "text"
      },
      "source": [
        "<a href=\"https://colab.research.google.com/github/AlvearVanessa/TFM/blob/main/Preprocesado.ipynb\" target=\"_parent\"><img src=\"https://colab.research.google.com/assets/colab-badge.svg\" alt=\"Open In Colab\"/></a>"
      ]
    },
    {
      "cell_type": "markdown",
      "metadata": {
        "id": "8wi33mmt4vSb"
      },
      "source": [
        "# Trabajo final de máster: Predicción de la edad a partir del estado de la retina mediante técnicas de aprendizaje profundo\n",
        "---\n"
      ]
    },
    {
      "cell_type": "markdown",
      "metadata": {
        "id": "039sq1c6xqzk"
      },
      "source": [
        "#Introducción\n",
        "---"
      ]
    },
    {
      "cell_type": "markdown",
      "metadata": {
        "id": "hkW-X9Pvx4gx"
      },
      "source": [
        "El siguiente notebook hace parte de una secuencia de los mismos que nos van a permitir construir el trabajo final de máster.\n",
        "\n",
        "Este es el notebook 1. El objetivo es visualizar, comprender y analizar un conjunto de datos de imágenes de fondo de ojo tomadas a pacientes de un hospital. Teniendo esto en mente, se realiza un preprocesado de los datos y se obtienen los conjuntos de training y testing para emplearlos en la creación de diferentes modelos de Aprendizaje profundo que se realiza en los siguientes notebooks.\n"
      ]
    },
    {
      "cell_type": "markdown",
      "metadata": {
        "id": "7GBjh1F_yzDz"
      },
      "source": [
        "#Autora\n",
        "---"
      ]
    },
    {
      "cell_type": "markdown",
      "metadata": {
        "id": "fZRyJJQxy2Gv"
      },
      "source": [
        "Este trabajo es realizado por:\n",
        "\n",
        "- Mayra Vanessa Alvear Gallón"
      ]
    },
    {
      "cell_type": "markdown",
      "metadata": {
        "id": "8ETVAWpUxvbC"
      },
      "source": [
        "#Objetivo\n",
        "---\n"
      ]
    },
    {
      "cell_type": "markdown",
      "metadata": {
        "id": "f5SVzFX1x28s"
      },
      "source": [
        "El objetivo del trabajo de fin de máster es crear un modelo de regresión en imágenes utilizando técnicas de Aprendizaje profundo. \n",
        "\n",
        "El problema que se quiere resolver es de regresión, esto es, a partir de una imagen de fondo de ojo de una persona, se quiere predecir su edad.\n",
        "\n",
        "Para ello, se van a crear once notebooks:\n",
        "\n",
        "1) Análisis de los datos y un preprocesado.\n",
        "\n",
        "2) hasta 10) En los cuatro siguientes se hará la implementación de cuatro modelos distintos de Aprendizaje Profundo.\n",
        "\n",
        "11) En el último, se hará un *Ensemble.* \n",
        "\n",
        "\n",
        "Para crear los modelos se utiliza la librería [fastAI](https://www.fast.ai/) entre otras librerías que permiten el desarrollo del trabajo."
      ]
    },
    {
      "cell_type": "markdown",
      "metadata": {
        "id": "JBbejPn45tix"
      },
      "source": [
        "## Librerías\n",
        "---\n"
      ]
    },
    {
      "cell_type": "markdown",
      "metadata": {
        "id": "vl3cnclHz89V"
      },
      "source": [
        "Para iniciar, se descarga la última versión de la librería FastAI. Al finalizar la instalación, se debe reiniciar el kernel (menú Entorno de ejecución -> Reiniciar Entorno de ejecución)."
      ]
    },
    {
      "cell_type": "code",
      "execution_count": null,
      "metadata": {
        "id": "YmBReESd5n-e",
        "colab": {
          "base_uri": "https://localhost:8080/"
        },
        "outputId": "57aa1010-2428-49e7-c281-1be0f135554c"
      },
      "outputs": [
        {
          "output_type": "stream",
          "name": "stdout",
          "text": [
            "\u001b[K     |████████████████████████████████| 197 kB 5.4 MB/s \n",
            "\u001b[K     |████████████████████████████████| 60 kB 6.1 MB/s \n",
            "\u001b[?25h"
          ]
        }
      ],
      "source": [
        "!pip install fastai -Uq"
      ]
    },
    {
      "cell_type": "markdown",
      "metadata": {
        "id": "w_dBcEps5zS2"
      },
      "source": [
        "Se cargan aquellas librerías que son necesarias."
      ]
    },
    {
      "cell_type": "code",
      "execution_count": null,
      "metadata": {
        "id": "dTv0vssz5wXF"
      },
      "outputs": [],
      "source": [
        "# models and depp learning library\n",
        "from fastai.vision.all import *\n",
        "\n",
        "# preprocessing and data management\n",
        "import scipy.io\n",
        "import pandas as pd\n",
        "from datetime import datetime, timedelta\n",
        "\n",
        "#Split dataset\n",
        "from sklearn.model_selection import train_test_split\n",
        "\n",
        "# model evaluation\n",
        "from fastai.metrics import mae"
      ]
    },
    {
      "cell_type": "markdown",
      "metadata": {
        "id": "d7XXyTpP0LDR"
      },
      "source": [
        "## Análisis de datos\n",
        "---"
      ]
    },
    {
      "cell_type": "markdown",
      "metadata": {
        "id": "ckQiV6vQ6QaV"
      },
      "source": [
        "### Dataset\n",
        "---"
      ]
    },
    {
      "cell_type": "markdown",
      "metadata": {
        "id": "GLgQ2xRq0BN-"
      },
      "source": [
        "**El conjunto de datos**\n",
        "\n",
        "Contiene imágenes de fondo de ojo con etiquetas de edad para entrenamiento. Estas imágenes son de tamaño 299x299, algunas son del ojo izquierdo y otras del ojo derecho, esto se puede visualizar a partir de la ubicación del disco óptico"
      ]
    },
    {
      "cell_type": "code",
      "source": [
        "from IPython.display import Image"
      ],
      "metadata": {
        "id": "sj-xKHM9Oh5T"
      },
      "execution_count": null,
      "outputs": []
    },
    {
      "cell_type": "markdown",
      "source": [
        "**Ojo izquierdo**"
      ],
      "metadata": {
        "id": "pymD28wGwpI6"
      }
    },
    {
      "cell_type": "code",
      "source": [
        "Image(\"/content/imagen1.jpg\")"
      ],
      "metadata": {
        "id": "c3VIaEx5Oh8r",
        "colab": {
          "base_uri": "https://localhost:8080/",
          "height": 316
        },
        "outputId": "ee3c9fb5-0165-4a6b-dc28-8bb55f1ef709"
      },
      "execution_count": null,
      "outputs": [
        {
          "output_type": "execute_result",
          "data": {
            "text/plain": [
              "<IPython.core.display.Image object>"
            ],
            "image/jpeg": "[encoded data removed]"
          },
          "metadata": {},
          "execution_count": 6
        }
      ]
    },
    {
      "cell_type": "markdown",
      "source": [
        "**Ojo derecho**"
      ],
      "metadata": {
        "id": "fTertkvuwryI"
      }
    },
    {
      "cell_type": "code",
      "source": [
        "Image(\"/content/imagen2.jpg\")"
      ],
      "metadata": {
        "id": "t3UIgS6NP_iG",
        "colab": {
          "base_uri": "https://localhost:8080/",
          "height": 316
        },
        "outputId": "a1c38892-78c1-407b-fa34-448910fe1884"
      },
      "execution_count": null,
      "outputs": [
        {
          "output_type": "execute_result",
          "data": {
            "text/plain": [
              "<IPython.core.display.Image object>"
            ],
            "image/jpeg": "[encoded data removed]"
          },
          "metadata": {},
          "execution_count": 8
        }
      ]
    },
    {
      "cell_type": "markdown",
      "source": [
        "Este dataset fue creado a partir de datos reales y contiene dos campos:`nombre_foto` y `edad`. En total son 444.861 imágenes de fondo de ojo. En formato **jpg extenderlo**"
      ],
      "metadata": {
        "id": "cLO6orYRQMVb"
      }
    },
    {
      "cell_type": "markdown",
      "source": [
        "Para considerar una muestra considerable de los datos, se realizó un proceso de estratificación, que se verá con más detalle. \n",
        "\n"
      ],
      "metadata": {
        "id": "DP5CpqIqSRkz"
      }
    },
    {
      "cell_type": "markdown",
      "source": [
        "Para la realización de este trabajo se utiliza el GPU que ofrece Google Colab. "
      ],
      "metadata": {
        "id": "tbxr5wliQ05c"
      }
    },
    {
      "cell_type": "markdown",
      "metadata": {
        "id": "xKdg2Ql7HbQy"
      },
      "source": [
        "Los campos del dataset son:\n",
        "\n",
        "**nombre_foto:** Contiene el nombre del archivo que en este caso es una imagen en formato jpg.\n",
        "\n",
        "**edad:** Edad en años de la persona a la que se le ha tomado la foto.\n"
      ]
    },
    {
      "cell_type": "markdown",
      "source": [
        "**Cabe mencionar que los datos del campo `edad` son nuestra variable objetivo.**"
      ],
      "metadata": {
        "id": "QduDR-xSXX51"
      }
    },
    {
      "cell_type": "markdown",
      "source": [
        "Por ende, a partir del dataframe se quieren construir los conjuntos de training y testing, pero, con el fin, de que ambos conjuntos, sean muestras representativas del dataset, se busca que tengan la misma distribución del datos, es decir, ambos conjuntos se quieren estratificados.\n",
        "\n",
        "Para ello, se utilizó el método `train_test_split` de la librería scikit-learn con el **argumento** stratify, sin embargo, se genera un error porque hay edades en las cuales, sólo hay un valor y como se quieren distribur los datos a dos conjuntos, esto no es posible. \n",
        "\n",
        "No obstante, se utiliza este método con valor None y se observa en el histograma del conjunto de train y de test, una distribución de los datos muy similar a los datos originales. \n",
        "\n",
        "Por tal motivo, se consideran las particiones de los conjuntos realizadas por este método sin recurrir a estratificar los datos. "
      ],
      "metadata": {
        "id": "1plpgFPaiMOz"
      }
    },
    {
      "cell_type": "markdown",
      "source": [
        "Por último, se quieren guardar las imágenes de los dataframes que se van a denominar *dfTrain* y *dfTest*. Teniendo esto en mente, se deben cargar los archivos de las imágenes originales 444 mil imágenes, y extraer un porcentaje para training y otro para testing.\n",
        "\n",
        "\n",
        "Por razones de memoria y para evitar cargar el dataset de las 444 mil imágenes, en este intento, este proceso tomó muchas horas de ejecución e incluso, el ordenador colapsa y se debe reiniciar en muchas ocasiones, se decide realizar este proceso de forma local y conseguir una muestra representativa de los datos, de tal forma que, esta muestra tenga aproximadamente 43 mil datos, de los cuales 35 mil son para training y 8mil para testing.\n",
        "\n",
        "Finalmente, se obtienen los datasets con los archivos de training y split y se pueden cargar las imágenes. Para el conjunto de test están todas las imágenes pero para el conjunto de training no se guardaron 3 de estas imágenes. \n",
        "\n",
        "Por lo que, se pasa a revisar los dataframes finales que se obtuvieron de forma local y se eliminan estas 3 imágenes. "
      ],
      "metadata": {
        "id": "tWFI-isynQqQ"
      }
    },
    {
      "cell_type": "markdown",
      "source": [
        "En este orden de ideas, dado que los archivos se encuentra en una carpeta de Google Drive, se carga para acceder a los archivos"
      ],
      "metadata": {
        "id": "-pUg7dPwyO5q"
      }
    },
    {
      "cell_type": "code",
      "source": [
        "from google.colab import drive\n",
        "drive.mount('/content/drive')"
      ],
      "metadata": {
        "id": "lG9fYzZNesNv",
        "colab": {
          "base_uri": "https://localhost:8080/"
        },
        "outputId": "1f262e6c-b6ad-43f2-a3f0-b1844c2490f1"
      },
      "execution_count": null,
      "outputs": [
        {
          "output_type": "stream",
          "name": "stdout",
          "text": [
            "Drive already mounted at /content/drive; to attempt to forcibly remount, call drive.mount(\"/content/drive\", force_remount=True).\n"
          ]
        }
      ]
    },
    {
      "cell_type": "markdown",
      "metadata": {
        "id": "WEzVcKxI8yGP"
      },
      "source": [
        "Se explora el contenido de este conjunto de datos. Para ello, se crea un objeto [Path](https://docs.python.org/3/library/pathlib.html) que apunta al directorio que acabamos de crear. "
      ]
    },
    {
      "cell_type": "markdown",
      "source": [
        "`path` es la carpeta que contiene todas las carpetas del trabajo"
      ],
      "metadata": {
        "id": "RLJX_zynRq3m"
      }
    },
    {
      "cell_type": "code",
      "execution_count": null,
      "metadata": {
        "id": "yB1AG4x_YxH-"
      },
      "outputs": [],
      "source": [
        "path = Path('/content/drive/MyDrive/dataset_retina/')"
      ]
    },
    {
      "cell_type": "markdown",
      "source": [
        "`pathDataframes` es la carpeta que contiene todos los ficheros de anotación"
      ],
      "metadata": {
        "id": "FDaMNhs_Tw2H"
      }
    },
    {
      "cell_type": "code",
      "source": [
        "pathDataframes = Path('/content/drive/MyDrive/dataset_retina/dataframes')"
      ],
      "metadata": {
        "id": "WmXuomtDfjlk"
      },
      "execution_count": null,
      "outputs": []
    },
    {
      "cell_type": "markdown",
      "source": [
        "`pathDatasets` es la carpeta que contiene las carpetas con los archivos de los conjuntos de datos de *test* y *train*. Por lo tanto, contiene las carpetas `train` y `test`"
      ],
      "metadata": {
        "id": "jWyCveDlT4yR"
      }
    },
    {
      "cell_type": "code",
      "source": [
        "pathDatasets = Path('/content/drive/MyDrive/dataset_retina/datasets')"
      ],
      "metadata": {
        "id": "QNJP114QfjuN"
      },
      "execution_count": null,
      "outputs": []
    },
    {
      "cell_type": "markdown",
      "metadata": {
        "id": "FIg642m087U7"
      },
      "source": [
        "Con el objeto path se pueden utilizar funciones como `ls()`."
      ]
    },
    {
      "cell_type": "code",
      "execution_count": null,
      "metadata": {
        "colab": {
          "base_uri": "https://localhost:8080/"
        },
        "id": "LyzibpX783Br",
        "outputId": "b49e7edb-bc57-4ec4-c922-244ff07debc7"
      },
      "outputs": [
        {
          "output_type": "execute_result",
          "data": {
            "text/plain": [
              "(#8) [Path('/content/drive/MyDrive/dataset_retina/dataframes.zip'),Path('/content/drive/MyDrive/dataset_retina/original_test.zip'),Path('/content/drive/MyDrive/dataset_retina/original_train.zip'),Path('/content/drive/MyDrive/dataset_retina/nuevo_testing.zip'),Path('/content/drive/MyDrive/dataset_retina/nuevo_training.zip'),Path('/content/drive/MyDrive/dataset_retina/Notebooks'),Path('/content/drive/MyDrive/dataset_retina/dataframes.zip (Unzipped Files)'),Path('/content/drive/MyDrive/dataset_retina/dataframes')]"
            ]
          },
          "metadata": {},
          "execution_count": 11
        }
      ],
      "source": [
        "path.ls()"
      ]
    },
    {
      "cell_type": "markdown",
      "metadata": {
        "id": "P5-_fAj8-YvC"
      },
      "source": [
        "Se puede ver en el contenido del path seis archivos\n",
        "\n",
        "1.   etiquetas_edad.csv\n",
        "2.   La carpeta new_training\n",
        "3.   train.csv\n",
        "4.   La carpeta new_testing\n",
        "5.   El notebook Analisis0_dataset_final.ipynb\n",
        "6.   La carpeta train_and_test_dinal\n",
        "\n",
        "\n",
        "\n"
      ]
    },
    {
      "cell_type": "code",
      "execution_count": null,
      "metadata": {
        "colab": {
          "base_uri": "https://localhost:8080/"
        },
        "id": "k2qL2u1xkoa8",
        "outputId": "469cd95a-af9f-4cc9-d087-21a516c3eb8e"
      },
      "outputs": [
        {
          "output_type": "execute_result",
          "data": {
            "text/plain": [
              "(#5) [Path('/content/drive/MyDrive/dataset_retina/dataframes/test.csv'),Path('/content/drive/MyDrive/dataset_retina/dataframes/sample_df.csv'),Path('/content/drive/MyDrive/dataset_retina/dataframes/train.csv'),Path('/content/drive/MyDrive/dataset_retina/dataframes/etiquetas_edad_con_archivo.csv'),Path('/content/drive/MyDrive/dataset_retina/dataframes/etiquetas_edad.csv')]"
            ]
          },
          "metadata": {},
          "execution_count": 12
        }
      ],
      "source": [
        "(path/'dataframes').ls()"
      ]
    },
    {
      "cell_type": "markdown",
      "metadata": {
        "id": "6hNR0wI_lmqz"
      },
      "source": [
        "La carpeta `dataframes` contiene archivos en formato csv. \n",
        "\n"
      ]
    },
    {
      "cell_type": "markdown",
      "source": [
        "## Preprocesado"
      ],
      "metadata": {
        "id": "5MwuRKK2t1Yk"
      }
    },
    {
      "cell_type": "markdown",
      "source": [
        "A continuación se van a realizar el *data_cleaning* y el análisis de los datos."
      ],
      "metadata": {
        "id": "S5hJYGoxiLwR"
      }
    },
    {
      "cell_type": "markdown",
      "source": [
        "**0. Analizamos el dataframe**"
      ],
      "metadata": {
        "id": "OZoHt70luL7B"
      }
    },
    {
      "cell_type": "markdown",
      "source": [
        "Los siguientes comandos cargan el conjunto de datos.  "
      ],
      "metadata": {
        "id": "z039ONLwPbnZ"
      }
    },
    {
      "cell_type": "code",
      "source": [
        "df = pd.read_csv(pathDataframes/'etiquetas_edad_con_archivo.csv', sep=',')"
      ],
      "metadata": {
        "id": "Uf9Q5SMdUFmO"
      },
      "execution_count": null,
      "outputs": []
    },
    {
      "cell_type": "markdown",
      "source": [
        "Se visualizan las primeras 5 instancias del dataset y las 5 últimas\n"
      ],
      "metadata": {
        "id": "x10sUggxUsr4"
      }
    },
    {
      "cell_type": "code",
      "source": [
        "df.head()"
      ],
      "metadata": {
        "id": "I9UgvsrUUqTG",
        "colab": {
          "base_uri": "https://localhost:8080/",
          "height": 206
        },
        "outputId": "5cf042d3-e9f6-45c3-bbd4-a417b0691d9a"
      },
      "execution_count": null,
      "outputs": [
        {
          "output_type": "execute_result",
          "data": {
            "text/plain": [
              "           nombre_foto  edad\n",
              "0   anonymized_846.jpg    54\n",
              "1   anonymized_847.jpg    54\n",
              "2   anonymized_848.jpg    54\n",
              "3   anonymized_868.jpg    59\n",
              "4  anonymized_1033.jpg    58"
            ],
            "text/html": [
              "\n",
              "  <div id=\"df-a8c83f4a-6936-408e-81ea-a083a6ff3b98\">\n",
              "    <div class=\"colab-df-container\">\n",
              "      <div>\n",
              "<style scoped>\n",
              "    .dataframe tbody tr th:only-of-type {\n",
              "        vertical-align: middle;\n",
              "    }\n",
              "\n",
              "    .dataframe tbody tr th {\n",
              "        vertical-align: top;\n",
              "    }\n",
              "\n",
              "    .dataframe thead th {\n",
              "        text-align: right;\n",
              "    }\n",
              "</style>\n",
              "<table border=\"1\" class=\"dataframe\">\n",
              "  <thead>\n",
              "    <tr style=\"text-align: right;\">\n",
              "      <th></th>\n",
              "      <th>nombre_foto</th>\n",
              "      <th>edad</th>\n",
              "    </tr>\n",
              "  </thead>\n",
              "  <tbody>\n",
              "    <tr>\n",
              "      <th>0</th>\n",
              "      <td>anonymized_846.jpg</td>\n",
              "      <td>54</td>\n",
              "    </tr>\n",
              "    <tr>\n",
              "      <th>1</th>\n",
              "      <td>anonymized_847.jpg</td>\n",
              "      <td>54</td>\n",
              "    </tr>\n",
              "    <tr>\n",
              "      <th>2</th>\n",
              "      <td>anonymized_848.jpg</td>\n",
              "      <td>54</td>\n",
              "    </tr>\n",
              "    <tr>\n",
              "      <th>3</th>\n",
              "      <td>anonymized_868.jpg</td>\n",
              "      <td>59</td>\n",
              "    </tr>\n",
              "    <tr>\n",
              "      <th>4</th>\n",
              "      <td>anonymized_1033.jpg</td>\n",
              "      <td>58</td>\n",
              "    </tr>\n",
              "  </tbody>\n",
              "</table>\n",
              "</div>\n",
              "      <button class=\"colab-df-convert\" onclick=\"convertToInteractive('df-a8c83f4a-6936-408e-81ea-a083a6ff3b98')\"\n",
              "              title=\"Convert this dataframe to an interactive table.\"\n",
              "              style=\"display:none;\">\n",
              "        \n",
              "  <svg xmlns=\"http://www.w3.org/2000/svg\" height=\"24px\"viewBox=\"0 0 24 24\"\n",
              "       width=\"24px\">\n",
              "    <path d=\"M0 0h24v24H0V0z\" fill=\"none\"/>\n",
              "    <path d=\"M18.56 5.44l.94 2.06.94-2.06 2.06-.94-2.06-.94-.94-2.06-.94 2.06-2.06.94zm-11 1L8.5 8.5l.94-2.06 2.06-.94-2.06-.94L8.5 2.5l-.94 2.06-2.06.94zm10 10l.94 2.06.94-2.06 2.06-.94-2.06-.94-.94-2.06-.94 2.06-2.06.94z\"/><path d=\"M17.41 7.96l-1.37-1.37c-.4-.4-.92-.59-1.43-.59-.52 0-1.04.2-1.43.59L10.3 9.45l-7.72 7.72c-.78.78-.78 2.05 0 2.83L4 21.41c.39.39.9.59 1.41.59.51 0 1.02-.2 1.41-.59l7.78-7.78 2.81-2.81c.8-.78.8-2.07 0-2.86zM5.41 20L4 18.59l7.72-7.72 1.47 1.35L5.41 20z\"/>\n",
              "  </svg>\n",
              "      </button>\n",
              "      \n",
              "  <style>\n",
              "    .colab-df-container {\n",
              "      display:flex;\n",
              "      flex-wrap:wrap;\n",
              "      gap: 12px;\n",
              "    }\n",
              "\n",
              "    .colab-df-convert {\n",
              "      background-color: #E8F0FE;\n",
              "      border: none;\n",
              "      border-radius: 50%;\n",
              "      cursor: pointer;\n",
              "      display: none;\n",
              "      fill: #1967D2;\n",
              "      height: 32px;\n",
              "      padding: 0 0 0 0;\n",
              "      width: 32px;\n",
              "    }\n",
              "\n",
              "    .colab-df-convert:hover {\n",
              "      background-color: #E2EBFA;\n",
              "      box-shadow: 0px 1px 2px rgba(60, 64, 67, 0.3), 0px 1px 3px 1px rgba(60, 64, 67, 0.15);\n",
              "      fill: #174EA6;\n",
              "    }\n",
              "\n",
              "    [theme=dark] .colab-df-convert {\n",
              "      background-color: #3B4455;\n",
              "      fill: #D2E3FC;\n",
              "    }\n",
              "\n",
              "    [theme=dark] .colab-df-convert:hover {\n",
              "      background-color: #434B5C;\n",
              "      box-shadow: 0px 1px 3px 1px rgba(0, 0, 0, 0.15);\n",
              "      filter: drop-shadow(0px 1px 2px rgba(0, 0, 0, 0.3));\n",
              "      fill: #FFFFFF;\n",
              "    }\n",
              "  </style>\n",
              "\n",
              "      <script>\n",
              "        const buttonEl =\n",
              "          document.querySelector('#df-a8c83f4a-6936-408e-81ea-a083a6ff3b98 button.colab-df-convert');\n",
              "        buttonEl.style.display =\n",
              "          google.colab.kernel.accessAllowed ? 'block' : 'none';\n",
              "\n",
              "        async function convertToInteractive(key) {\n",
              "          const element = document.querySelector('#df-a8c83f4a-6936-408e-81ea-a083a6ff3b98');\n",
              "          const dataTable =\n",
              "            await google.colab.kernel.invokeFunction('convertToInteractive',\n",
              "                                                     [key], {});\n",
              "          if (!dataTable) return;\n",
              "\n",
              "          const docLinkHtml = 'Like what you see? Visit the ' +\n",
              "            '<a target=\"_blank\" href=https://colab.research.google.com/notebooks/data_table.ipynb>data table notebook</a>'\n",
              "            + ' to learn more about interactive tables.';\n",
              "          element.innerHTML = '';\n",
              "          dataTable['output_type'] = 'display_data';\n",
              "          await google.colab.output.renderOutput(dataTable, element);\n",
              "          const docLink = document.createElement('div');\n",
              "          docLink.innerHTML = docLinkHtml;\n",
              "          element.appendChild(docLink);\n",
              "        }\n",
              "      </script>\n",
              "    </div>\n",
              "  </div>\n",
              "  "
            ]
          },
          "metadata": {},
          "execution_count": 13
        }
      ]
    },
    {
      "cell_type": "code",
      "source": [
        "df.tail()"
      ],
      "metadata": {
        "id": "GXxeJaIFY05Q",
        "colab": {
          "base_uri": "https://localhost:8080/",
          "height": 206
        },
        "outputId": "680b70ae-3082-419d-a5d3-06b9a8dace87"
      },
      "execution_count": null,
      "outputs": [
        {
          "output_type": "execute_result",
          "data": {
            "text/plain": [
              "                  nombre_foto  edad\n",
              "444760  anonymized_644484.jpg    56\n",
              "444761  anonymized_253985.jpg    70\n",
              "444762  anonymized_253984.jpg    70\n",
              "444763  anonymized_239167.jpg    20\n",
              "444764  anonymized_239168.jpg    20"
            ],
            "text/html": [
              "\n",
              "  <div id=\"df-95cc7195-fa3c-4a8c-b372-2939f3a378a3\">\n",
              "    <div class=\"colab-df-container\">\n",
              "      <div>\n",
              "<style scoped>\n",
              "    .dataframe tbody tr th:only-of-type {\n",
              "        vertical-align: middle;\n",
              "    }\n",
              "\n",
              "    .dataframe tbody tr th {\n",
              "        vertical-align: top;\n",
              "    }\n",
              "\n",
              "    .dataframe thead th {\n",
              "        text-align: right;\n",
              "    }\n",
              "</style>\n",
              "<table border=\"1\" class=\"dataframe\">\n",
              "  <thead>\n",
              "    <tr style=\"text-align: right;\">\n",
              "      <th></th>\n",
              "      <th>nombre_foto</th>\n",
              "      <th>edad</th>\n",
              "    </tr>\n",
              "  </thead>\n",
              "  <tbody>\n",
              "    <tr>\n",
              "      <th>444760</th>\n",
              "      <td>anonymized_644484.jpg</td>\n",
              "      <td>56</td>\n",
              "    </tr>\n",
              "    <tr>\n",
              "      <th>444761</th>\n",
              "      <td>anonymized_253985.jpg</td>\n",
              "      <td>70</td>\n",
              "    </tr>\n",
              "    <tr>\n",
              "      <th>444762</th>\n",
              "      <td>anonymized_253984.jpg</td>\n",
              "      <td>70</td>\n",
              "    </tr>\n",
              "    <tr>\n",
              "      <th>444763</th>\n",
              "      <td>anonymized_239167.jpg</td>\n",
              "      <td>20</td>\n",
              "    </tr>\n",
              "    <tr>\n",
              "      <th>444764</th>\n",
              "      <td>anonymized_239168.jpg</td>\n",
              "      <td>20</td>\n",
              "    </tr>\n",
              "  </tbody>\n",
              "</table>\n",
              "</div>\n",
              "      <button class=\"colab-df-convert\" onclick=\"convertToInteractive('df-95cc7195-fa3c-4a8c-b372-2939f3a378a3')\"\n",
              "              title=\"Convert this dataframe to an interactive table.\"\n",
              "              style=\"display:none;\">\n",
              "        \n",
              "  <svg xmlns=\"http://www.w3.org/2000/svg\" height=\"24px\"viewBox=\"0 0 24 24\"\n",
              "       width=\"24px\">\n",
              "    <path d=\"M0 0h24v24H0V0z\" fill=\"none\"/>\n",
              "    <path d=\"M18.56 5.44l.94 2.06.94-2.06 2.06-.94-2.06-.94-.94-2.06-.94 2.06-2.06.94zm-11 1L8.5 8.5l.94-2.06 2.06-.94-2.06-.94L8.5 2.5l-.94 2.06-2.06.94zm10 10l.94 2.06.94-2.06 2.06-.94-2.06-.94-.94-2.06-.94 2.06-2.06.94z\"/><path d=\"M17.41 7.96l-1.37-1.37c-.4-.4-.92-.59-1.43-.59-.52 0-1.04.2-1.43.59L10.3 9.45l-7.72 7.72c-.78.78-.78 2.05 0 2.83L4 21.41c.39.39.9.59 1.41.59.51 0 1.02-.2 1.41-.59l7.78-7.78 2.81-2.81c.8-.78.8-2.07 0-2.86zM5.41 20L4 18.59l7.72-7.72 1.47 1.35L5.41 20z\"/>\n",
              "  </svg>\n",
              "      </button>\n",
              "      \n",
              "  <style>\n",
              "    .colab-df-container {\n",
              "      display:flex;\n",
              "      flex-wrap:wrap;\n",
              "      gap: 12px;\n",
              "    }\n",
              "\n",
              "    .colab-df-convert {\n",
              "      background-color: #E8F0FE;\n",
              "      border: none;\n",
              "      border-radius: 50%;\n",
              "      cursor: pointer;\n",
              "      display: none;\n",
              "      fill: #1967D2;\n",
              "      height: 32px;\n",
              "      padding: 0 0 0 0;\n",
              "      width: 32px;\n",
              "    }\n",
              "\n",
              "    .colab-df-convert:hover {\n",
              "      background-color: #E2EBFA;\n",
              "      box-shadow: 0px 1px 2px rgba(60, 64, 67, 0.3), 0px 1px 3px 1px rgba(60, 64, 67, 0.15);\n",
              "      fill: #174EA6;\n",
              "    }\n",
              "\n",
              "    [theme=dark] .colab-df-convert {\n",
              "      background-color: #3B4455;\n",
              "      fill: #D2E3FC;\n",
              "    }\n",
              "\n",
              "    [theme=dark] .colab-df-convert:hover {\n",
              "      background-color: #434B5C;\n",
              "      box-shadow: 0px 1px 3px 1px rgba(0, 0, 0, 0.15);\n",
              "      filter: drop-shadow(0px 1px 2px rgba(0, 0, 0, 0.3));\n",
              "      fill: #FFFFFF;\n",
              "    }\n",
              "  </style>\n",
              "\n",
              "      <script>\n",
              "        const buttonEl =\n",
              "          document.querySelector('#df-95cc7195-fa3c-4a8c-b372-2939f3a378a3 button.colab-df-convert');\n",
              "        buttonEl.style.display =\n",
              "          google.colab.kernel.accessAllowed ? 'block' : 'none';\n",
              "\n",
              "        async function convertToInteractive(key) {\n",
              "          const element = document.querySelector('#df-95cc7195-fa3c-4a8c-b372-2939f3a378a3');\n",
              "          const dataTable =\n",
              "            await google.colab.kernel.invokeFunction('convertToInteractive',\n",
              "                                                     [key], {});\n",
              "          if (!dataTable) return;\n",
              "\n",
              "          const docLinkHtml = 'Like what you see? Visit the ' +\n",
              "            '<a target=\"_blank\" href=https://colab.research.google.com/notebooks/data_table.ipynb>data table notebook</a>'\n",
              "            + ' to learn more about interactive tables.';\n",
              "          element.innerHTML = '';\n",
              "          dataTable['output_type'] = 'display_data';\n",
              "          await google.colab.output.renderOutput(dataTable, element);\n",
              "          const docLink = document.createElement('div');\n",
              "          docLink.innerHTML = docLinkHtml;\n",
              "          element.appendChild(docLink);\n",
              "        }\n",
              "      </script>\n",
              "    </div>\n",
              "  </div>\n",
              "  "
            ]
          },
          "metadata": {},
          "execution_count": 14
        }
      ]
    },
    {
      "cell_type": "code",
      "source": [
        "print('Retina dataframe shape:', df.shape)\n"
      ],
      "metadata": {
        "id": "BkwEJ4Qlt3wT",
        "colab": {
          "base_uri": "https://localhost:8080/"
        },
        "outputId": "d18dea5d-2933-41fd-fd85-becec2d3237a"
      },
      "execution_count": null,
      "outputs": [
        {
          "output_type": "stream",
          "name": "stdout",
          "text": [
            "Retina dataframe shape: (444765, 2)\n"
          ]
        }
      ]
    },
    {
      "cell_type": "markdown",
      "source": [
        "Este dataframe contiene 444765 filas y 2 columnas. \n"
      ],
      "metadata": {
        "id": "kWITbLKeulcE"
      }
    },
    {
      "cell_type": "markdown",
      "metadata": {
        "id": "AoggeJtmhaZN"
      },
      "source": [
        "Se verifica si el dataframe df contiene datos nulos, erróneos, NaN o vacíos"
      ]
    },
    {
      "cell_type": "code",
      "source": [
        "#Verifica si el df tiene datos nulos o vacíos\n",
        "df.isnull().sum() "
      ],
      "metadata": {
        "id": "KpJxrjluVXVO",
        "colab": {
          "base_uri": "https://localhost:8080/"
        },
        "outputId": "02a56427-87f3-4218-af9d-23c679e4903a"
      },
      "execution_count": null,
      "outputs": [
        {
          "output_type": "execute_result",
          "data": {
            "text/plain": [
              "nombre_foto    0\n",
              "edad           0\n",
              "dtype: int64"
            ]
          },
          "metadata": {},
          "execution_count": 16
        }
      ]
    },
    {
      "cell_type": "markdown",
      "source": [
        "Es importante conocer una estadística de los datos del df"
      ],
      "metadata": {
        "id": "XSHHEHdIWvuP"
      }
    },
    {
      "cell_type": "code",
      "source": [
        "df.describe()"
      ],
      "metadata": {
        "id": "eoNUxcNEvEdQ",
        "colab": {
          "base_uri": "https://localhost:8080/",
          "height": 300
        },
        "outputId": "548eefe7-6236-4037-cd60-1f6e63511890"
      },
      "execution_count": null,
      "outputs": [
        {
          "output_type": "execute_result",
          "data": {
            "text/plain": [
              "               edad\n",
              "count  4.447650e+05\n",
              "mean   1.644584e+02\n",
              "std    4.465722e+04\n",
              "min    0.000000e+00\n",
              "25%    4.000000e+01\n",
              "50%    5.200000e+01\n",
              "75%    6.300000e+01\n",
              "max    2.802198e+07"
            ],
            "text/html": [
              "\n",
              "  <div id=\"df-54fb8ae1-4c0d-451e-aa1c-27ec5add2f62\">\n",
              "    <div class=\"colab-df-container\">\n",
              "      <div>\n",
              "<style scoped>\n",
              "    .dataframe tbody tr th:only-of-type {\n",
              "        vertical-align: middle;\n",
              "    }\n",
              "\n",
              "    .dataframe tbody tr th {\n",
              "        vertical-align: top;\n",
              "    }\n",
              "\n",
              "    .dataframe thead th {\n",
              "        text-align: right;\n",
              "    }\n",
              "</style>\n",
              "<table border=\"1\" class=\"dataframe\">\n",
              "  <thead>\n",
              "    <tr style=\"text-align: right;\">\n",
              "      <th></th>\n",
              "      <th>edad</th>\n",
              "    </tr>\n",
              "  </thead>\n",
              "  <tbody>\n",
              "    <tr>\n",
              "      <th>count</th>\n",
              "      <td>4.447650e+05</td>\n",
              "    </tr>\n",
              "    <tr>\n",
              "      <th>mean</th>\n",
              "      <td>1.644584e+02</td>\n",
              "    </tr>\n",
              "    <tr>\n",
              "      <th>std</th>\n",
              "      <td>4.465722e+04</td>\n",
              "    </tr>\n",
              "    <tr>\n",
              "      <th>min</th>\n",
              "      <td>0.000000e+00</td>\n",
              "    </tr>\n",
              "    <tr>\n",
              "      <th>25%</th>\n",
              "      <td>4.000000e+01</td>\n",
              "    </tr>\n",
              "    <tr>\n",
              "      <th>50%</th>\n",
              "      <td>5.200000e+01</td>\n",
              "    </tr>\n",
              "    <tr>\n",
              "      <th>75%</th>\n",
              "      <td>6.300000e+01</td>\n",
              "    </tr>\n",
              "    <tr>\n",
              "      <th>max</th>\n",
              "      <td>2.802198e+07</td>\n",
              "    </tr>\n",
              "  </tbody>\n",
              "</table>\n",
              "</div>\n",
              "      <button class=\"colab-df-convert\" onclick=\"convertToInteractive('df-54fb8ae1-4c0d-451e-aa1c-27ec5add2f62')\"\n",
              "              title=\"Convert this dataframe to an interactive table.\"\n",
              "              style=\"display:none;\">\n",
              "        \n",
              "  <svg xmlns=\"http://www.w3.org/2000/svg\" height=\"24px\"viewBox=\"0 0 24 24\"\n",
              "       width=\"24px\">\n",
              "    <path d=\"M0 0h24v24H0V0z\" fill=\"none\"/>\n",
              "    <path d=\"M18.56 5.44l.94 2.06.94-2.06 2.06-.94-2.06-.94-.94-2.06-.94 2.06-2.06.94zm-11 1L8.5 8.5l.94-2.06 2.06-.94-2.06-.94L8.5 2.5l-.94 2.06-2.06.94zm10 10l.94 2.06.94-2.06 2.06-.94-2.06-.94-.94-2.06-.94 2.06-2.06.94z\"/><path d=\"M17.41 7.96l-1.37-1.37c-.4-.4-.92-.59-1.43-.59-.52 0-1.04.2-1.43.59L10.3 9.45l-7.72 7.72c-.78.78-.78 2.05 0 2.83L4 21.41c.39.39.9.59 1.41.59.51 0 1.02-.2 1.41-.59l7.78-7.78 2.81-2.81c.8-.78.8-2.07 0-2.86zM5.41 20L4 18.59l7.72-7.72 1.47 1.35L5.41 20z\"/>\n",
              "  </svg>\n",
              "      </button>\n",
              "      \n",
              "  <style>\n",
              "    .colab-df-container {\n",
              "      display:flex;\n",
              "      flex-wrap:wrap;\n",
              "      gap: 12px;\n",
              "    }\n",
              "\n",
              "    .colab-df-convert {\n",
              "      background-color: #E8F0FE;\n",
              "      border: none;\n",
              "      border-radius: 50%;\n",
              "      cursor: pointer;\n",
              "      display: none;\n",
              "      fill: #1967D2;\n",
              "      height: 32px;\n",
              "      padding: 0 0 0 0;\n",
              "      width: 32px;\n",
              "    }\n",
              "\n",
              "    .colab-df-convert:hover {\n",
              "      background-color: #E2EBFA;\n",
              "      box-shadow: 0px 1px 2px rgba(60, 64, 67, 0.3), 0px 1px 3px 1px rgba(60, 64, 67, 0.15);\n",
              "      fill: #174EA6;\n",
              "    }\n",
              "\n",
              "    [theme=dark] .colab-df-convert {\n",
              "      background-color: #3B4455;\n",
              "      fill: #D2E3FC;\n",
              "    }\n",
              "\n",
              "    [theme=dark] .colab-df-convert:hover {\n",
              "      background-color: #434B5C;\n",
              "      box-shadow: 0px 1px 3px 1px rgba(0, 0, 0, 0.15);\n",
              "      filter: drop-shadow(0px 1px 2px rgba(0, 0, 0, 0.3));\n",
              "      fill: #FFFFFF;\n",
              "    }\n",
              "  </style>\n",
              "\n",
              "      <script>\n",
              "        const buttonEl =\n",
              "          document.querySelector('#df-54fb8ae1-4c0d-451e-aa1c-27ec5add2f62 button.colab-df-convert');\n",
              "        buttonEl.style.display =\n",
              "          google.colab.kernel.accessAllowed ? 'block' : 'none';\n",
              "\n",
              "        async function convertToInteractive(key) {\n",
              "          const element = document.querySelector('#df-54fb8ae1-4c0d-451e-aa1c-27ec5add2f62');\n",
              "          const dataTable =\n",
              "            await google.colab.kernel.invokeFunction('convertToInteractive',\n",
              "                                                     [key], {});\n",
              "          if (!dataTable) return;\n",
              "\n",
              "          const docLinkHtml = 'Like what you see? Visit the ' +\n",
              "            '<a target=\"_blank\" href=https://colab.research.google.com/notebooks/data_table.ipynb>data table notebook</a>'\n",
              "            + ' to learn more about interactive tables.';\n",
              "          element.innerHTML = '';\n",
              "          dataTable['output_type'] = 'display_data';\n",
              "          await google.colab.output.renderOutput(dataTable, element);\n",
              "          const docLink = document.createElement('div');\n",
              "          docLink.innerHTML = docLinkHtml;\n",
              "          element.appendChild(docLink);\n",
              "        }\n",
              "      </script>\n",
              "    </div>\n",
              "  </div>\n",
              "  "
            ]
          },
          "metadata": {},
          "execution_count": 17
        }
      ]
    },
    {
      "cell_type": "markdown",
      "source": [
        "De acuerdo a la descripción anterior, no es clara la estadística producida, esto se debe a que el dataframe puede contener datos erróneos, tipo NaN o la información contiene valores extremos, entre otros factores. Para ello estudiaremos los campos `edad` y `nombre_foto`."
      ],
      "metadata": {
        "id": "5QVdrNmfY2ce"
      }
    },
    {
      "cell_type": "markdown",
      "source": [
        "Se realiza una copia del dataframe para no modificar los datos iniciales"
      ],
      "metadata": {
        "id": "v72NsbJfVZMS"
      }
    },
    {
      "cell_type": "code",
      "source": [
        "df2 = df[['nombre_foto', 'edad']].copy()"
      ],
      "metadata": {
        "id": "KJyIldtYVXLe"
      },
      "execution_count": null,
      "outputs": []
    },
    {
      "cell_type": "markdown",
      "source": [
        "Se analiza el tipo de dato para cada campo\n",
        "\n",
        "\n",
        "\n",
        "\n",
        "\n",
        "\n",
        "\n"
      ],
      "metadata": {
        "id": "lx4QZSDkVpQV"
      }
    },
    {
      "cell_type": "code",
      "source": [
        "print(\"El tipo de dato del campo nombre_foto es: \", df2['nombre_foto'].dtype)\n",
        "print(\"El tipo de dato del campo edad es: \", df2['edad'].dtype)"
      ],
      "metadata": {
        "id": "mARYfWfbVXO1",
        "colab": {
          "base_uri": "https://localhost:8080/"
        },
        "outputId": "c042c69e-0977-49bb-be22-04692de4e3af"
      },
      "execution_count": null,
      "outputs": [
        {
          "output_type": "stream",
          "name": "stdout",
          "text": [
            "El tipo de dato del campo nombre_foto es:  object\n",
            "El tipo de dato del campo edad es:  int64\n"
          ]
        }
      ]
    },
    {
      "cell_type": "markdown",
      "source": [
        "En el campo `nombre_foto` los datos son de tipo object y en `edad` son de tipo entero."
      ],
      "metadata": {
        "id": "RY_y525qFa6O"
      }
    },
    {
      "cell_type": "markdown",
      "source": [
        "También, se puede visualizar mediante un histograma cómo están distribuidos los datos del campo `edad` "
      ],
      "metadata": {
        "id": "QG9OswW3V8S_"
      }
    },
    {
      "cell_type": "code",
      "source": [
        "hist_age = df2['edad'].hist(bins=df2['edad'].nunique())"
      ],
      "metadata": {
        "id": "PIm0bsF1VXR2",
        "colab": {
          "base_uri": "https://localhost:8080/",
          "height": 278
        },
        "outputId": "7c42f1f4-c2ae-4a8e-90db-25657a37d09b"
      },
      "execution_count": null,
      "outputs": [
        {
          "output_type": "display_data",
          "data": {
            "text/plain": [
              "<Figure size 432x288 with 1 Axes>"
            ],
            "image/png": "[encoded data removed]"
          },
          "metadata": {
            "needs_background": "light"
          }
        }
      ]
    },
    {
      "cell_type": "markdown",
      "source": [
        "Se puede observar que no se presenta una buena representación de los datos. Hay un punto de acumulación de datos en el valor 0. Para analizar mejor este comportamiento, se realiza un preprocesado de los datos "
      ],
      "metadata": {
        "id": "5hp_TaY2WKhm"
      }
    },
    {
      "cell_type": "markdown",
      "source": [
        "**1. Data cleaning**\n",
        "\n",
        "En este paso, se quiere revisar con detalle si hay datos que se repiten en la columna `nombre_foto`, si los datos de la columna `edad` tienen mucho sentido en la realidad, por ejemplo, si se tienen datos negativos o si son números muy alto, si en ambas columnas hacen falta datos, si hay erróneos, tipo NaN o vacíos, ver si hay outliers, finalmente se revisa si algunos datos deben eliminarse, entre otras características."
      ],
      "metadata": {
        "id": "QWz8iDxAvPHn"
      }
    },
    {
      "cell_type": "markdown",
      "metadata": {
        "id": "qh6fVJMhv2Ef"
      },
      "source": [
        "Se verifica si el dataframe df contiene datos nulos, erróneos, NaN o vacíos"
      ]
    },
    {
      "cell_type": "code",
      "source": [
        "#Verifica si el df tiene datos nulos o vacíos\n",
        "df2.isnull().sum() "
      ],
      "metadata": {
        "id": "Bo0KqNuqv2Eg",
        "colab": {
          "base_uri": "https://localhost:8080/"
        },
        "outputId": "8ba10bcd-0072-420f-b914-238aaace7a76"
      },
      "execution_count": null,
      "outputs": [
        {
          "output_type": "execute_result",
          "data": {
            "text/plain": [
              "nombre_foto    0\n",
              "edad           0\n",
              "dtype: int64"
            ]
          },
          "metadata": {},
          "execution_count": 21
        }
      ]
    },
    {
      "cell_type": "markdown",
      "source": [
        "Se puede ver, que este dataset no tiene valores nulos, erróneos o NaN. Además, es importante verficiar si existen imágenes con el mismo nombre, es decir, duplicadas, y esto se puede observar en la campo `nombre_foto`. Por lo tanto, se estudia si tiene instancias repetidas.\n",
        "\n"
      ],
      "metadata": {
        "id": "zC1KX8bYv2Ek"
      }
    },
    {
      "cell_type": "code",
      "source": [
        "dup_values = df2.duplicated(subset=['nombre_foto'],keep=False )"
      ],
      "metadata": {
        "id": "UpjPUl_jVXX_"
      },
      "execution_count": null,
      "outputs": []
    },
    {
      "cell_type": "code",
      "source": [
        "dup_values.sum()"
      ],
      "metadata": {
        "id": "dcDCHbNSVXaf",
        "colab": {
          "base_uri": "https://localhost:8080/"
        },
        "outputId": "9a4d5762-b881-48da-ae39-c2a2aa81e180"
      },
      "execution_count": null,
      "outputs": [
        {
          "output_type": "execute_result",
          "data": {
            "text/plain": [
              "100"
            ]
          },
          "metadata": {},
          "execution_count": 23
        }
      ]
    },
    {
      "cell_type": "markdown",
      "source": [
        "En efecto, hay 100 datos duplicados en este campo. Se procede a eliminarlos"
      ],
      "metadata": {
        "id": "OSXCz8olXsQj"
      }
    },
    {
      "cell_type": "code",
      "source": [
        "df2 = df2[~dup_values]"
      ],
      "metadata": {
        "id": "TSMAnnJNVXeJ"
      },
      "execution_count": null,
      "outputs": []
    },
    {
      "cell_type": "markdown",
      "source": [
        "Se verifica que no hayan quedado datos duplicados"
      ],
      "metadata": {
        "id": "Klsh-y9LYFRk"
      }
    },
    {
      "cell_type": "code",
      "source": [
        "df2.duplicated(keep=False).sum()"
      ],
      "metadata": {
        "id": "Vt7vltHGX8Jq",
        "colab": {
          "base_uri": "https://localhost:8080/"
        },
        "outputId": "08a27689-d719-47ce-cc4c-3865d7bc9be3"
      },
      "execution_count": null,
      "outputs": [
        {
          "output_type": "execute_result",
          "data": {
            "text/plain": [
              "0"
            ]
          },
          "metadata": {},
          "execution_count": 25
        }
      ]
    },
    {
      "cell_type": "markdown",
      "source": [
        "Una característica importante para que el campo `edad` tenga sentido en la realidad, es que no existen edades negativas, de esta manera, se revisa que el dataset no tenga datos negativos en este campo, además se observa el dato máximo y mínimo"
      ],
      "metadata": {
        "id": "enGcLXyxYNSI"
      }
    },
    {
      "cell_type": "code",
      "source": [
        "(df2['edad']<0).sum()"
      ],
      "metadata": {
        "id": "kVY4CKQYX8Od",
        "colab": {
          "base_uri": "https://localhost:8080/"
        },
        "outputId": "bb16999f-bb31-4efe-9ea6-66bf6fde63c2"
      },
      "execution_count": null,
      "outputs": [
        {
          "output_type": "execute_result",
          "data": {
            "text/plain": [
              "0"
            ]
          },
          "metadata": {},
          "execution_count": 26
        }
      ]
    },
    {
      "cell_type": "code",
      "source": [
        "print(\"Edad mínima del dataset = \", df2['edad'].min())\n",
        "print(\"Edad máxima del dataset = \", df2['edad'].max())\n"
      ],
      "metadata": {
        "id": "SgStvmSqZg-z",
        "colab": {
          "base_uri": "https://localhost:8080/"
        },
        "outputId": "1b7b6d5b-8823-40cc-a65e-0ae0a6af4c98"
      },
      "execution_count": null,
      "outputs": [
        {
          "output_type": "stream",
          "name": "stdout",
          "text": [
            "Edad mínima del dataset =  0\n",
            "Edad máxima del dataset =  28021979\n"
          ]
        }
      ]
    },
    {
      "cell_type": "markdown",
      "source": [
        "En efecto, no tiene datos negativos. No obstante, se observa que la edad mínima es 0 años y la máxima es 28021979 años. Ahora bien, se puede ver con más detalle los valores de las edades y cuántos datos hay para cada edad"
      ],
      "metadata": {
        "id": "pb9TpyUcYfWE"
      }
    },
    {
      "cell_type": "code",
      "source": [
        "age_counts = df2['edad'].value_counts()\n",
        "age_counts"
      ],
      "metadata": {
        "id": "zEnSsnMdX8Rd",
        "colab": {
          "base_uri": "https://localhost:8080/"
        },
        "outputId": "19f8a820-c638-40eb-fc08-53dc73d29e2a"
      },
      "execution_count": null,
      "outputs": [
        {
          "output_type": "execute_result",
          "data": {
            "text/plain": [
              "50          11459\n",
              "52          11361\n",
              "51          10973\n",
              "49          10962\n",
              "55          10923\n",
              "            ...  \n",
              "574             1\n",
              "152             1\n",
              "28021979        1\n",
              "956             1\n",
              "560             1\n",
              "Name: edad, Length: 179, dtype: int64"
            ]
          },
          "metadata": {},
          "execution_count": 28
        }
      ]
    },
    {
      "cell_type": "markdown",
      "source": [
        "Como se pudo observar, hay edades que son, un sólo dato, además, hay edades como 574 años y 28021979 años, así pues, se va a revisar esto para darle un sentido más real a los datos, se recuerda que son datos reales de personas. "
      ],
      "metadata": {
        "id": "AtGHIMDnY2vE"
      }
    },
    {
      "cell_type": "markdown",
      "metadata": {
        "id": "jHcOYpuofk5a"
      },
      "source": [
        "**3.** No se eliminan registros que no tienen información de edad, porque todos los datos de esta columna están completos."
      ]
    },
    {
      "cell_type": "markdown",
      "metadata": {
        "id": "ie8NnDmsGg8R"
      },
      "source": [
        "**4.** Se observan edades de 574 años e incluso de 28021979 años. Dado que estos valores son atípicos en los que se consideran edades biólogicas de las personas, entonces se restringe la edad para valores positivos entre 0 años y 100 años. Porque consideramos que son los valores en promedio de la edad biológica de un paciente. \n",
        "\n",
        "Por lo tanto, también se eliminan los datos de las imágenes con más de 100 años"
      ]
    },
    {
      "cell_type": "code",
      "source": [
        "df2 = df2[df2['edad'] < 100] # Para ambos valores: The truth value of a Series is ambiguous. Use a.empty, a.bool(), a.item(), a.any() or a.all().\n",
        " \n",
        "#Se toman valores mayores que 0\n",
        "df2 = df2[df2['edad'] > 0]  #Con edad de 0 no tiene sentido"
      ],
      "metadata": {
        "id": "0FOH0bVfX8T6"
      },
      "execution_count": null,
      "outputs": []
    },
    {
      "cell_type": "markdown",
      "source": [
        "Se revisan nuevamente las dimensiones del dataset después del preprocesado"
      ],
      "metadata": {
        "id": "dWdSNi2maab4"
      }
    },
    {
      "cell_type": "code",
      "source": [
        "df2.shape"
      ],
      "metadata": {
        "id": "wVwRAVvMX8W5",
        "colab": {
          "base_uri": "https://localhost:8080/"
        },
        "outputId": "11d830f3-f79d-4021-ff47-871403ad47ee"
      },
      "execution_count": null,
      "outputs": [
        {
          "output_type": "execute_result",
          "data": {
            "text/plain": [
              "(437394, 2)"
            ]
          },
          "metadata": {},
          "execution_count": 30
        }
      ]
    },
    {
      "cell_type": "markdown",
      "source": [
        "Se ha reducido a 437394 datos. Ahora, la edad mínima y máxima están dadas por"
      ],
      "metadata": {
        "id": "7LY7H7ntamWF"
      }
    },
    {
      "cell_type": "code",
      "source": [
        "print(\"Edad mínima del dataset = \", df2['edad'].min())\n",
        "print(\"Edad máxima del dataset = \", df2['edad'].max())"
      ],
      "metadata": {
        "id": "Afam3JuxX8Zy",
        "colab": {
          "base_uri": "https://localhost:8080/"
        },
        "outputId": "b36579ef-f4d2-41af-fe4f-9eeaf816c027"
      },
      "execution_count": null,
      "outputs": [
        {
          "output_type": "stream",
          "name": "stdout",
          "text": [
            "Edad mínima del dataset =  1\n",
            "Edad máxima del dataset =  99\n"
          ]
        }
      ]
    },
    {
      "cell_type": "markdown",
      "source": [
        "Ahora la edad mínima es 1 años y la edad máxima es 99 años."
      ],
      "metadata": {
        "id": "8X18-rusKGCS"
      }
    },
    {
      "cell_type": "markdown",
      "metadata": {
        "id": "mZGF3eVNyMFn"
      },
      "source": [
        "**5.** Se visualizan las distribuciones de la variable objetivo `age` "
      ]
    },
    {
      "cell_type": "code",
      "execution_count": null,
      "metadata": {
        "colab": {
          "base_uri": "https://localhost:8080/",
          "height": 269
        },
        "outputId": "e2c84fe1-f33a-43a1-b20b-d84d4be11945",
        "id": "TzpKSG5MK26f"
      },
      "outputs": [
        {
          "output_type": "display_data",
          "data": {
            "text/plain": [
              "<Figure size 432x288 with 1 Axes>"
            ],
            "image/png": "[encoded data removed]"
          },
          "metadata": {
            "needs_background": "light"
          }
        }
      ],
      "source": [
        "hist_age1 = df2['edad'].hist(bins=df2['edad'].nunique())"
      ]
    },
    {
      "cell_type": "markdown",
      "metadata": {
        "id": "5XZzR2A9mVFJ"
      },
      "source": [
        "La edad de las imágenes se encuentran más acumuladas entre el rango de 40 años y 70 años "
      ]
    },
    {
      "cell_type": "code",
      "execution_count": null,
      "metadata": {
        "colab": {
          "base_uri": "https://localhost:8080/"
        },
        "id": "cBlt2a_q1acM",
        "outputId": "51bc835d-0770-45d9-bdb0-9b3567a3670c"
      },
      "outputs": [
        {
          "output_type": "execute_result",
          "data": {
            "text/plain": [
              "50    11459\n",
              "52    11361\n",
              "51    10973\n",
              "49    10962\n",
              "55    10923\n",
              "      ...  \n",
              "96       31\n",
              "97       25\n",
              "99       17\n",
              "2        10\n",
              "98       10\n",
              "Name: edad, Length: 99, dtype: int64"
            ]
          },
          "metadata": {},
          "execution_count": 33
        }
      ],
      "source": [
        "df2.edad.value_counts()"
      ]
    },
    {
      "cell_type": "markdown",
      "source": [
        "La edad que más datos tiene es 56 años con 11459 registros, las que menos datos tienen son 2 años y 98 años con 10 registros cada una."
      ],
      "metadata": {
        "id": "7MXrl8e6LExv"
      }
    },
    {
      "cell_type": "markdown",
      "source": [
        "También analizamos si este dataset obtenido presenta muchos outliers"
      ],
      "metadata": {
        "id": "LsgTbPlg6LT_"
      }
    },
    {
      "cell_type": "code",
      "source": [
        "import seaborn as sns"
      ],
      "metadata": {
        "id": "jR1XwomALhMj"
      },
      "execution_count": null,
      "outputs": []
    },
    {
      "cell_type": "code",
      "source": [
        "sns.set(rc={'figure.figsize':(15,5)})\n",
        "sns.set_theme(style=\"whitegrid\")\n",
        "ax = sns.boxplot(x=df2[\"edad\"], palette=\"Set2\")\n",
        "ax.set(xlabel='Edad',ylabel='Cantidad')\n",
        "ax.set(xlim=(0,100))"
      ],
      "metadata": {
        "colab": {
          "base_uri": "https://localhost:8080/",
          "height": 356
        },
        "id": "WL_mXUl4On3g",
        "outputId": "fe3afbc9-6645-4f61-d903-9ac66861f631"
      },
      "execution_count": null,
      "outputs": [
        {
          "output_type": "execute_result",
          "data": {
            "text/plain": [
              "[(0.0, 100.0)]"
            ]
          },
          "metadata": {},
          "execution_count": 39
        },
        {
          "output_type": "display_data",
          "data": {
            "text/plain": [
              "<Figure size 1080x360 with 1 Axes>"
            ],
            "image/png": "[encoded data removed]"
          },
          "metadata": {}
        }
      ]
    },
    {
      "cell_type": "markdown",
      "source": [
        "Los outliers que se observan son para los datos cercanos a los 0 años y a los 100 años. Esto quiere decir, que para valores de estas edades no tenemos muchos registros, sin embargo, se consideran relevantes para este estudio y no son eliminados, así tendremos más información de las edades en todo el rango de 0 a 100 años."
      ],
      "metadata": {
        "id": "eH4Fw8dRQm1r"
      }
    },
    {
      "cell_type": "markdown",
      "source": [
        "**7.** Finalmente, se ha realizado un preprocesado de los datos y se genera un nuevo dataframe df2"
      ],
      "metadata": {
        "id": "xSRly10vynho"
      }
    },
    {
      "cell_type": "code",
      "source": [
        "df2.head()"
      ],
      "metadata": {
        "id": "YfD_Wb4jzF6a",
        "colab": {
          "base_uri": "https://localhost:8080/",
          "height": 206
        },
        "outputId": "9f148339-16c2-4544-851a-31b0bf645f87"
      },
      "execution_count": null,
      "outputs": [
        {
          "output_type": "execute_result",
          "data": {
            "text/plain": [
              "           nombre_foto  edad\n",
              "0   anonymized_846.jpg    54\n",
              "1   anonymized_847.jpg    54\n",
              "2   anonymized_848.jpg    54\n",
              "3   anonymized_868.jpg    59\n",
              "4  anonymized_1033.jpg    58"
            ],
            "text/html": [
              "\n",
              "  <div id=\"df-1dad0bd5-104b-4761-970b-aeae7de32ed9\">\n",
              "    <div class=\"colab-df-container\">\n",
              "      <div>\n",
              "<style scoped>\n",
              "    .dataframe tbody tr th:only-of-type {\n",
              "        vertical-align: middle;\n",
              "    }\n",
              "\n",
              "    .dataframe tbody tr th {\n",
              "        vertical-align: top;\n",
              "    }\n",
              "\n",
              "    .dataframe thead th {\n",
              "        text-align: right;\n",
              "    }\n",
              "</style>\n",
              "<table border=\"1\" class=\"dataframe\">\n",
              "  <thead>\n",
              "    <tr style=\"text-align: right;\">\n",
              "      <th></th>\n",
              "      <th>nombre_foto</th>\n",
              "      <th>edad</th>\n",
              "    </tr>\n",
              "  </thead>\n",
              "  <tbody>\n",
              "    <tr>\n",
              "      <th>0</th>\n",
              "      <td>anonymized_846.jpg</td>\n",
              "      <td>54</td>\n",
              "    </tr>\n",
              "    <tr>\n",
              "      <th>1</th>\n",
              "      <td>anonymized_847.jpg</td>\n",
              "      <td>54</td>\n",
              "    </tr>\n",
              "    <tr>\n",
              "      <th>2</th>\n",
              "      <td>anonymized_848.jpg</td>\n",
              "      <td>54</td>\n",
              "    </tr>\n",
              "    <tr>\n",
              "      <th>3</th>\n",
              "      <td>anonymized_868.jpg</td>\n",
              "      <td>59</td>\n",
              "    </tr>\n",
              "    <tr>\n",
              "      <th>4</th>\n",
              "      <td>anonymized_1033.jpg</td>\n",
              "      <td>58</td>\n",
              "    </tr>\n",
              "  </tbody>\n",
              "</table>\n",
              "</div>\n",
              "      <button class=\"colab-df-convert\" onclick=\"convertToInteractive('df-1dad0bd5-104b-4761-970b-aeae7de32ed9')\"\n",
              "              title=\"Convert this dataframe to an interactive table.\"\n",
              "              style=\"display:none;\">\n",
              "        \n",
              "  <svg xmlns=\"http://www.w3.org/2000/svg\" height=\"24px\"viewBox=\"0 0 24 24\"\n",
              "       width=\"24px\">\n",
              "    <path d=\"M0 0h24v24H0V0z\" fill=\"none\"/>\n",
              "    <path d=\"M18.56 5.44l.94 2.06.94-2.06 2.06-.94-2.06-.94-.94-2.06-.94 2.06-2.06.94zm-11 1L8.5 8.5l.94-2.06 2.06-.94-2.06-.94L8.5 2.5l-.94 2.06-2.06.94zm10 10l.94 2.06.94-2.06 2.06-.94-2.06-.94-.94-2.06-.94 2.06-2.06.94z\"/><path d=\"M17.41 7.96l-1.37-1.37c-.4-.4-.92-.59-1.43-.59-.52 0-1.04.2-1.43.59L10.3 9.45l-7.72 7.72c-.78.78-.78 2.05 0 2.83L4 21.41c.39.39.9.59 1.41.59.51 0 1.02-.2 1.41-.59l7.78-7.78 2.81-2.81c.8-.78.8-2.07 0-2.86zM5.41 20L4 18.59l7.72-7.72 1.47 1.35L5.41 20z\"/>\n",
              "  </svg>\n",
              "      </button>\n",
              "      \n",
              "  <style>\n",
              "    .colab-df-container {\n",
              "      display:flex;\n",
              "      flex-wrap:wrap;\n",
              "      gap: 12px;\n",
              "    }\n",
              "\n",
              "    .colab-df-convert {\n",
              "      background-color: #E8F0FE;\n",
              "      border: none;\n",
              "      border-radius: 50%;\n",
              "      cursor: pointer;\n",
              "      display: none;\n",
              "      fill: #1967D2;\n",
              "      height: 32px;\n",
              "      padding: 0 0 0 0;\n",
              "      width: 32px;\n",
              "    }\n",
              "\n",
              "    .colab-df-convert:hover {\n",
              "      background-color: #E2EBFA;\n",
              "      box-shadow: 0px 1px 2px rgba(60, 64, 67, 0.3), 0px 1px 3px 1px rgba(60, 64, 67, 0.15);\n",
              "      fill: #174EA6;\n",
              "    }\n",
              "\n",
              "    [theme=dark] .colab-df-convert {\n",
              "      background-color: #3B4455;\n",
              "      fill: #D2E3FC;\n",
              "    }\n",
              "\n",
              "    [theme=dark] .colab-df-convert:hover {\n",
              "      background-color: #434B5C;\n",
              "      box-shadow: 0px 1px 3px 1px rgba(0, 0, 0, 0.15);\n",
              "      filter: drop-shadow(0px 1px 2px rgba(0, 0, 0, 0.3));\n",
              "      fill: #FFFFFF;\n",
              "    }\n",
              "  </style>\n",
              "\n",
              "      <script>\n",
              "        const buttonEl =\n",
              "          document.querySelector('#df-1dad0bd5-104b-4761-970b-aeae7de32ed9 button.colab-df-convert');\n",
              "        buttonEl.style.display =\n",
              "          google.colab.kernel.accessAllowed ? 'block' : 'none';\n",
              "\n",
              "        async function convertToInteractive(key) {\n",
              "          const element = document.querySelector('#df-1dad0bd5-104b-4761-970b-aeae7de32ed9');\n",
              "          const dataTable =\n",
              "            await google.colab.kernel.invokeFunction('convertToInteractive',\n",
              "                                                     [key], {});\n",
              "          if (!dataTable) return;\n",
              "\n",
              "          const docLinkHtml = 'Like what you see? Visit the ' +\n",
              "            '<a target=\"_blank\" href=https://colab.research.google.com/notebooks/data_table.ipynb>data table notebook</a>'\n",
              "            + ' to learn more about interactive tables.';\n",
              "          element.innerHTML = '';\n",
              "          dataTable['output_type'] = 'display_data';\n",
              "          await google.colab.output.renderOutput(dataTable, element);\n",
              "          const docLink = document.createElement('div');\n",
              "          docLink.innerHTML = docLinkHtml;\n",
              "          element.appendChild(docLink);\n",
              "        }\n",
              "      </script>\n",
              "    </div>\n",
              "  </div>\n",
              "  "
            ]
          },
          "metadata": {},
          "execution_count": 40
        }
      ]
    },
    {
      "cell_type": "markdown",
      "source": [
        "La dimensión del df2 es"
      ],
      "metadata": {
        "id": "mwEiSKCLzdbd"
      }
    },
    {
      "cell_type": "code",
      "source": [
        "df2.shape"
      ],
      "metadata": {
        "id": "aF2zkXik0xAt",
        "colab": {
          "base_uri": "https://localhost:8080/"
        },
        "outputId": "8294a8da-4ad9-42b6-bfd8-2fbaff6d4706"
      },
      "execution_count": null,
      "outputs": [
        {
          "output_type": "execute_result",
          "data": {
            "text/plain": [
              "(437394, 2)"
            ]
          },
          "metadata": {},
          "execution_count": 41
        }
      ]
    },
    {
      "cell_type": "markdown",
      "source": [
        "Cabe mencionar que la cantidad de datos todavía es muy grande, subir los archivos de las imágenes a Google Drive es un trabajo de muchas horas, al mismo tiempo si se quieren realizar las ejecuciones de diferentes modelos va a requerrir muchos recursos y tiempo de ejecución (esto basado en la realización del trabajo final de la asignatura de Aprendizaje Profundo, donde el tiempo de ejecución que tomó realizar la implementación de varios modelos para un dataset de 39.100 imágenes fue de 20 - 35 minutos por modelo), se tomó la decisión de considerar aproximadamente sólo el 10% del total de los datos, esto es, aproximadamente 43 mil imágenes."
      ],
      "metadata": {
        "id": "3pyxeZak1PEW"
      }
    },
    {
      "cell_type": "markdown",
      "source": [
        "En consecuencia, después del preprocesado, se han obtenido 437394 datos. Para reducir la cantidad de datos, se utiliza como estrategia realizar una *estratificación* de los datos originales para tener una muestra representativa de los mismos. \n",
        "\n",
        "Por consiguiente, se define la siguiente función que permite estratificar el dataset original"
      ],
      "metadata": {
        "id": "6u-vW5pSbA56"
      }
    },
    {
      "cell_type": "code",
      "source": [
        "# the functions:\n",
        "def stratified_sample(df, strata, size=None, seed=None, keep_index= True):\n",
        "    '''\n",
        "    It samples data from a pandas dataframe using strata. These functions use\n",
        "    proportionate stratification:\n",
        "    n1 = (N1/N) * n\n",
        "    where:\n",
        "        - n1 is the sample size of stratum 1\n",
        "        - N1 is the population size of stratum 1\n",
        "        - N is the total population size\n",
        "        - n is the sampling size\n",
        "    Parameters\n",
        "    ----------\n",
        "    :df: pandas dataframe from which data will be sampled.\n",
        "    :strata: list containing columns that will be used in the stratified sampling.\n",
        "    :size: sampling size. If not informed, a sampling size will be calculated\n",
        "        using Cochran adjusted sampling formula:\n",
        "        cochran_n = (Z**2 * p * q) /e**2\n",
        "        where:\n",
        "            - Z is the z-value. In this case we use 1.96 representing 95%\n",
        "            - p is the estimated proportion of the population which has an\n",
        "                attribute. In this case we use 0.5\n",
        "            - q is 1-p\n",
        "            - e is the margin of error\n",
        "        This formula is adjusted as follows:\n",
        "        adjusted_cochran = cochran_n / 1+((cochran_n -1)/N)\n",
        "        where:\n",
        "            - cochran_n = result of the previous formula\n",
        "            - N is the population size\n",
        "    :seed: sampling seed\n",
        "    :keep_index: if True, it keeps a column with the original population index indicator\n",
        "    \n",
        "    Returns\n",
        "    -------\n",
        "    A sampled pandas dataframe based in a set of strata.\n",
        "    Examples\n",
        "    --------\n",
        "    >> df.head()\n",
        "    \tid  sex age city \n",
        "    0\t123 M   20  XYZ\n",
        "    1\t456 M   25  XYZ\n",
        "    2\t789 M   21  YZX\n",
        "    3\t987 F   40  ZXY\n",
        "    4\t654 M   45  ZXY\n",
        "    ...\n",
        "    # This returns a sample stratified by sex and city containing 30% of the size of\n",
        "    # the original data\n",
        "    >> stratified = stratified_sample(df=df, strata=['sex', 'city'], size=0.3)\n",
        "    Requirements\n",
        "    ------------\n",
        "    - pandas\n",
        "    - numpy\n",
        "    '''\n",
        "    population = len(df)\n",
        "    size = __smpl_size(population, size)\n",
        "    tmp = df[strata]\n",
        "    tmp['size'] = 1\n",
        "    tmp_grpd = tmp.groupby(strata).count().reset_index()\n",
        "    tmp_grpd['samp_size'] = round(size/population * tmp_grpd['size']).astype(int)\n",
        "\n",
        "    # controlling variable to create the dataframe or append to it\n",
        "    first = True \n",
        "    for i in range(len(tmp_grpd)):\n",
        "        # query generator for each iteration\n",
        "        qry=''\n",
        "        for s in range(len(strata)):\n",
        "            stratum = strata[s]\n",
        "            value = tmp_grpd.iloc[i][stratum]\n",
        "            n = tmp_grpd.iloc[i]['samp_size']\n",
        "\n",
        "            if type(value) == str:\n",
        "                value = \"'\" + str(value) + \"'\"\n",
        "            \n",
        "            if s != len(strata)-1:\n",
        "                qry = qry + stratum + ' == ' + str(value) +' & '\n",
        "            else:\n",
        "                qry = qry + stratum + ' == ' + str(value)\n",
        "        \n",
        "        # final dataframe\n",
        "        if first:\n",
        "            stratified_df = df.query(qry).sample(n=n, random_state=seed).reset_index(drop=(not keep_index))\n",
        "            first = False\n",
        "        else:\n",
        "            tmp_df = df.query(qry).sample(n=n, random_state=seed).reset_index(drop=(not keep_index))\n",
        "            stratified_df = stratified_df.append(tmp_df, ignore_index=True)\n",
        "    \n",
        "    return stratified_df\n",
        "\n",
        "\n",
        "\n",
        "def stratified_sample_report(df, strata, size=None):\n",
        "    '''\n",
        "    Generates a dataframe reporting the counts in each stratum and the counts\n",
        "    for the final sampled dataframe.\n",
        "    Parameters\n",
        "    ----------\n",
        "    :df: pandas dataframe from which data will be sampled.\n",
        "    :strata: list containing columns that will be used in the stratified sampling.\n",
        "    :size: sampling size. If not informed, a sampling size will be calculated\n",
        "        using Cochran adjusted sampling formula:\n",
        "        cochran_n = (Z**2 * p * q) /e**2\n",
        "        where:\n",
        "            - Z is the z-value. In this case we use 1.96 representing 95%\n",
        "            - p is the estimated proportion of the population which has an\n",
        "                attribute. In this case we use 0.5\n",
        "            - q is 1-p\n",
        "            - e is the margin of error\n",
        "        This formula is adjusted as follows:\n",
        "        adjusted_cochran = cochran_n / 1+((cochran_n -1)/N)\n",
        "        where:\n",
        "            - cochran_n = result of the previous formula\n",
        "            - N is the population size\n",
        "    Returns\n",
        "    -------\n",
        "    A dataframe reporting the counts in each stratum and the counts\n",
        "    for the final sampled dataframe.\n",
        "    '''\n",
        "    population = len(df)\n",
        "    size = __smpl_size(population, size)\n",
        "    tmp = df[strata]\n",
        "    tmp['size'] = 1\n",
        "    tmp_grpd = tmp.groupby(strata).count().reset_index()\n",
        "    tmp_grpd['samp_size'] = round(size/population * tmp_grpd['size']).astype(int)\n",
        "    return tmp_grpd\n",
        "\n",
        "\n",
        "def __smpl_size(population, size):\n",
        "    '''\n",
        "    A function to compute the sample size. If not informed, a sampling \n",
        "    size will be calculated using Cochran adjusted sampling formula:\n",
        "        cochran_n = (Z**2 * p * q) /e**2\n",
        "        where:\n",
        "            - Z is the z-value. In this case we use 1.96 representing 95%\n",
        "            - p is the estimated proportion of the population which has an\n",
        "                attribute. In this case we use 0.5\n",
        "            - q is 1-p\n",
        "            - e is the margin of error\n",
        "        This formula is adjusted as follows:\n",
        "        adjusted_cochran = cochran_n / 1+((cochran_n -1)/N)\n",
        "        where:\n",
        "            - cochran_n = result of the previous formula\n",
        "            - N is the population size\n",
        "    Parameters\n",
        "    ----------\n",
        "        :population: population size\n",
        "        :size: sample size (default = None)\n",
        "    Returns\n",
        "    -------\n",
        "    Calculated sample size to be used in the functions:\n",
        "        - stratified_sample\n",
        "        - stratified_sample_report\n",
        "    '''\n",
        "    if size is None:\n",
        "        cochran_n = round(((1.96)**2 * 0.5 * 0.5)/ 0.02**2)\n",
        "        n = round(cochran_n/(1+((cochran_n -1) /population)))\n",
        "    elif size >= 0 and size < 1:\n",
        "        n = round(population * size)\n",
        "    elif size < 0:\n",
        "        raise ValueError('Parameter \"size\" must be an integer or a proportion between 0 and 0.99.')\n",
        "    elif size >= 1:\n",
        "        n = size\n",
        "    return n"
      ],
      "metadata": {
        "id": "Yyz3k39Ea3CB"
      },
      "execution_count": null,
      "outputs": []
    },
    {
      "cell_type": "markdown",
      "source": [
        "Se carga la muestra estratificada obtenida a partir de la función `stratified_sample` como el 10% de los datos del dataframe df2. "
      ],
      "metadata": {
        "id": "FVdfPkhtg_vP"
      }
    },
    {
      "cell_type": "code",
      "source": [
        "sample_df = pd.read_csv(pathDataframes/'sample_df.csv', sep=',')"
      ],
      "metadata": {
        "id": "nXpULnS5y4Py"
      },
      "execution_count": null,
      "outputs": []
    },
    {
      "cell_type": "code",
      "source": [
        "sample_df.head(10)"
      ],
      "metadata": {
        "id": "aQoJGC_2a3Hp",
        "colab": {
          "base_uri": "https://localhost:8080/",
          "height": 363
        },
        "outputId": "64dd756e-54e5-431f-ed61-95cb6ff552c8"
      },
      "execution_count": null,
      "outputs": [
        {
          "output_type": "execute_result",
          "data": {
            "text/plain": [
              "              nombre_foto  edad\n",
              "0   anonymized_597149.jpg     1\n",
              "1  anonymized_1233130.jpg     1\n",
              "2   anonymized_597132.jpg     1\n",
              "3   anonymized_624984.jpg     1\n",
              "4   anonymized_285161.jpg     2\n",
              "5   anonymized_165940.jpg     3\n",
              "6   anonymized_165946.jpg     3\n",
              "7   anonymized_165951.jpg     3\n",
              "8   anonymized_806137.jpg     3\n",
              "9   anonymized_510058.jpg     4"
            ],
            "text/html": [
              "\n",
              "  <div id=\"df-4804f49e-754e-4b3d-a7ba-7110f8596e0b\">\n",
              "    <div class=\"colab-df-container\">\n",
              "      <div>\n",
              "<style scoped>\n",
              "    .dataframe tbody tr th:only-of-type {\n",
              "        vertical-align: middle;\n",
              "    }\n",
              "\n",
              "    .dataframe tbody tr th {\n",
              "        vertical-align: top;\n",
              "    }\n",
              "\n",
              "    .dataframe thead th {\n",
              "        text-align: right;\n",
              "    }\n",
              "</style>\n",
              "<table border=\"1\" class=\"dataframe\">\n",
              "  <thead>\n",
              "    <tr style=\"text-align: right;\">\n",
              "      <th></th>\n",
              "      <th>nombre_foto</th>\n",
              "      <th>edad</th>\n",
              "    </tr>\n",
              "  </thead>\n",
              "  <tbody>\n",
              "    <tr>\n",
              "      <th>0</th>\n",
              "      <td>anonymized_597149.jpg</td>\n",
              "      <td>1</td>\n",
              "    </tr>\n",
              "    <tr>\n",
              "      <th>1</th>\n",
              "      <td>anonymized_1233130.jpg</td>\n",
              "      <td>1</td>\n",
              "    </tr>\n",
              "    <tr>\n",
              "      <th>2</th>\n",
              "      <td>anonymized_597132.jpg</td>\n",
              "      <td>1</td>\n",
              "    </tr>\n",
              "    <tr>\n",
              "      <th>3</th>\n",
              "      <td>anonymized_624984.jpg</td>\n",
              "      <td>1</td>\n",
              "    </tr>\n",
              "    <tr>\n",
              "      <th>4</th>\n",
              "      <td>anonymized_285161.jpg</td>\n",
              "      <td>2</td>\n",
              "    </tr>\n",
              "    <tr>\n",
              "      <th>5</th>\n",
              "      <td>anonymized_165940.jpg</td>\n",
              "      <td>3</td>\n",
              "    </tr>\n",
              "    <tr>\n",
              "      <th>6</th>\n",
              "      <td>anonymized_165946.jpg</td>\n",
              "      <td>3</td>\n",
              "    </tr>\n",
              "    <tr>\n",
              "      <th>7</th>\n",
              "      <td>anonymized_165951.jpg</td>\n",
              "      <td>3</td>\n",
              "    </tr>\n",
              "    <tr>\n",
              "      <th>8</th>\n",
              "      <td>anonymized_806137.jpg</td>\n",
              "      <td>3</td>\n",
              "    </tr>\n",
              "    <tr>\n",
              "      <th>9</th>\n",
              "      <td>anonymized_510058.jpg</td>\n",
              "      <td>4</td>\n",
              "    </tr>\n",
              "  </tbody>\n",
              "</table>\n",
              "</div>\n",
              "      <button class=\"colab-df-convert\" onclick=\"convertToInteractive('df-4804f49e-754e-4b3d-a7ba-7110f8596e0b')\"\n",
              "              title=\"Convert this dataframe to an interactive table.\"\n",
              "              style=\"display:none;\">\n",
              "        \n",
              "  <svg xmlns=\"http://www.w3.org/2000/svg\" height=\"24px\"viewBox=\"0 0 24 24\"\n",
              "       width=\"24px\">\n",
              "    <path d=\"M0 0h24v24H0V0z\" fill=\"none\"/>\n",
              "    <path d=\"M18.56 5.44l.94 2.06.94-2.06 2.06-.94-2.06-.94-.94-2.06-.94 2.06-2.06.94zm-11 1L8.5 8.5l.94-2.06 2.06-.94-2.06-.94L8.5 2.5l-.94 2.06-2.06.94zm10 10l.94 2.06.94-2.06 2.06-.94-2.06-.94-.94-2.06-.94 2.06-2.06.94z\"/><path d=\"M17.41 7.96l-1.37-1.37c-.4-.4-.92-.59-1.43-.59-.52 0-1.04.2-1.43.59L10.3 9.45l-7.72 7.72c-.78.78-.78 2.05 0 2.83L4 21.41c.39.39.9.59 1.41.59.51 0 1.02-.2 1.41-.59l7.78-7.78 2.81-2.81c.8-.78.8-2.07 0-2.86zM5.41 20L4 18.59l7.72-7.72 1.47 1.35L5.41 20z\"/>\n",
              "  </svg>\n",
              "      </button>\n",
              "      \n",
              "  <style>\n",
              "    .colab-df-container {\n",
              "      display:flex;\n",
              "      flex-wrap:wrap;\n",
              "      gap: 12px;\n",
              "    }\n",
              "\n",
              "    .colab-df-convert {\n",
              "      background-color: #E8F0FE;\n",
              "      border: none;\n",
              "      border-radius: 50%;\n",
              "      cursor: pointer;\n",
              "      display: none;\n",
              "      fill: #1967D2;\n",
              "      height: 32px;\n",
              "      padding: 0 0 0 0;\n",
              "      width: 32px;\n",
              "    }\n",
              "\n",
              "    .colab-df-convert:hover {\n",
              "      background-color: #E2EBFA;\n",
              "      box-shadow: 0px 1px 2px rgba(60, 64, 67, 0.3), 0px 1px 3px 1px rgba(60, 64, 67, 0.15);\n",
              "      fill: #174EA6;\n",
              "    }\n",
              "\n",
              "    [theme=dark] .colab-df-convert {\n",
              "      background-color: #3B4455;\n",
              "      fill: #D2E3FC;\n",
              "    }\n",
              "\n",
              "    [theme=dark] .colab-df-convert:hover {\n",
              "      background-color: #434B5C;\n",
              "      box-shadow: 0px 1px 3px 1px rgba(0, 0, 0, 0.15);\n",
              "      filter: drop-shadow(0px 1px 2px rgba(0, 0, 0, 0.3));\n",
              "      fill: #FFFFFF;\n",
              "    }\n",
              "  </style>\n",
              "\n",
              "      <script>\n",
              "        const buttonEl =\n",
              "          document.querySelector('#df-4804f49e-754e-4b3d-a7ba-7110f8596e0b button.colab-df-convert');\n",
              "        buttonEl.style.display =\n",
              "          google.colab.kernel.accessAllowed ? 'block' : 'none';\n",
              "\n",
              "        async function convertToInteractive(key) {\n",
              "          const element = document.querySelector('#df-4804f49e-754e-4b3d-a7ba-7110f8596e0b');\n",
              "          const dataTable =\n",
              "            await google.colab.kernel.invokeFunction('convertToInteractive',\n",
              "                                                     [key], {});\n",
              "          if (!dataTable) return;\n",
              "\n",
              "          const docLinkHtml = 'Like what you see? Visit the ' +\n",
              "            '<a target=\"_blank\" href=https://colab.research.google.com/notebooks/data_table.ipynb>data table notebook</a>'\n",
              "            + ' to learn more about interactive tables.';\n",
              "          element.innerHTML = '';\n",
              "          dataTable['output_type'] = 'display_data';\n",
              "          await google.colab.output.renderOutput(dataTable, element);\n",
              "          const docLink = document.createElement('div');\n",
              "          docLink.innerHTML = docLinkHtml;\n",
              "          element.appendChild(docLink);\n",
              "        }\n",
              "      </script>\n",
              "    </div>\n",
              "  </div>\n",
              "  "
            ]
          },
          "metadata": {},
          "execution_count": 44
        }
      ]
    },
    {
      "cell_type": "markdown",
      "source": [
        "Esto implica que en este proceso se pierden datos e información, pero definitivamente, es el tamaño de muestra que se busca."
      ],
      "metadata": {
        "id": "BK_6BphMSbmm"
      }
    },
    {
      "cell_type": "markdown",
      "source": [
        "La dimensión del dataset es"
      ],
      "metadata": {
        "id": "lFztki19hphn"
      }
    },
    {
      "cell_type": "code",
      "source": [
        "sample_df.shape"
      ],
      "metadata": {
        "id": "veBJSoO9a3K_",
        "colab": {
          "base_uri": "https://localhost:8080/"
        },
        "outputId": "6f7ed9bc-3c11-4d76-d69a-f8633afe2680"
      },
      "execution_count": null,
      "outputs": [
        {
          "output_type": "execute_result",
          "data": {
            "text/plain": [
              "(43739, 2)"
            ]
          },
          "metadata": {},
          "execution_count": 45
        }
      ]
    },
    {
      "cell_type": "markdown",
      "metadata": {
        "id": "LMP2YFV2hmOX"
      },
      "source": [
        "Este dataframe contiene 43739 instancias y 2 campos. "
      ]
    },
    {
      "cell_type": "markdown",
      "source": [
        "El dataframe estratificado `sample_df` se visualiza de la siguiente manera"
      ],
      "metadata": {
        "id": "i9MtfZWukk2Z"
      }
    },
    {
      "cell_type": "code",
      "source": [
        "hist_age2 =sample_df['edad'].hist(bins=sample_df['edad'].nunique())"
      ],
      "metadata": {
        "id": "GQJVCSysa3Nt",
        "colab": {
          "base_uri": "https://localhost:8080/",
          "height": 325
        },
        "outputId": "2551ac85-2976-4385-a872-2299168ae375"
      },
      "execution_count": null,
      "outputs": [
        {
          "output_type": "display_data",
          "data": {
            "text/plain": [
              "<Figure size 1080x360 with 1 Axes>"
            ],
            "image/png": "[encoded data removed]"
          },
          "metadata": {}
        }
      ]
    },
    {
      "cell_type": "markdown",
      "source": [
        "**FALTA comparar las graficas y mostrar que están estratificadas**"
      ],
      "metadata": {
        "id": "glZE8kIFivTf"
      }
    },
    {
      "cell_type": "code",
      "source": [
        "# We start by importing matplotlib\n",
        "import matplotlib.pyplot as plt"
      ],
      "metadata": {
        "id": "RqvbF5slzUrq"
      },
      "execution_count": null,
      "outputs": []
    },
    {
      "cell_type": "code",
      "source": [
        "# Plotting a figure of width 6 and height 3\n",
        "plt.figure(figsize=(11, 9))\n",
        "\n",
        "ax1 = df2['edad'].hist(bins=df2['edad'].nunique(), alpha=0.6,grid = False, label=\"Datos originales\", color = 'lime')\n",
        "ax1.set_xlim(0,100)\n",
        "ax1.set_ylim(0,12000)\n",
        "\n",
        "ax2 = ax1.twinx()\n",
        "#ax2 = plt.subplot(132)\n",
        "ax2 = sample_df['edad'].hist(bins=sample_df['edad'].nunique(), alpha=0.5, grid = False, label=\"Muestra estratificada\", color = 'magenta')\n",
        "ax2.set_xlim(0, 100)\n",
        "ax2.set_ylim(0,1300)\n",
        "\n",
        "ax1.set_xlabel('Edad', size = 15)\n",
        "ax1.set_ylabel('Cantidad', color='g', size = 15)\n",
        "ax2.set_ylabel('Cantidad', color='magenta', size = 15)\n",
        "\n",
        "ax1.legend(loc='upper right', bbox_to_anchor=(0.5, 0.5, 0.5, 0.5))\n",
        "ax2.legend(loc='upper right', bbox_to_anchor=(0.5, 0.45, 0.5, 0.5))\n",
        "\n",
        "plt.show()"
      ],
      "metadata": {
        "colab": {
          "base_uri": "https://localhost:8080/",
          "height": 580
        },
        "id": "tdGN3J-YzUui",
        "outputId": "9491c263-f70c-4259-fad9-9e8df32c4612"
      },
      "execution_count": null,
      "outputs": [
        {
          "output_type": "display_data",
          "data": {
            "text/plain": [
              "<Figure size 792x648 with 2 Axes>"
            ],
            "image/png": "[encoded data removed]"
          },
          "metadata": {}
        },
        {
          "output_type": "display_data",
          "data": {
            "text/plain": [
              "<Figure size 1080x360 with 0 Axes>"
            ]
          },
          "metadata": {}
        }
      ]
    },
    {
      "cell_type": "markdown",
      "source": [
        "Por ende, a partir del dataframe se quieren construir los conjuntos de training y testing, pero, con el fin, de que ambos conjuntos, sean muestras representativas del dataset, se busca que tengan la misma distribución del datos, es decir,ambos conjuntos se quieren estratificados.\n",
        "\n",
        "Para ello, se utilizó el método `train_test_split` de la librería scikit-learn con el **atributo** stratify, sin embargo, se genera un error porque hay edades en las cuales, sólo hay un valor y como se quieren distribur los datos a dos conjuntos, esto no es posible. \n",
        "\n",
        "No obstante, se utiliza este método con valor None y se observa en el histograma del conjunto de train y de test, una distribución de los datos muy similar a los datos originales. \n",
        "\n",
        "Por tal motivo, se consideran las particiones de los conjuntos realizadas por este método. "
      ],
      "metadata": {
        "id": "1_-HnhxO2AOf"
      }
    },
    {
      "cell_type": "markdown",
      "source": [
        "Por último, se quieren guardar las imágenes del dataframe dfTrain y dfTest en carpetas. Teniendo esto en mente, se deben cargar los archivos de las imágenes originales 444 mil imágenes y extraer 35 mil para training y 8 mil para testing.\n",
        "\n",
        "Por razones de memoria y para evitar cargar el dataset de las 444 mil imágenes, en este intento, este proceso tomó muchas horas de ejecución e incluso, el ordenador colapsa y se debe reiniciar en muchas ocasiones, se decide realizar este proceso de forma local.\n",
        "\n",
        "Finalmente, se obtienen los datasets con los archivos de training y split y se pueden cargar las imágenes. Para el conjunto de test están todas las imágenes pero para el conjunto de training no se guardaron 3 de estas imágenes. \n",
        "\n",
        "Por lo que, se pasa a revisar los dataframes finales que se obtuvieron de forma local. "
      ],
      "metadata": {
        "id": "Ya6HXLSI2qFW"
      }
    },
    {
      "cell_type": "markdown",
      "source": [
        "Se cargan los dataframes dfTrain y dfTest"
      ],
      "metadata": {
        "id": "2AmDy2t3e7H4"
      }
    },
    {
      "cell_type": "code",
      "source": [
        "dfTrain = pd.read_csv(pathDataframes/'train.csv')\n",
        "dfTest = pd.read_csv(pathDataframes/'test.csv')"
      ],
      "metadata": {
        "id": "Zm13IZ7Ffeuw"
      },
      "execution_count": null,
      "outputs": []
    },
    {
      "cell_type": "markdown",
      "source": [
        "Se pueden ver las dimensiones de ambos conjuntos de datos"
      ],
      "metadata": {
        "id": "f81rdQptfnQO"
      }
    },
    {
      "cell_type": "code",
      "source": [
        "print(\"Las dimensiones del conjunto de entrenamiento son = \", dfTrain.shape)\n",
        "print(\"Las dimensiones del conjunto de prueba son = \", dfTest.shape)"
      ],
      "metadata": {
        "id": "b6GGWb3MdVXV",
        "colab": {
          "base_uri": "https://localhost:8080/"
        },
        "outputId": "d3d74e44-db81-4e5a-f256-55d7f7849a44"
      },
      "execution_count": null,
      "outputs": [
        {
          "output_type": "stream",
          "name": "stdout",
          "text": [
            "Las dimensiones del conjunto de entrenamiento son =  (34991, 2)\n",
            "Las dimensiones del conjunto de prueba son =  (8748, 2)\n"
          ]
        }
      ]
    },
    {
      "cell_type": "code",
      "source": [
        "hist_train =dfTrain['edad'].hist(bins=dfTrain['edad'].nunique())"
      ],
      "metadata": {
        "id": "iGF7zbYhdVak",
        "colab": {
          "base_uri": "https://localhost:8080/",
          "height": 322
        },
        "outputId": "49bd0af6-32f3-4769-9280-3a0ba7928597"
      },
      "execution_count": null,
      "outputs": [
        {
          "output_type": "display_data",
          "data": {
            "text/plain": [
              "<Figure size 1080x360 with 1 Axes>"
            ],
            "image/png": "[encoded data removed]"
          },
          "metadata": {}
        }
      ]
    },
    {
      "cell_type": "code",
      "source": [
        "hist_test =dfTest['edad'].hist(bins=dfTest['edad'].nunique())"
      ],
      "metadata": {
        "id": "GZTE-rgPdVdk",
        "colab": {
          "base_uri": "https://localhost:8080/",
          "height": 322
        },
        "outputId": "45eaa4f2-e81d-424a-f066-4adc2aa6a8c8"
      },
      "execution_count": null,
      "outputs": [
        {
          "output_type": "display_data",
          "data": {
            "text/plain": [
              "<Figure size 1080x360 with 1 Axes>"
            ],
            "image/png": "[encoded data removed]"
          },
          "metadata": {}
        }
      ]
    },
    {
      "cell_type": "markdown",
      "source": [
        "Ahora bien, falta cargar los archivos de las imágenes de los conjuntos de datos de training y de testing. Se pueden crear objetos `path` que apunten respectivamente al conjunto de entrenamiento y al conjunto de test. "
      ],
      "metadata": {
        "id": "64obS8L1hbb3"
      }
    },
    {
      "cell_type": "code",
      "source": [
        "trainPath = pathDatasets/'nuevo_training'\n",
        "testPath = pathDatasets/'nuevo_testing'"
      ],
      "metadata": {
        "id": "MHiWDO6uq6jY"
      },
      "execution_count": null,
      "outputs": []
    },
    {
      "cell_type": "markdown",
      "source": [
        "Se puede observar el contenido de cada uno de estos directorios "
      ],
      "metadata": {
        "id": "0a0eO16YrMLq"
      }
    },
    {
      "cell_type": "code",
      "source": [
        "trainPath.ls()"
      ],
      "metadata": {
        "colab": {
          "base_uri": "https://localhost:8080/"
        },
        "id": "NPP2t9v8rJol",
        "outputId": "f24a2894-5dec-4858-de9c-c35d2760b09c"
      },
      "execution_count": null,
      "outputs": [
        {
          "output_type": "execute_result",
          "data": {
            "text/plain": [
              "(#34991) [Path('/content/drive/MyDrive/dataset_retina/datasets/nuevo_training/anonymized_9740.jpg'),Path('/content/drive/MyDrive/dataset_retina/datasets/nuevo_training/anonymized_1000305.jpg'),Path('/content/drive/MyDrive/dataset_retina/datasets/nuevo_training/anonymized_978980.jpg'),Path('/content/drive/MyDrive/dataset_retina/datasets/nuevo_training/anonymized_1001345.jpg'),Path('/content/drive/MyDrive/dataset_retina/datasets/nuevo_training/anonymized_1001957.jpg'),Path('/content/drive/MyDrive/dataset_retina/datasets/nuevo_training/anonymized_1002097.jpg'),Path('/content/drive/MyDrive/dataset_retina/datasets/nuevo_training/anonymized_1005146.jpg'),Path('/content/drive/MyDrive/dataset_retina/datasets/nuevo_training/anonymized_100760.jpg'),Path('/content/drive/MyDrive/dataset_retina/datasets/nuevo_training/anonymized_10189.jpg'),Path('/content/drive/MyDrive/dataset_retina/datasets/nuevo_training/anonymized_102768.jpg')...]"
            ]
          },
          "metadata": {},
          "execution_count": 8
        }
      ]
    },
    {
      "cell_type": "code",
      "source": [
        "testPath.ls()"
      ],
      "metadata": {
        "colab": {
          "base_uri": "https://localhost:8080/"
        },
        "id": "ZCi9PktKrOUv",
        "outputId": "425f6333-3446-4d97-c097-919a68c9d894"
      },
      "execution_count": null,
      "outputs": [
        {
          "output_type": "execute_result",
          "data": {
            "text/plain": [
              "(#8748) [Path('/content/drive/MyDrive/dataset_retina/datasets/nuevo_testing/anonymized_315568.jpg'),Path('/content/drive/MyDrive/dataset_retina/datasets/nuevo_testing/anonymized_312364.jpg'),Path('/content/drive/MyDrive/dataset_retina/datasets/nuevo_testing/anonymized_311154.jpg'),Path('/content/drive/MyDrive/dataset_retina/datasets/nuevo_testing/anonymized_311194.jpg'),Path('/content/drive/MyDrive/dataset_retina/datasets/nuevo_testing/anonymized_310355.jpg'),Path('/content/drive/MyDrive/dataset_retina/datasets/nuevo_testing/anonymized_310162.jpg'),Path('/content/drive/MyDrive/dataset_retina/datasets/nuevo_testing/anonymized_308853.jpg'),Path('/content/drive/MyDrive/dataset_retina/datasets/nuevo_testing/anonymized_308676.jpg'),Path('/content/drive/MyDrive/dataset_retina/datasets/nuevo_testing/anonymized_307382.jpg'),Path('/content/drive/MyDrive/dataset_retina/datasets/nuevo_testing/anonymized_305540.jpg')...]"
            ]
          },
          "metadata": {},
          "execution_count": 59
        }
      ]
    },
    {
      "cell_type": "markdown",
      "source": [
        "Se puede ver que tanto la carpeta `trainPath` como la carpeta `testPath` contiene las imágenes en formato jpg."
      ],
      "metadata": {
        "id": "hS3ur47trYK0"
      }
    }
  ]
}