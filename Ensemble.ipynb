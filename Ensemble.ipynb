{
  "cells": [
    {
      "cell_type": "markdown",
      "metadata": {
        "id": "view-in-github",
        "colab_type": "text"
      },
      "source": [
        "<a href=\"https://colab.research.google.com/github/AlvearVanessa/TFM/blob/main/Ensemble.ipynb\" target=\"_parent\"><img src=\"https://colab.research.google.com/assets/colab-badge.svg\" alt=\"Open In Colab\"/></a>"
      ]
    },
    {
      "cell_type": "markdown",
      "metadata": {
        "id": "8wi33mmt4vSb"
      },
      "source": [
        "# Trabajo final de máster: Predicción de la edad a partir del estado de la retina mediante técnicas de aprendizaje profundo\n",
        "---\n"
      ]
    },
    {
      "cell_type": "markdown",
      "metadata": {
        "id": "039sq1c6xqzk"
      },
      "source": [
        "#Introducción\n",
        "---"
      ]
    },
    {
      "cell_type": "markdown",
      "metadata": {
        "id": "hkW-X9Pvx4gx"
      },
      "source": [
        "Este es el Notebook 11. El objetivo es crear un modelo de **Ensemble** a partir de los 3 mejores modelos para realizar regresión en imágenes utilizando algunas de las técnicas de Aprendizaje profundo.\n"
      ]
    },
    {
      "cell_type": "markdown",
      "metadata": {
        "id": "XwcyV8cc1YXo"
      },
      "source": [
        "Los tres mejores modelos obtenidos son: *EfficientNetB3, ReseNet152 y ResNet34.*"
      ]
    },
    {
      "cell_type": "markdown",
      "metadata": {
        "id": "7GBjh1F_yzDz"
      },
      "source": [
        "#Autora\n",
        "---"
      ]
    },
    {
      "cell_type": "markdown",
      "metadata": {
        "id": "fZRyJJQxy2Gv"
      },
      "source": [
        "Este trabajo es realizado por:\n",
        "\n",
        "- Mayra Vanessa Alvear Gallón\n",
        "\n",
        "Las funciones construidas para el desarrollo del **Ensemble** son creadas por:\n",
        "\n",
        "- Mayra Vanessa Alvear Gallón\n"
      ]
    },
    {
      "cell_type": "markdown",
      "metadata": {
        "id": "8ETVAWpUxvbC"
      },
      "source": [
        "#Objetivo\n",
        "---\n"
      ]
    },
    {
      "cell_type": "markdown",
      "metadata": {
        "id": "f5SVzFX1x28s"
      },
      "source": [
        "El objetivo es crear un modelo de regresión en imágenes en el que podamos predecir empleando varios modelos y devolver una media de las predicciones obtenidas de los mejores modelos. La idea es utilizar alguna de las técnicas de Aprendizaje profundo vistas en clase. \n",
        "\n",
        "El problema que se quiere resolver es de regresión, esto es, a partir de una imagen de fondo de ojo de retina, se quiere predecir la edad de la persona."
      ]
    },
    {
      "cell_type": "markdown",
      "metadata": {
        "id": "JBbejPn45tix"
      },
      "source": [
        "# Librerías\n",
        "---\n"
      ]
    },
    {
      "cell_type": "markdown",
      "metadata": {
        "id": "vl3cnclHz89V"
      },
      "source": [
        "Para iniciar, se descarga la última versión de la librería *Fastai*. Al finalizar la instalación, se debe reiniciar el kernel (menú Entorno de ejecución -> Reiniciar Entorno de ejecución)."
      ]
    },
    {
      "cell_type": "code",
      "execution_count": null,
      "metadata": {
        "colab": {
          "base_uri": "https://localhost:8080/"
        },
        "id": "YmBReESd5n-e",
        "outputId": "85c65406-2761-4052-c063-79ec9ca8da81"
      },
      "outputs": [
        {
          "output_type": "stream",
          "name": "stdout",
          "text": [
            "\u001b[K     |████████████████████████████████| 214 kB 33.5 MB/s \n",
            "\u001b[K     |████████████████████████████████| 61 kB 8.3 MB/s \n",
            "\u001b[?25h"
          ]
        }
      ],
      "source": [
        "!pip install fastai -Uq"
      ]
    },
    {
      "cell_type": "code",
      "execution_count": null,
      "metadata": {
        "colab": {
          "base_uri": "https://localhost:8080/"
        },
        "id": "yzkILmtUanGF",
        "outputId": "b669f825-8fe1-4bab-8d0b-b08383ebf67a"
      },
      "outputs": [
        {
          "output_type": "stream",
          "name": "stdout",
          "text": [
            "\u001b[?25l\r\u001b[K     |▊                               | 10 kB 31.3 MB/s eta 0:00:01\r\u001b[K     |█▌                              | 20 kB 39.1 MB/s eta 0:00:01\r\u001b[K     |██▎                             | 30 kB 42.3 MB/s eta 0:00:01\r\u001b[K     |███                             | 40 kB 46.3 MB/s eta 0:00:01\r\u001b[K     |███▉                            | 51 kB 49.0 MB/s eta 0:00:01\r\u001b[K     |████▋                           | 61 kB 52.8 MB/s eta 0:00:01\r\u001b[K     |█████▎                          | 71 kB 44.3 MB/s eta 0:00:01\r\u001b[K     |██████                          | 81 kB 36.2 MB/s eta 0:00:01\r\u001b[K     |██████▉                         | 92 kB 38.4 MB/s eta 0:00:01\r\u001b[K     |███████▋                        | 102 kB 40.4 MB/s eta 0:00:01\r\u001b[K     |████████▍                       | 112 kB 40.4 MB/s eta 0:00:01\r\u001b[K     |█████████▏                      | 122 kB 40.4 MB/s eta 0:00:01\r\u001b[K     |█████████▉                      | 133 kB 40.4 MB/s eta 0:00:01\r\u001b[K     |██████████▋                     | 143 kB 40.4 MB/s eta 0:00:01\r\u001b[K     |███████████▍                    | 153 kB 40.4 MB/s eta 0:00:01\r\u001b[K     |████████████▏                   | 163 kB 40.4 MB/s eta 0:00:01\r\u001b[K     |█████████████                   | 174 kB 40.4 MB/s eta 0:00:01\r\u001b[K     |█████████████▊                  | 184 kB 40.4 MB/s eta 0:00:01\r\u001b[K     |██████████████▍                 | 194 kB 40.4 MB/s eta 0:00:01\r\u001b[K     |███████████████▏                | 204 kB 40.4 MB/s eta 0:00:01\r\u001b[K     |████████████████                | 215 kB 40.4 MB/s eta 0:00:01\r\u001b[K     |████████████████▊               | 225 kB 40.4 MB/s eta 0:00:01\r\u001b[K     |█████████████████▌              | 235 kB 40.4 MB/s eta 0:00:01\r\u001b[K     |██████████████████▎             | 245 kB 40.4 MB/s eta 0:00:01\r\u001b[K     |███████████████████             | 256 kB 40.4 MB/s eta 0:00:01\r\u001b[K     |███████████████████▊            | 266 kB 40.4 MB/s eta 0:00:01\r\u001b[K     |████████████████████▌           | 276 kB 40.4 MB/s eta 0:00:01\r\u001b[K     |█████████████████████▎          | 286 kB 40.4 MB/s eta 0:00:01\r\u001b[K     |██████████████████████          | 296 kB 40.4 MB/s eta 0:00:01\r\u001b[K     |██████████████████████▉         | 307 kB 40.4 MB/s eta 0:00:01\r\u001b[K     |███████████████████████▌        | 317 kB 40.4 MB/s eta 0:00:01\r\u001b[K     |████████████████████████▎       | 327 kB 40.4 MB/s eta 0:00:01\r\u001b[K     |█████████████████████████       | 337 kB 40.4 MB/s eta 0:00:01\r\u001b[K     |█████████████████████████▉      | 348 kB 40.4 MB/s eta 0:00:01\r\u001b[K     |██████████████████████████▋     | 358 kB 40.4 MB/s eta 0:00:01\r\u001b[K     |███████████████████████████▍    | 368 kB 40.4 MB/s eta 0:00:01\r\u001b[K     |████████████████████████████    | 378 kB 40.4 MB/s eta 0:00:01\r\u001b[K     |████████████████████████████▉   | 389 kB 40.4 MB/s eta 0:00:01\r\u001b[K     |█████████████████████████████▋  | 399 kB 40.4 MB/s eta 0:00:01\r\u001b[K     |██████████████████████████████▍ | 409 kB 40.4 MB/s eta 0:00:01\r\u001b[K     |███████████████████████████████▏| 419 kB 40.4 MB/s eta 0:00:01\r\u001b[K     |████████████████████████████████| 430 kB 40.4 MB/s eta 0:00:01\r\u001b[K     |████████████████████████████████| 431 kB 40.4 MB/s \n",
            "\u001b[?25h"
          ]
        }
      ],
      "source": [
        "!pip install wwf timm -qqq"
      ]
    },
    {
      "cell_type": "markdown",
      "metadata": {
        "id": "w_dBcEps5zS2"
      },
      "source": [
        "Se cargan aquellas librerías que son necesarias."
      ]
    },
    {
      "cell_type": "code",
      "execution_count": null,
      "metadata": {
        "id": "dTv0vssz5wXF"
      },
      "outputs": [],
      "source": [
        "# models and deep learning library\n",
        "from fastai.vision.all import *\n",
        "from wwf.vision.timm import *\n",
        "\n",
        "# preprocessing and data management\n",
        "import scipy.io\n",
        "import pandas as pd\n",
        "from datetime import datetime, timedelta\n",
        "\n",
        "#Split dataset\n",
        "from sklearn.model_selection import train_test_split\n",
        "\n",
        "# model evaluation\n",
        "from fastai.metrics import mae\n",
        "from sklearn.metrics import mean_absolute_error as MAE"
      ]
    },
    {
      "cell_type": "code",
      "source": [
        "from IPython.display import Image"
      ],
      "metadata": {
        "id": "bw7HpfdGn7sp"
      },
      "execution_count": null,
      "outputs": []
    },
    {
      "cell_type": "markdown",
      "metadata": {
        "id": "d7XXyTpP0LDR"
      },
      "source": [
        "# Análisis de datos\n",
        "---"
      ]
    },
    {
      "cell_type": "markdown",
      "metadata": {
        "id": "w2BURSKsg7dW"
      },
      "source": [
        "Se va a utilizar el conjunto de datos obtenido como resultado del preprocesado realizado en el notebook 1."
      ]
    },
    {
      "cell_type": "markdown",
      "metadata": {
        "id": "ckQiV6vQ6QaV"
      },
      "source": [
        "## Dataset\n",
        "---"
      ]
    },
    {
      "cell_type": "markdown",
      "metadata": {
        "id": "eFx3BFUeYrM3"
      },
      "source": [
        "**El conjunto de datos**\n",
        "\n",
        "Contiene imágenes de fondo de ojo con etiquetas de edad para entrenamiento. Estas imágenes son de tamaño 299x299, algunas son del ojo izquierdo y otras del ojo derecho, esto se puede visualizar a partir de la ubicación del disco óptico"
      ]
    },
    {
      "cell_type": "markdown",
      "metadata": {
        "id": "-pUg7dPwyO5q"
      },
      "source": [
        "Dado que los archivos se encuentra en una carpeta de Google Drive, se carga para acceder a los archivos"
      ]
    },
    {
      "cell_type": "code",
      "execution_count": null,
      "metadata": {
        "colab": {
          "base_uri": "https://localhost:8080/"
        },
        "id": "lG9fYzZNesNv",
        "outputId": "031d34af-3a4c-4e4d-c67c-5060de665ccd"
      },
      "outputs": [
        {
          "output_type": "stream",
          "name": "stdout",
          "text": [
            "Mounted at /content/drive/\n"
          ]
        }
      ],
      "source": [
        "from google.colab import drive\n",
        "drive.mount('/content/drive/')"
      ]
    },
    {
      "cell_type": "markdown",
      "metadata": {
        "id": "WEzVcKxI8yGP"
      },
      "source": [
        "Se explora el contenido de este conjunto de datos. Para ello, se crea un objeto [Path](https://docs.python.org/3/library/pathlib.html) que apunta al directorio que acabamos de crear. "
      ]
    },
    {
      "cell_type": "markdown",
      "metadata": {
        "id": "FIg642m087U7"
      },
      "source": [
        "Con el objeto path se pueden utilizar funciones como `ls()`."
      ]
    },
    {
      "cell_type": "markdown",
      "source": [
        "`path` es la carpeta que contiene todas las carpetas del trabajo"
      ],
      "metadata": {
        "id": "FXSTdg1GTpIT"
      }
    },
    {
      "cell_type": "code",
      "execution_count": null,
      "metadata": {
        "id": "1DW2qzcx78bb"
      },
      "outputs": [],
      "source": [
        "path = Path('/content/drive/MyDrive/dataset_retina/')"
      ]
    },
    {
      "cell_type": "code",
      "execution_count": null,
      "metadata": {
        "colab": {
          "base_uri": "https://localhost:8080/"
        },
        "id": "LyzibpX783Br",
        "outputId": "a550c827-b0fd-49f7-b813-228ba61c8313"
      },
      "outputs": [
        {
          "output_type": "execute_result",
          "data": {
            "text/plain": [
              "(#11) [Path('/content/drive/MyDrive/dataset_retina/dataframes.zip'),Path('/content/drive/MyDrive/dataset_retina/original_test.zip'),Path('/content/drive/MyDrive/dataset_retina/original_train.zip'),Path('/content/drive/MyDrive/dataset_retina/nuevo_testing.zip'),Path('/content/drive/MyDrive/dataset_retina/nuevo_training.zip'),Path('/content/drive/MyDrive/dataset_retina/dataframes.zip (Unzipped Files)'),Path('/content/drive/MyDrive/dataset_retina/dataframes'),Path('/content/drive/MyDrive/dataset_retina/datasets'),Path('/content/drive/MyDrive/dataset_retina/notebooks'),Path('/content/drive/MyDrive/dataset_retina/Ensemble')...]"
            ]
          },
          "metadata": {},
          "execution_count": 6
        }
      ],
      "source": [
        "path.ls()"
      ]
    },
    {
      "cell_type": "markdown",
      "source": [
        "`pathAllImages` es la carpeta que contiene todas las archivos de las imagenes de *train* y de *test*."
      ],
      "metadata": {
        "id": "WU8JvuYMVBQR"
      }
    },
    {
      "cell_type": "code",
      "execution_count": null,
      "metadata": {
        "id": "62LHc7Sb1Yfb"
      },
      "outputs": [],
      "source": [
        "pathAllImages = Path('/content/drive/MyDrive/dataset_retina/Todas_imagenes/all_images')"
      ]
    },
    {
      "cell_type": "markdown",
      "source": [
        "`pathDataframes` es la carpeta que contiene todos los ficheros de anotación"
      ],
      "metadata": {
        "id": "FDaMNhs_Tw2H"
      }
    },
    {
      "cell_type": "code",
      "execution_count": null,
      "metadata": {
        "id": "WmXuomtDfjlk"
      },
      "outputs": [],
      "source": [
        "pathDataframes = Path('/content/drive/MyDrive/dataset_retina/dataframes')"
      ]
    },
    {
      "cell_type": "markdown",
      "source": [
        "`pathDatasets` es la carpeta que contiene las carpetas con los archivos de los conjuntos de datos de *test* y *train*. Por lo tanto, contiene las carpetas `train` y `test`"
      ],
      "metadata": {
        "id": "jWyCveDlT4yR"
      }
    },
    {
      "cell_type": "code",
      "execution_count": null,
      "metadata": {
        "id": "QNJP114QfjuN"
      },
      "outputs": [],
      "source": [
        "pathDatasets = Path('/content/drive/MyDrive/dataset_retina/datasets')"
      ]
    },
    {
      "cell_type": "markdown",
      "source": [
        "Veamos que `pathDatasets` contiene las carpetas `train` y `test`"
      ],
      "metadata": {
        "id": "hzgn_XiZUVj5"
      }
    },
    {
      "cell_type": "code",
      "execution_count": null,
      "metadata": {
        "colab": {
          "base_uri": "https://localhost:8080/"
        },
        "id": "O3ZBum7fTLfP",
        "outputId": "477f6cb4-70c9-4fe3-ac8c-97f4c362c729"
      },
      "outputs": [
        {
          "output_type": "execute_result",
          "data": {
            "text/plain": [
              "(#2) [Path('/content/drive/MyDrive/dataset_retina/datasets/train'),Path('/content/drive/MyDrive/dataset_retina/datasets/test')]"
            ]
          },
          "metadata": {},
          "execution_count": 7
        }
      ],
      "source": [
        "pathDatasets.ls()"
      ]
    },
    {
      "cell_type": "markdown",
      "source": [
        "Guardamos las rutas de las carpetas de de `train`  en `trainPath` y de `test` en `testPath`"
      ],
      "metadata": {
        "id": "mZrRlxXzUd6B"
      }
    },
    {
      "cell_type": "code",
      "execution_count": null,
      "metadata": {
        "id": "MHiWDO6uq6jY"
      },
      "outputs": [],
      "source": [
        "trainPath = pathDatasets/'train'\n",
        "testPath = pathDatasets/'test'"
      ]
    },
    {
      "cell_type": "markdown",
      "source": [
        "Veamos algunos de los archivos que contiene la carpeta `train` mediante la ruta `trainPath`"
      ],
      "metadata": {
        "id": "YpcEawnOUqHs"
      }
    },
    {
      "cell_type": "code",
      "execution_count": null,
      "metadata": {
        "id": "zUohiac7_9Gj",
        "colab": {
          "base_uri": "https://localhost:8080/"
        },
        "outputId": "e8786120-e40c-431e-c423-899afc39173a"
      },
      "outputs": [
        {
          "output_type": "execute_result",
          "data": {
            "text/plain": [
              "(#34992) [Path('/content/drive/MyDrive/dataset_retina/datasets/train/anonymized_1000305.jpg'),Path('/content/drive/MyDrive/dataset_retina/datasets/train/anonymized_1001345.jpg'),Path('/content/drive/MyDrive/dataset_retina/datasets/train/anonymized_1002097.jpg'),Path('/content/drive/MyDrive/dataset_retina/datasets/train/anonymized_1001957.jpg'),Path('/content/drive/MyDrive/dataset_retina/datasets/train/anonymized_100760.jpg'),Path('/content/drive/MyDrive/dataset_retina/datasets/train/anonymized_1005146.jpg'),Path('/content/drive/MyDrive/dataset_retina/datasets/train/anonymized_10189.jpg'),Path('/content/drive/MyDrive/dataset_retina/datasets/train/anonymized_102768.jpg'),Path('/content/drive/MyDrive/dataset_retina/datasets/train/anonymized_105161.jpg'),Path('/content/drive/MyDrive/dataset_retina/datasets/train/anonymized_104924.jpg')...]"
            ]
          },
          "metadata": {},
          "execution_count": 10
        }
      ],
      "source": [
        "trainPath.ls()"
      ]
    },
    {
      "cell_type": "markdown",
      "source": [
        "Veamos algunos de los archivos que contiene la carpeta `test` mediante la ruta `testPath`"
      ],
      "metadata": {
        "id": "t6YpXTXDU1Wy"
      }
    },
    {
      "cell_type": "code",
      "execution_count": null,
      "metadata": {
        "colab": {
          "base_uri": "https://localhost:8080/"
        },
        "id": "6_huPnQB_9Op",
        "outputId": "4d3c9490-866b-4fd7-b4c4-692e2c0d7cdc"
      },
      "outputs": [
        {
          "output_type": "execute_result",
          "data": {
            "text/plain": [
              "(#8748) [Path('/content/drive/MyDrive/dataset_retina/datasets/test/anonymized_795734.jpg'),Path('/content/drive/MyDrive/dataset_retina/datasets/test/anonymized_796326.jpg'),Path('/content/drive/MyDrive/dataset_retina/datasets/test/anonymized_797216.jpg'),Path('/content/drive/MyDrive/dataset_retina/datasets/test/anonymized_797382.jpg'),Path('/content/drive/MyDrive/dataset_retina/datasets/test/anonymized_79743.jpg'),Path('/content/drive/MyDrive/dataset_retina/datasets/test/anonymized_799441.jpg'),Path('/content/drive/MyDrive/dataset_retina/datasets/test/anonymized_800204.jpg'),Path('/content/drive/MyDrive/dataset_retina/datasets/test/anonymized_801406.jpg'),Path('/content/drive/MyDrive/dataset_retina/datasets/test/anonymized_802443.jpg'),Path('/content/drive/MyDrive/dataset_retina/datasets/test/anonymized_803215.jpg')...]"
            ]
          },
          "metadata": {},
          "execution_count": 11
        }
      ],
      "source": [
        "testPath.ls()"
      ]
    },
    {
      "cell_type": "markdown",
      "metadata": {
        "id": "4pFqXwd59MFy"
      },
      "source": [
        "Se cargan los *dataframes* `dfTrain` y `dfTest`, donde se almacenan los ficheros de anotación del conjunto de `train` y de `test`, respectivamente."
      ]
    },
    {
      "cell_type": "code",
      "execution_count": null,
      "metadata": {
        "id": "4AqNCSQk9SLm"
      },
      "outputs": [],
      "source": [
        "dfTrain = pd.read_csv(pathDataframes/'train.csv')\n",
        "dfTest = pd.read_csv(pathDataframes/'test.csv')"
      ]
    },
    {
      "cell_type": "markdown",
      "source": [
        "Las dimensiones de `dfTrain` son 34991 instancias y 2 campos."
      ],
      "metadata": {
        "id": "iYrwc-cQVeFA"
      }
    },
    {
      "cell_type": "code",
      "execution_count": null,
      "metadata": {
        "colab": {
          "base_uri": "https://localhost:8080/"
        },
        "id": "GztzA5GZAORt",
        "outputId": "88023733-d77e-4907-8a55-383e9c876c25"
      },
      "outputs": [
        {
          "output_type": "execute_result",
          "data": {
            "text/plain": [
              "(34991, 2)"
            ]
          },
          "metadata": {},
          "execution_count": 13
        }
      ],
      "source": [
        "dfTrain.shape"
      ]
    },
    {
      "cell_type": "markdown",
      "source": [
        "Veamos las primeras 3 instancias de `dfTrain`"
      ],
      "metadata": {
        "id": "Dx1z4PGBWLdK"
      }
    },
    {
      "cell_type": "code",
      "execution_count": null,
      "metadata": {
        "colab": {
          "base_uri": "https://localhost:8080/",
          "height": 144
        },
        "id": "jzXcgZteni3i",
        "outputId": "0f9055ed-f7e2-4813-c112-0b9b3a6eb28a"
      },
      "outputs": [
        {
          "output_type": "execute_result",
          "data": {
            "text/plain": [
              "              nombre_foto  edad\n",
              "0  anonymized_1291978.jpg    72\n",
              "1   anonymized_760487.jpg    60\n",
              "2   anonymized_793931.jpg    52"
            ],
            "text/html": [
              "\n",
              "  <div id=\"df-74217506-469c-4f38-8892-3833e4d04858\">\n",
              "    <div class=\"colab-df-container\">\n",
              "      <div>\n",
              "<style scoped>\n",
              "    .dataframe tbody tr th:only-of-type {\n",
              "        vertical-align: middle;\n",
              "    }\n",
              "\n",
              "    .dataframe tbody tr th {\n",
              "        vertical-align: top;\n",
              "    }\n",
              "\n",
              "    .dataframe thead th {\n",
              "        text-align: right;\n",
              "    }\n",
              "</style>\n",
              "<table border=\"1\" class=\"dataframe\">\n",
              "  <thead>\n",
              "    <tr style=\"text-align: right;\">\n",
              "      <th></th>\n",
              "      <th>nombre_foto</th>\n",
              "      <th>edad</th>\n",
              "    </tr>\n",
              "  </thead>\n",
              "  <tbody>\n",
              "    <tr>\n",
              "      <th>0</th>\n",
              "      <td>anonymized_1291978.jpg</td>\n",
              "      <td>72</td>\n",
              "    </tr>\n",
              "    <tr>\n",
              "      <th>1</th>\n",
              "      <td>anonymized_760487.jpg</td>\n",
              "      <td>60</td>\n",
              "    </tr>\n",
              "    <tr>\n",
              "      <th>2</th>\n",
              "      <td>anonymized_793931.jpg</td>\n",
              "      <td>52</td>\n",
              "    </tr>\n",
              "  </tbody>\n",
              "</table>\n",
              "</div>\n",
              "      <button class=\"colab-df-convert\" onclick=\"convertToInteractive('df-74217506-469c-4f38-8892-3833e4d04858')\"\n",
              "              title=\"Convert this dataframe to an interactive table.\"\n",
              "              style=\"display:none;\">\n",
              "        \n",
              "  <svg xmlns=\"http://www.w3.org/2000/svg\" height=\"24px\"viewBox=\"0 0 24 24\"\n",
              "       width=\"24px\">\n",
              "    <path d=\"M0 0h24v24H0V0z\" fill=\"none\"/>\n",
              "    <path d=\"M18.56 5.44l.94 2.06.94-2.06 2.06-.94-2.06-.94-.94-2.06-.94 2.06-2.06.94zm-11 1L8.5 8.5l.94-2.06 2.06-.94-2.06-.94L8.5 2.5l-.94 2.06-2.06.94zm10 10l.94 2.06.94-2.06 2.06-.94-2.06-.94-.94-2.06-.94 2.06-2.06.94z\"/><path d=\"M17.41 7.96l-1.37-1.37c-.4-.4-.92-.59-1.43-.59-.52 0-1.04.2-1.43.59L10.3 9.45l-7.72 7.72c-.78.78-.78 2.05 0 2.83L4 21.41c.39.39.9.59 1.41.59.51 0 1.02-.2 1.41-.59l7.78-7.78 2.81-2.81c.8-.78.8-2.07 0-2.86zM5.41 20L4 18.59l7.72-7.72 1.47 1.35L5.41 20z\"/>\n",
              "  </svg>\n",
              "      </button>\n",
              "      \n",
              "  <style>\n",
              "    .colab-df-container {\n",
              "      display:flex;\n",
              "      flex-wrap:wrap;\n",
              "      gap: 12px;\n",
              "    }\n",
              "\n",
              "    .colab-df-convert {\n",
              "      background-color: #E8F0FE;\n",
              "      border: none;\n",
              "      border-radius: 50%;\n",
              "      cursor: pointer;\n",
              "      display: none;\n",
              "      fill: #1967D2;\n",
              "      height: 32px;\n",
              "      padding: 0 0 0 0;\n",
              "      width: 32px;\n",
              "    }\n",
              "\n",
              "    .colab-df-convert:hover {\n",
              "      background-color: #E2EBFA;\n",
              "      box-shadow: 0px 1px 2px rgba(60, 64, 67, 0.3), 0px 1px 3px 1px rgba(60, 64, 67, 0.15);\n",
              "      fill: #174EA6;\n",
              "    }\n",
              "\n",
              "    [theme=dark] .colab-df-convert {\n",
              "      background-color: #3B4455;\n",
              "      fill: #D2E3FC;\n",
              "    }\n",
              "\n",
              "    [theme=dark] .colab-df-convert:hover {\n",
              "      background-color: #434B5C;\n",
              "      box-shadow: 0px 1px 3px 1px rgba(0, 0, 0, 0.15);\n",
              "      filter: drop-shadow(0px 1px 2px rgba(0, 0, 0, 0.3));\n",
              "      fill: #FFFFFF;\n",
              "    }\n",
              "  </style>\n",
              "\n",
              "      <script>\n",
              "        const buttonEl =\n",
              "          document.querySelector('#df-74217506-469c-4f38-8892-3833e4d04858 button.colab-df-convert');\n",
              "        buttonEl.style.display =\n",
              "          google.colab.kernel.accessAllowed ? 'block' : 'none';\n",
              "\n",
              "        async function convertToInteractive(key) {\n",
              "          const element = document.querySelector('#df-74217506-469c-4f38-8892-3833e4d04858');\n",
              "          const dataTable =\n",
              "            await google.colab.kernel.invokeFunction('convertToInteractive',\n",
              "                                                     [key], {});\n",
              "          if (!dataTable) return;\n",
              "\n",
              "          const docLinkHtml = 'Like what you see? Visit the ' +\n",
              "            '<a target=\"_blank\" href=https://colab.research.google.com/notebooks/data_table.ipynb>data table notebook</a>'\n",
              "            + ' to learn more about interactive tables.';\n",
              "          element.innerHTML = '';\n",
              "          dataTable['output_type'] = 'display_data';\n",
              "          await google.colab.output.renderOutput(dataTable, element);\n",
              "          const docLink = document.createElement('div');\n",
              "          docLink.innerHTML = docLinkHtml;\n",
              "          element.appendChild(docLink);\n",
              "        }\n",
              "      </script>\n",
              "    </div>\n",
              "  </div>\n",
              "  "
            ]
          },
          "metadata": {},
          "execution_count": 14
        }
      ],
      "source": [
        "dfTrain.head(3)"
      ]
    },
    {
      "cell_type": "markdown",
      "source": [
        "Las dimensiones de `dfTest` son 8748 instancias y 2 campos."
      ],
      "metadata": {
        "id": "jPsHZVfbWYuG"
      }
    },
    {
      "cell_type": "code",
      "execution_count": null,
      "metadata": {
        "colab": {
          "base_uri": "https://localhost:8080/"
        },
        "id": "5R-K2HKXAOXj",
        "outputId": "d78fe4d4-3663-451c-8516-cbe3e3bfdede"
      },
      "outputs": [
        {
          "output_type": "execute_result",
          "data": {
            "text/plain": [
              "(8748, 2)"
            ]
          },
          "metadata": {},
          "execution_count": 15
        }
      ],
      "source": [
        "dfTest.shape"
      ]
    },
    {
      "cell_type": "markdown",
      "source": [
        "Veamos las primeras 3 instancias de `dfTest`"
      ],
      "metadata": {
        "id": "kFEC97H6Whjc"
      }
    },
    {
      "cell_type": "code",
      "execution_count": null,
      "metadata": {
        "colab": {
          "base_uri": "https://localhost:8080/",
          "height": 144
        },
        "id": "K0fSULEdnlZZ",
        "outputId": "de37b83d-73b0-43ee-b542-12d19e749d13"
      },
      "outputs": [
        {
          "output_type": "execute_result",
          "data": {
            "text/plain": [
              "             nombre_foto  edad\n",
              "0  anonymized_341764.jpg    51\n",
              "1  anonymized_698952.jpg    69\n",
              "2  anonymized_208387.jpg    46"
            ],
            "text/html": [
              "\n",
              "  <div id=\"df-e83dbd0f-2bfe-4743-8baa-898815b6d740\">\n",
              "    <div class=\"colab-df-container\">\n",
              "      <div>\n",
              "<style scoped>\n",
              "    .dataframe tbody tr th:only-of-type {\n",
              "        vertical-align: middle;\n",
              "    }\n",
              "\n",
              "    .dataframe tbody tr th {\n",
              "        vertical-align: top;\n",
              "    }\n",
              "\n",
              "    .dataframe thead th {\n",
              "        text-align: right;\n",
              "    }\n",
              "</style>\n",
              "<table border=\"1\" class=\"dataframe\">\n",
              "  <thead>\n",
              "    <tr style=\"text-align: right;\">\n",
              "      <th></th>\n",
              "      <th>nombre_foto</th>\n",
              "      <th>edad</th>\n",
              "    </tr>\n",
              "  </thead>\n",
              "  <tbody>\n",
              "    <tr>\n",
              "      <th>0</th>\n",
              "      <td>anonymized_341764.jpg</td>\n",
              "      <td>51</td>\n",
              "    </tr>\n",
              "    <tr>\n",
              "      <th>1</th>\n",
              "      <td>anonymized_698952.jpg</td>\n",
              "      <td>69</td>\n",
              "    </tr>\n",
              "    <tr>\n",
              "      <th>2</th>\n",
              "      <td>anonymized_208387.jpg</td>\n",
              "      <td>46</td>\n",
              "    </tr>\n",
              "  </tbody>\n",
              "</table>\n",
              "</div>\n",
              "      <button class=\"colab-df-convert\" onclick=\"convertToInteractive('df-e83dbd0f-2bfe-4743-8baa-898815b6d740')\"\n",
              "              title=\"Convert this dataframe to an interactive table.\"\n",
              "              style=\"display:none;\">\n",
              "        \n",
              "  <svg xmlns=\"http://www.w3.org/2000/svg\" height=\"24px\"viewBox=\"0 0 24 24\"\n",
              "       width=\"24px\">\n",
              "    <path d=\"M0 0h24v24H0V0z\" fill=\"none\"/>\n",
              "    <path d=\"M18.56 5.44l.94 2.06.94-2.06 2.06-.94-2.06-.94-.94-2.06-.94 2.06-2.06.94zm-11 1L8.5 8.5l.94-2.06 2.06-.94-2.06-.94L8.5 2.5l-.94 2.06-2.06.94zm10 10l.94 2.06.94-2.06 2.06-.94-2.06-.94-.94-2.06-.94 2.06-2.06.94z\"/><path d=\"M17.41 7.96l-1.37-1.37c-.4-.4-.92-.59-1.43-.59-.52 0-1.04.2-1.43.59L10.3 9.45l-7.72 7.72c-.78.78-.78 2.05 0 2.83L4 21.41c.39.39.9.59 1.41.59.51 0 1.02-.2 1.41-.59l7.78-7.78 2.81-2.81c.8-.78.8-2.07 0-2.86zM5.41 20L4 18.59l7.72-7.72 1.47 1.35L5.41 20z\"/>\n",
              "  </svg>\n",
              "      </button>\n",
              "      \n",
              "  <style>\n",
              "    .colab-df-container {\n",
              "      display:flex;\n",
              "      flex-wrap:wrap;\n",
              "      gap: 12px;\n",
              "    }\n",
              "\n",
              "    .colab-df-convert {\n",
              "      background-color: #E8F0FE;\n",
              "      border: none;\n",
              "      border-radius: 50%;\n",
              "      cursor: pointer;\n",
              "      display: none;\n",
              "      fill: #1967D2;\n",
              "      height: 32px;\n",
              "      padding: 0 0 0 0;\n",
              "      width: 32px;\n",
              "    }\n",
              "\n",
              "    .colab-df-convert:hover {\n",
              "      background-color: #E2EBFA;\n",
              "      box-shadow: 0px 1px 2px rgba(60, 64, 67, 0.3), 0px 1px 3px 1px rgba(60, 64, 67, 0.15);\n",
              "      fill: #174EA6;\n",
              "    }\n",
              "\n",
              "    [theme=dark] .colab-df-convert {\n",
              "      background-color: #3B4455;\n",
              "      fill: #D2E3FC;\n",
              "    }\n",
              "\n",
              "    [theme=dark] .colab-df-convert:hover {\n",
              "      background-color: #434B5C;\n",
              "      box-shadow: 0px 1px 3px 1px rgba(0, 0, 0, 0.15);\n",
              "      filter: drop-shadow(0px 1px 2px rgba(0, 0, 0, 0.3));\n",
              "      fill: #FFFFFF;\n",
              "    }\n",
              "  </style>\n",
              "\n",
              "      <script>\n",
              "        const buttonEl =\n",
              "          document.querySelector('#df-e83dbd0f-2bfe-4743-8baa-898815b6d740 button.colab-df-convert');\n",
              "        buttonEl.style.display =\n",
              "          google.colab.kernel.accessAllowed ? 'block' : 'none';\n",
              "\n",
              "        async function convertToInteractive(key) {\n",
              "          const element = document.querySelector('#df-e83dbd0f-2bfe-4743-8baa-898815b6d740');\n",
              "          const dataTable =\n",
              "            await google.colab.kernel.invokeFunction('convertToInteractive',\n",
              "                                                     [key], {});\n",
              "          if (!dataTable) return;\n",
              "\n",
              "          const docLinkHtml = 'Like what you see? Visit the ' +\n",
              "            '<a target=\"_blank\" href=https://colab.research.google.com/notebooks/data_table.ipynb>data table notebook</a>'\n",
              "            + ' to learn more about interactive tables.';\n",
              "          element.innerHTML = '';\n",
              "          dataTable['output_type'] = 'display_data';\n",
              "          await google.colab.output.renderOutput(dataTable, element);\n",
              "          const docLink = document.createElement('div');\n",
              "          docLink.innerHTML = docLinkHtml;\n",
              "          element.appendChild(docLink);\n",
              "        }\n",
              "      </script>\n",
              "    </div>\n",
              "  </div>\n",
              "  "
            ]
          },
          "metadata": {},
          "execution_count": 16
        }
      ],
      "source": [
        "dfTest.head(3)"
      ]
    },
    {
      "cell_type": "markdown",
      "metadata": {
        "id": "7G2u-HLWpM-E"
      },
      "source": [
        "# Comparación entre todos los modelos\n",
        "\n",
        "---"
      ]
    },
    {
      "cell_type": "markdown",
      "metadata": {
        "id": "fD_gC9xaOKB5"
      },
      "source": [
        "Teniendo en cuenta que se ha terminado el estudio de los modelos, se pueden observar los siguientes resultados:\n",
        "\n",
        "\n",
        "\n"
      ]
    },
    {
      "cell_type": "code",
      "source": [
        "Image(\"/content/resultados_modelos.png\")"
      ],
      "metadata": {
        "id": "BizV9erIrmP8",
        "colab": {
          "base_uri": "https://localhost:8080/",
          "height": 269
        },
        "outputId": "1934dbc6-a947-4d0a-f540-dbd000e2449f"
      },
      "execution_count": 6,
      "outputs": [
        {
          "output_type": "execute_result",
          "data": {
            "text/plain": [
              "<IPython.core.display.Image object>"
            ],
            "image/png": "[encoded data removed]"
          },
          "metadata": {},
          "execution_count": 6
        }
      ]
    },
    {
      "cell_type": "markdown",
      "source": [
        "Se puede observar que los mejores son: *EfficientNet-B3*, *ResNet-152* y *ResNet-34*, para el testeo. Por tanto, podemos unir estos modelos, a través de un modelo de **Ensemble**."
      ],
      "metadata": {
        "id": "Ond4RD54ya7E"
      }
    },
    {
      "cell_type": "markdown",
      "metadata": {
        "id": "DUWb6BF_p7ib"
      },
      "source": [
        "# Cargando el *dataset*\n",
        "---"
      ]
    },
    {
      "cell_type": "markdown",
      "metadata": {
        "id": "iTCOb5GWZLtg"
      },
      "source": [
        "Se carga el *dataset* para poder posteriormente crear el modelo. Este proceso se hace en dos pasos. Primero se construye un objeto `DataBlock` y a continuación se construye un objeto `DataLoader` a partir del `DataBlock`.\n"
      ]
    },
    {
      "cell_type": "markdown",
      "metadata": {
        "id": "0fUcWxWGxHMA"
      },
      "source": [
        "# Cargando los modelos \n",
        "---"
      ]
    },
    {
      "cell_type": "markdown",
      "source": [
        "Para realizar el **Ensemble** hemos elegido los mejores tres modelos, los cuales han sido entrenados previamente:\n",
        "\n",
        "\n",
        "\n",
        "1.   El *notebook* 8 contiene el modelo *EfficientNet-B3*\n",
        "2.   El *notebook* 9 contiene el modelo *ResNet-152*\n",
        "3.   El *notebook* 7 contiene el modelo *ResNet-34*\n",
        "\n",
        "Por tanto, se han exportado cada uno de los modelos (mencionados anteriormente) como: `export_model8.pkl, export_model9.pkl` y `export_model7.pkl`. \n",
        "\n",
        "\n"
      ],
      "metadata": {
        "id": "NRp1-JtPW1K2"
      }
    },
    {
      "cell_type": "markdown",
      "source": [
        "Además, denotaremos:\n",
        "\n",
        "- Modelo 1 a *EfficientNet-B3*\n",
        "- Modelo 2 a *ResNet-152*\n",
        "- Modelo 3 a *ResNet-34*\n"
      ],
      "metadata": {
        "id": "lKUC9YbPhtgb"
      }
    },
    {
      "cell_type": "markdown",
      "metadata": {
        "id": "_00Wr_ccxMO9"
      },
      "source": [
        "Se carga el `path` que contiene el *export* de los modelos"
      ]
    },
    {
      "cell_type": "code",
      "execution_count": null,
      "metadata": {
        "id": "7CWtD53yzr4C"
      },
      "outputs": [],
      "source": [
        "path_models = Path('/content/drive/MyDrive/dataset_retina/Ensemble/data_models_retina_exports/')"
      ]
    },
    {
      "cell_type": "markdown",
      "metadata": {
        "id": "zL054pdDz2RW"
      },
      "source": [
        "Importamos los 3 mejores modelos "
      ]
    },
    {
      "cell_type": "code",
      "execution_count": null,
      "metadata": {
        "id": "rjatgv0EznwV"
      },
      "outputs": [],
      "source": [
        "learn_model1 = load_learner(os.path.join(path_models, 'export_model8.pkl'))"
      ]
    },
    {
      "cell_type": "code",
      "execution_count": null,
      "metadata": {
        "id": "54EdrL1ez5t2"
      },
      "outputs": [],
      "source": [
        "learn_model2 = load_learner(os.path.join(path_models, 'export_model9.pkl'))"
      ]
    },
    {
      "cell_type": "code",
      "execution_count": null,
      "metadata": {
        "id": "j5UBBJnFz7nY"
      },
      "outputs": [],
      "source": [
        "learn_model3 = load_learner(os.path.join(path_models, 'export_model7.pkl'))"
      ]
    },
    {
      "cell_type": "markdown",
      "metadata": {
        "id": "3095gF1uqX6J"
      },
      "source": [
        "Verificamos si los modelos están cargando bien. Por lo que realizamos la predicción sobre una imagen en particular tomada del conjunto de `test` cuya edad real es 51 años."
      ]
    },
    {
      "cell_type": "code",
      "execution_count": null,
      "metadata": {
        "id": "HbCC49rhseZl"
      },
      "outputs": [],
      "source": [
        "img = '/content/anonymized_341764.jpg' #ground truth 51"
      ]
    },
    {
      "cell_type": "code",
      "source": [
        "imagen1 = dfTest['nombre_foto'] == 'anonymized_341764.jpg'\n",
        "df_imagen1 = dfTest.loc[imagen1]\n",
        "df_imagen1.head()"
      ],
      "metadata": {
        "colab": {
          "base_uri": "https://localhost:8080/",
          "height": 81
        },
        "id": "02QzEmzzEv0d",
        "outputId": "514f7dff-cac6-4ad1-dd16-f91228500d34"
      },
      "execution_count": null,
      "outputs": [
        {
          "output_type": "execute_result",
          "data": {
            "text/plain": [
              "             nombre_foto  edad\n",
              "0  anonymized_341764.jpg    51"
            ],
            "text/html": [
              "\n",
              "  <div id=\"df-2981cc0b-a5c8-445f-b7cb-c925ac5aee3f\">\n",
              "    <div class=\"colab-df-container\">\n",
              "      <div>\n",
              "<style scoped>\n",
              "    .dataframe tbody tr th:only-of-type {\n",
              "        vertical-align: middle;\n",
              "    }\n",
              "\n",
              "    .dataframe tbody tr th {\n",
              "        vertical-align: top;\n",
              "    }\n",
              "\n",
              "    .dataframe thead th {\n",
              "        text-align: right;\n",
              "    }\n",
              "</style>\n",
              "<table border=\"1\" class=\"dataframe\">\n",
              "  <thead>\n",
              "    <tr style=\"text-align: right;\">\n",
              "      <th></th>\n",
              "      <th>nombre_foto</th>\n",
              "      <th>edad</th>\n",
              "    </tr>\n",
              "  </thead>\n",
              "  <tbody>\n",
              "    <tr>\n",
              "      <th>0</th>\n",
              "      <td>anonymized_341764.jpg</td>\n",
              "      <td>51</td>\n",
              "    </tr>\n",
              "  </tbody>\n",
              "</table>\n",
              "</div>\n",
              "      <button class=\"colab-df-convert\" onclick=\"convertToInteractive('df-2981cc0b-a5c8-445f-b7cb-c925ac5aee3f')\"\n",
              "              title=\"Convert this dataframe to an interactive table.\"\n",
              "              style=\"display:none;\">\n",
              "        \n",
              "  <svg xmlns=\"http://www.w3.org/2000/svg\" height=\"24px\"viewBox=\"0 0 24 24\"\n",
              "       width=\"24px\">\n",
              "    <path d=\"M0 0h24v24H0V0z\" fill=\"none\"/>\n",
              "    <path d=\"M18.56 5.44l.94 2.06.94-2.06 2.06-.94-2.06-.94-.94-2.06-.94 2.06-2.06.94zm-11 1L8.5 8.5l.94-2.06 2.06-.94-2.06-.94L8.5 2.5l-.94 2.06-2.06.94zm10 10l.94 2.06.94-2.06 2.06-.94-2.06-.94-.94-2.06-.94 2.06-2.06.94z\"/><path d=\"M17.41 7.96l-1.37-1.37c-.4-.4-.92-.59-1.43-.59-.52 0-1.04.2-1.43.59L10.3 9.45l-7.72 7.72c-.78.78-.78 2.05 0 2.83L4 21.41c.39.39.9.59 1.41.59.51 0 1.02-.2 1.41-.59l7.78-7.78 2.81-2.81c.8-.78.8-2.07 0-2.86zM5.41 20L4 18.59l7.72-7.72 1.47 1.35L5.41 20z\"/>\n",
              "  </svg>\n",
              "      </button>\n",
              "      \n",
              "  <style>\n",
              "    .colab-df-container {\n",
              "      display:flex;\n",
              "      flex-wrap:wrap;\n",
              "      gap: 12px;\n",
              "    }\n",
              "\n",
              "    .colab-df-convert {\n",
              "      background-color: #E8F0FE;\n",
              "      border: none;\n",
              "      border-radius: 50%;\n",
              "      cursor: pointer;\n",
              "      display: none;\n",
              "      fill: #1967D2;\n",
              "      height: 32px;\n",
              "      padding: 0 0 0 0;\n",
              "      width: 32px;\n",
              "    }\n",
              "\n",
              "    .colab-df-convert:hover {\n",
              "      background-color: #E2EBFA;\n",
              "      box-shadow: 0px 1px 2px rgba(60, 64, 67, 0.3), 0px 1px 3px 1px rgba(60, 64, 67, 0.15);\n",
              "      fill: #174EA6;\n",
              "    }\n",
              "\n",
              "    [theme=dark] .colab-df-convert {\n",
              "      background-color: #3B4455;\n",
              "      fill: #D2E3FC;\n",
              "    }\n",
              "\n",
              "    [theme=dark] .colab-df-convert:hover {\n",
              "      background-color: #434B5C;\n",
              "      box-shadow: 0px 1px 3px 1px rgba(0, 0, 0, 0.15);\n",
              "      filter: drop-shadow(0px 1px 2px rgba(0, 0, 0, 0.3));\n",
              "      fill: #FFFFFF;\n",
              "    }\n",
              "  </style>\n",
              "\n",
              "      <script>\n",
              "        const buttonEl =\n",
              "          document.querySelector('#df-2981cc0b-a5c8-445f-b7cb-c925ac5aee3f button.colab-df-convert');\n",
              "        buttonEl.style.display =\n",
              "          google.colab.kernel.accessAllowed ? 'block' : 'none';\n",
              "\n",
              "        async function convertToInteractive(key) {\n",
              "          const element = document.querySelector('#df-2981cc0b-a5c8-445f-b7cb-c925ac5aee3f');\n",
              "          const dataTable =\n",
              "            await google.colab.kernel.invokeFunction('convertToInteractive',\n",
              "                                                     [key], {});\n",
              "          if (!dataTable) return;\n",
              "\n",
              "          const docLinkHtml = 'Like what you see? Visit the ' +\n",
              "            '<a target=\"_blank\" href=https://colab.research.google.com/notebooks/data_table.ipynb>data table notebook</a>'\n",
              "            + ' to learn more about interactive tables.';\n",
              "          element.innerHTML = '';\n",
              "          dataTable['output_type'] = 'display_data';\n",
              "          await google.colab.output.renderOutput(dataTable, element);\n",
              "          const docLink = document.createElement('div');\n",
              "          docLink.innerHTML = docLinkHtml;\n",
              "          element.appendChild(docLink);\n",
              "        }\n",
              "      </script>\n",
              "    </div>\n",
              "  </div>\n",
              "  "
            ]
          },
          "metadata": {},
          "execution_count": 87
        }
      ]
    },
    {
      "cell_type": "markdown",
      "source": [
        "Utilizamos el método `predict` sobre el *Learner* del  **modelo 1 *EfficientNet-B3*** para la imagen anterior y obtenemos que la edad predicha es 50 años "
      ],
      "metadata": {
        "id": "NbZvNbfvYw20"
      }
    },
    {
      "cell_type": "code",
      "execution_count": null,
      "metadata": {
        "colab": {
          "base_uri": "https://localhost:8080/",
          "height": 34
        },
        "outputId": "696f8cea-fac2-4949-e311-c3200d695537",
        "id": "4AJOFxU9mZ7-"
      },
      "outputs": [
        {
          "data": {
            "text/html": [
              "\n",
              "<style>\n",
              "    /* Turns off some styling */\n",
              "    progress {\n",
              "        /* gets rid of default border in Firefox and Opera. */\n",
              "        border: none;\n",
              "        /* Needs to be in here for Safari polyfill so background images work as expected. */\n",
              "        background-size: auto;\n",
              "    }\n",
              "    .progress-bar-interrupted, .progress-bar-interrupted::-webkit-progress-bar {\n",
              "        background: #F44336;\n",
              "    }\n",
              "</style>\n"
            ],
            "text/plain": [
              "<IPython.core.display.HTML object>"
            ]
          },
          "metadata": {},
          "output_type": "display_data"
        },
        {
          "data": {
            "text/html": [
              ""
            ],
            "text/plain": [
              "<IPython.core.display.HTML object>"
            ]
          },
          "metadata": {},
          "output_type": "display_data"
        },
        {
          "data": {
            "text/plain": [
              "((50.066566467285156), TensorBase([50.0666]), TensorBase([50.0666]))"
            ]
          },
          "execution_count": 22,
          "metadata": {},
          "output_type": "execute_result"
        }
      ],
      "source": [
        "learn_model1.predict(img)"
      ]
    },
    {
      "cell_type": "markdown",
      "source": [
        "Utilizamos el método `predict` sobre el *Learner* del **modelo 2 *ResNet-152*** para la imagen anterior y obtenemos que la edad predicha es 45 años"
      ],
      "metadata": {
        "id": "SSN1S91NmlyD"
      }
    },
    {
      "cell_type": "code",
      "execution_count": null,
      "metadata": {
        "colab": {
          "base_uri": "https://localhost:8080/",
          "height": 34
        },
        "id": "3A1Q16S5sr2r",
        "outputId": "639884da-c6db-4e60-e673-bd92defa4a97"
      },
      "outputs": [
        {
          "data": {
            "text/html": [
              "\n",
              "<style>\n",
              "    /* Turns off some styling */\n",
              "    progress {\n",
              "        /* gets rid of default border in Firefox and Opera. */\n",
              "        border: none;\n",
              "        /* Needs to be in here for Safari polyfill so background images work as expected. */\n",
              "        background-size: auto;\n",
              "    }\n",
              "    .progress-bar-interrupted, .progress-bar-interrupted::-webkit-progress-bar {\n",
              "        background: #F44336;\n",
              "    }\n",
              "</style>\n"
            ],
            "text/plain": [
              "<IPython.core.display.HTML object>"
            ]
          },
          "metadata": {},
          "output_type": "display_data"
        },
        {
          "data": {
            "text/html": [
              ""
            ],
            "text/plain": [
              "<IPython.core.display.HTML object>"
            ]
          },
          "metadata": {},
          "output_type": "display_data"
        },
        {
          "data": {
            "text/plain": [
              "((44.966514587402344), TensorBase([44.9665]), TensorBase([44.9665]))"
            ]
          },
          "execution_count": 23,
          "metadata": {},
          "output_type": "execute_result"
        }
      ],
      "source": [
        "learn_model2.predict(img)"
      ]
    },
    {
      "cell_type": "markdown",
      "source": [
        "Utilizamos el método `predict` sobre el *Learner* del **modelo 3 *ResNet-34*** para la imagen anterior y obtenemos que la edad predicha es 53 años"
      ],
      "metadata": {
        "id": "yB5sISOmmrfM"
      }
    },
    {
      "cell_type": "code",
      "execution_count": null,
      "metadata": {
        "colab": {
          "base_uri": "https://localhost:8080/",
          "height": 34
        },
        "id": "kMYXiAJfokox",
        "outputId": "3d359ead-f867-475f-bb5d-2a54198f1291"
      },
      "outputs": [
        {
          "data": {
            "text/html": [
              "\n",
              "<style>\n",
              "    /* Turns off some styling */\n",
              "    progress {\n",
              "        /* gets rid of default border in Firefox and Opera. */\n",
              "        border: none;\n",
              "        /* Needs to be in here for Safari polyfill so background images work as expected. */\n",
              "        background-size: auto;\n",
              "    }\n",
              "    .progress-bar-interrupted, .progress-bar-interrupted::-webkit-progress-bar {\n",
              "        background: #F44336;\n",
              "    }\n",
              "</style>\n"
            ],
            "text/plain": [
              "<IPython.core.display.HTML object>"
            ]
          },
          "metadata": {},
          "output_type": "display_data"
        },
        {
          "data": {
            "text/html": [
              ""
            ],
            "text/plain": [
              "<IPython.core.display.HTML object>"
            ]
          },
          "metadata": {},
          "output_type": "display_data"
        },
        {
          "data": {
            "text/plain": [
              "((52.76578140258789), TensorBase([52.7658]), TensorBase([52.7658]))"
            ]
          },
          "execution_count": 24,
          "metadata": {},
          "output_type": "execute_result"
        }
      ],
      "source": [
        "learn_model3.predict(img)"
      ]
    },
    {
      "cell_type": "markdown",
      "metadata": {
        "id": "hLdWq_JLqX-M"
      },
      "source": [
        "Considere la lista de los mejores modelos"
      ]
    },
    {
      "cell_type": "code",
      "execution_count": null,
      "metadata": {
        "id": "zkGu02Li1ECj"
      },
      "outputs": [],
      "source": [
        "lista_modelos = [learn_model1, learn_model2, learn_model3]"
      ]
    },
    {
      "cell_type": "markdown",
      "metadata": {
        "id": "splDxYGE35KR"
      },
      "source": [
        "## Evaluando el modelo en el conjunto de *test*\n",
        "---\n",
        "\n",
        "Para poder evaluar el modelo en el conjunto de *test* debemos crear un nuevo `DataBlock` y un nuevo `DataLoader`. La única diferencia con el `DataBlock` utilizado previamente es que para hacer la partición del *dataset* usamos un objeto de la clase `IndexSplitter` para indicar el conjunto de *test*. En el caso del `DataLoader`, cambiamos la ruta al path. "
      ]
    },
    {
      "cell_type": "markdown",
      "source": [
        "En este caso, concatenamos los *dataframes* *dfTrain* y *dfTest*"
      ],
      "metadata": {
        "id": "CMJMOLjom_BW"
      }
    },
    {
      "cell_type": "code",
      "execution_count": null,
      "metadata": {
        "id": "yn4IGhBB35KT"
      },
      "outputs": [],
      "source": [
        "df1 = pd.concat([dfTrain, dfTest]) #El orden de concatenación es importante: Los de train están arriba y test abajo"
      ]
    },
    {
      "cell_type": "markdown",
      "source": [
        "`df1` es el *dataframe* que contiene las anotaciones de todas las imágenes tanto de *train* como *test*. La dimensión consta de 43739 instancias y 2 campos."
      ],
      "metadata": {
        "id": "qZQ3p0oInms8"
      }
    },
    {
      "cell_type": "code",
      "execution_count": null,
      "metadata": {
        "colab": {
          "base_uri": "https://localhost:8080/"
        },
        "id": "WLeX2EKHc7iW",
        "outputId": "92538eb1-4778-4d75-d798-6641ab56480d"
      },
      "outputs": [
        {
          "output_type": "execute_result",
          "data": {
            "text/plain": [
              "(43739, 2)"
            ]
          },
          "metadata": {},
          "execution_count": 22
        }
      ],
      "source": [
        "df1.shape"
      ]
    },
    {
      "cell_type": "markdown",
      "source": [
        "Veamos las primeras 3 instancias de *df1*"
      ],
      "metadata": {
        "id": "njec_AZboJvC"
      }
    },
    {
      "cell_type": "code",
      "execution_count": null,
      "metadata": {
        "colab": {
          "base_uri": "https://localhost:8080/",
          "height": 144
        },
        "id": "sNIhWi4jpcsz",
        "outputId": "dbc821bc-e72c-4a89-a957-45c5783afb77"
      },
      "outputs": [
        {
          "output_type": "execute_result",
          "data": {
            "text/plain": [
              "              nombre_foto  edad\n",
              "0  anonymized_1291978.jpg    72\n",
              "1   anonymized_760487.jpg    60\n",
              "2   anonymized_793931.jpg    52"
            ],
            "text/html": [
              "\n",
              "  <div id=\"df-cb42b0f7-934a-40b7-a8e2-5ba35a4efce0\">\n",
              "    <div class=\"colab-df-container\">\n",
              "      <div>\n",
              "<style scoped>\n",
              "    .dataframe tbody tr th:only-of-type {\n",
              "        vertical-align: middle;\n",
              "    }\n",
              "\n",
              "    .dataframe tbody tr th {\n",
              "        vertical-align: top;\n",
              "    }\n",
              "\n",
              "    .dataframe thead th {\n",
              "        text-align: right;\n",
              "    }\n",
              "</style>\n",
              "<table border=\"1\" class=\"dataframe\">\n",
              "  <thead>\n",
              "    <tr style=\"text-align: right;\">\n",
              "      <th></th>\n",
              "      <th>nombre_foto</th>\n",
              "      <th>edad</th>\n",
              "    </tr>\n",
              "  </thead>\n",
              "  <tbody>\n",
              "    <tr>\n",
              "      <th>0</th>\n",
              "      <td>anonymized_1291978.jpg</td>\n",
              "      <td>72</td>\n",
              "    </tr>\n",
              "    <tr>\n",
              "      <th>1</th>\n",
              "      <td>anonymized_760487.jpg</td>\n",
              "      <td>60</td>\n",
              "    </tr>\n",
              "    <tr>\n",
              "      <th>2</th>\n",
              "      <td>anonymized_793931.jpg</td>\n",
              "      <td>52</td>\n",
              "    </tr>\n",
              "  </tbody>\n",
              "</table>\n",
              "</div>\n",
              "      <button class=\"colab-df-convert\" onclick=\"convertToInteractive('df-cb42b0f7-934a-40b7-a8e2-5ba35a4efce0')\"\n",
              "              title=\"Convert this dataframe to an interactive table.\"\n",
              "              style=\"display:none;\">\n",
              "        \n",
              "  <svg xmlns=\"http://www.w3.org/2000/svg\" height=\"24px\"viewBox=\"0 0 24 24\"\n",
              "       width=\"24px\">\n",
              "    <path d=\"M0 0h24v24H0V0z\" fill=\"none\"/>\n",
              "    <path d=\"M18.56 5.44l.94 2.06.94-2.06 2.06-.94-2.06-.94-.94-2.06-.94 2.06-2.06.94zm-11 1L8.5 8.5l.94-2.06 2.06-.94-2.06-.94L8.5 2.5l-.94 2.06-2.06.94zm10 10l.94 2.06.94-2.06 2.06-.94-2.06-.94-.94-2.06-.94 2.06-2.06.94z\"/><path d=\"M17.41 7.96l-1.37-1.37c-.4-.4-.92-.59-1.43-.59-.52 0-1.04.2-1.43.59L10.3 9.45l-7.72 7.72c-.78.78-.78 2.05 0 2.83L4 21.41c.39.39.9.59 1.41.59.51 0 1.02-.2 1.41-.59l7.78-7.78 2.81-2.81c.8-.78.8-2.07 0-2.86zM5.41 20L4 18.59l7.72-7.72 1.47 1.35L5.41 20z\"/>\n",
              "  </svg>\n",
              "      </button>\n",
              "      \n",
              "  <style>\n",
              "    .colab-df-container {\n",
              "      display:flex;\n",
              "      flex-wrap:wrap;\n",
              "      gap: 12px;\n",
              "    }\n",
              "\n",
              "    .colab-df-convert {\n",
              "      background-color: #E8F0FE;\n",
              "      border: none;\n",
              "      border-radius: 50%;\n",
              "      cursor: pointer;\n",
              "      display: none;\n",
              "      fill: #1967D2;\n",
              "      height: 32px;\n",
              "      padding: 0 0 0 0;\n",
              "      width: 32px;\n",
              "    }\n",
              "\n",
              "    .colab-df-convert:hover {\n",
              "      background-color: #E2EBFA;\n",
              "      box-shadow: 0px 1px 2px rgba(60, 64, 67, 0.3), 0px 1px 3px 1px rgba(60, 64, 67, 0.15);\n",
              "      fill: #174EA6;\n",
              "    }\n",
              "\n",
              "    [theme=dark] .colab-df-convert {\n",
              "      background-color: #3B4455;\n",
              "      fill: #D2E3FC;\n",
              "    }\n",
              "\n",
              "    [theme=dark] .colab-df-convert:hover {\n",
              "      background-color: #434B5C;\n",
              "      box-shadow: 0px 1px 3px 1px rgba(0, 0, 0, 0.15);\n",
              "      filter: drop-shadow(0px 1px 2px rgba(0, 0, 0, 0.3));\n",
              "      fill: #FFFFFF;\n",
              "    }\n",
              "  </style>\n",
              "\n",
              "      <script>\n",
              "        const buttonEl =\n",
              "          document.querySelector('#df-cb42b0f7-934a-40b7-a8e2-5ba35a4efce0 button.colab-df-convert');\n",
              "        buttonEl.style.display =\n",
              "          google.colab.kernel.accessAllowed ? 'block' : 'none';\n",
              "\n",
              "        async function convertToInteractive(key) {\n",
              "          const element = document.querySelector('#df-cb42b0f7-934a-40b7-a8e2-5ba35a4efce0');\n",
              "          const dataTable =\n",
              "            await google.colab.kernel.invokeFunction('convertToInteractive',\n",
              "                                                     [key], {});\n",
              "          if (!dataTable) return;\n",
              "\n",
              "          const docLinkHtml = 'Like what you see? Visit the ' +\n",
              "            '<a target=\"_blank\" href=https://colab.research.google.com/notebooks/data_table.ipynb>data table notebook</a>'\n",
              "            + ' to learn more about interactive tables.';\n",
              "          element.innerHTML = '';\n",
              "          dataTable['output_type'] = 'display_data';\n",
              "          await google.colab.output.renderOutput(dataTable, element);\n",
              "          const docLink = document.createElement('div');\n",
              "          docLink.innerHTML = docLinkHtml;\n",
              "          element.appendChild(docLink);\n",
              "        }\n",
              "      </script>\n",
              "    </div>\n",
              "  </div>\n",
              "  "
            ]
          },
          "metadata": {},
          "execution_count": 23
        }
      ],
      "source": [
        "df1.head(3)"
      ]
    },
    {
      "cell_type": "markdown",
      "metadata": {
        "id": "Z612L9zspv6X"
      },
      "source": [
        "Se hace un `get_x` y un `get_y` usando el *dataframe*"
      ]
    },
    {
      "cell_type": "code",
      "execution_count": null,
      "metadata": {
        "id": "DO3k1zpopu_n"
      },
      "outputs": [],
      "source": [
        "get_x = ColReader('nombre_foto', pref= pathAllImages)\n",
        "get_y = ColReader('edad')"
      ]
    },
    {
      "cell_type": "markdown",
      "metadata": {
        "id": "fivrd7J-lRAT"
      },
      "source": [
        "Dado que, el conjunto de *test* se ha creado a partir de un subconjunto del *dataset*, entonces para considerarlo en la evaluación del modelo, usamos la clase ``IndexSplitter``.\n",
        "\n",
        "Para ello, se ha creado el dataframe *df1*, construido a partir de la concatenación del *dfTrain* y *dfTest* (en este orden). Luego, se seleccionan sólo los elementos de *test* de *df1* teniendo en cuenta las longitudes de *dfTrain* y de *df1*. De esta manera, esta clase divide los elementos de *dfTest* en el conjunto de validación y los demás en el conjunto de entrenamiento."
      ]
    },
    {
      "cell_type": "markdown",
      "source": [
        "Creamos el `DataBlock`"
      ],
      "metadata": {
        "id": "IE70aaZQofLL"
      }
    },
    {
      "cell_type": "code",
      "execution_count": null,
      "metadata": {
        "id": "wDnUcJcvbDR-"
      },
      "outputs": [],
      "source": [
        "#RegressionBlock: Bloque de transformación para variables objetivos flotantes\n",
        "dbTest = DataBlock(blocks=(ImageBlock, RegressionBlock()), #Recibe imágenes y devuelve un RegressionBlock\n",
        "                  get_x = get_x, \n",
        "                  get_y = get_y, \n",
        "                  splitter= IndexSplitter(range(len(dfTrain), len(df1))),  #Para carpetas GrandparentSplitter(valid_name='dfTest').l 15% de los datos de Training son para validar\n",
        "                  #splitter=GrandparentSplitter(valid_name='test'), #Usamos el conjunto de test\n",
        "                  item_tfms = Resize(299, method='squish'), \n",
        "                  batch_tfms=[*aug_transforms(size=224, flip_vert = True)])"
      ]
    },
    {
      "cell_type": "markdown",
      "source": [
        "Construimos el `DataLoader` a partir del objeto `DataBlock`"
      ],
      "metadata": {
        "id": "lvYt6c1GoiOu"
      }
    },
    {
      "cell_type": "code",
      "execution_count": null,
      "metadata": {
        "id": "3VYsH8qj35KW"
      },
      "outputs": [],
      "source": [
        "dlsTest = dbTest.dataloaders(df1,bs=50)"
      ]
    },
    {
      "cell_type": "markdown",
      "metadata": {
        "id": "skyK5TQa35KZ"
      },
      "source": [
        "Para trabajar con este `DataLoader` se debe modificar el objeto `Learner`. En concreto su atributo `dls`. "
      ]
    },
    {
      "cell_type": "code",
      "execution_count": null,
      "metadata": {
        "id": "3ua9Cfv64FDe"
      },
      "outputs": [],
      "source": [
        "learn_model1.dls = dlsTest"
      ]
    },
    {
      "cell_type": "markdown",
      "metadata": {
        "id": "e0N5-p_G35Kb"
      },
      "source": [
        "Por último, se evalúa el modelo usando el método `validate` y verificamos que el valor de la métrica `mae` obtenido en el modelo 1 es 6.7%."
      ]
    },
    {
      "cell_type": "code",
      "execution_count": null,
      "metadata": {
        "colab": {
          "base_uri": "https://localhost:8080/",
          "height": 34
        },
        "id": "6tb47vsM35Kd",
        "outputId": "dbcc2f63-84be-49bc-cc1d-ef5ab1dbf4e6"
      },
      "outputs": [
        {
          "output_type": "display_data",
          "data": {
            "text/plain": [
              "<IPython.core.display.HTML object>"
            ],
            "text/html": [
              "\n",
              "<style>\n",
              "    /* Turns off some styling */\n",
              "    progress {\n",
              "        /* gets rid of default border in Firefox and Opera. */\n",
              "        border: none;\n",
              "        /* Needs to be in here for Safari polyfill so background images work as expected. */\n",
              "        background-size: auto;\n",
              "    }\n",
              "    .progress-bar-interrupted, .progress-bar-interrupted::-webkit-progress-bar {\n",
              "        background: #F44336;\n",
              "    }\n",
              "</style>\n"
            ]
          },
          "metadata": {}
        },
        {
          "output_type": "display_data",
          "data": {
            "text/plain": [
              "<IPython.core.display.HTML object>"
            ],
            "text/html": [
              ""
            ]
          },
          "metadata": {}
        },
        {
          "output_type": "execute_result",
          "data": {
            "text/plain": [
              "(#2) [85.05048370361328,6.732570171356201]"
            ]
          },
          "metadata": {},
          "execution_count": 48
        }
      ],
      "source": [
        "learn_model1.validate()"
      ]
    },
    {
      "cell_type": "markdown",
      "metadata": {
        "id": "GeN62w9J6kuG"
      },
      "source": [
        "También podemos obtener el tensor de las predicciones mediante el método `get_preds`, el cual contiene dos tensores, el primero indica el valor de las predicciones obtenidas para cada imagen y el segundo, son los valores de la variable objetivo."
      ]
    },
    {
      "cell_type": "code",
      "execution_count": null,
      "metadata": {
        "colab": {
          "base_uri": "https://localhost:8080/",
          "height": 17
        },
        "id": "sl-M7wvo7Vjb",
        "outputId": "2023d6b1-7f71-4fbb-bef1-c03e10e6c772"
      },
      "outputs": [
        {
          "output_type": "display_data",
          "data": {
            "text/plain": [
              "<IPython.core.display.HTML object>"
            ],
            "text/html": [
              "\n",
              "<style>\n",
              "    /* Turns off some styling */\n",
              "    progress {\n",
              "        /* gets rid of default border in Firefox and Opera. */\n",
              "        border: none;\n",
              "        /* Needs to be in here for Safari polyfill so background images work as expected. */\n",
              "        background-size: auto;\n",
              "    }\n",
              "    .progress-bar-interrupted, .progress-bar-interrupted::-webkit-progress-bar {\n",
              "        background: #F44336;\n",
              "    }\n",
              "</style>\n"
            ]
          },
          "metadata": {}
        },
        {
          "output_type": "display_data",
          "data": {
            "text/plain": [
              "<IPython.core.display.HTML object>"
            ],
            "text/html": [
              ""
            ]
          },
          "metadata": {}
        }
      ],
      "source": [
        "pred_model1 = learn_model1.get_preds()"
      ]
    },
    {
      "cell_type": "markdown",
      "metadata": {
        "id": "0iBIObJ5Cvuy"
      },
      "source": [
        "Se visualiza el tensor de las predicciones"
      ]
    },
    {
      "cell_type": "code",
      "execution_count": null,
      "metadata": {
        "colab": {
          "base_uri": "https://localhost:8080/"
        },
        "id": "1r2TSHG076Zv",
        "outputId": "bb923e21-5891-44d1-9526-ab9f4b9109b3"
      },
      "outputs": [
        {
          "output_type": "execute_result",
          "data": {
            "text/plain": [
              "(TensorBase([[50.0665],\n",
              "         [58.4418],\n",
              "         [59.2487],\n",
              "         ...,\n",
              "         [47.2110],\n",
              "         [59.6881],\n",
              "         [55.5922]]), tensor([51., 69., 46.,  ..., 49., 65., 50.]))"
            ]
          },
          "metadata": {},
          "execution_count": 50
        }
      ],
      "source": [
        "pred_model1"
      ]
    },
    {
      "cell_type": "markdown",
      "metadata": {
        "id": "IEKFcoOyC00n"
      },
      "source": [
        "La longitud del tensor es"
      ]
    },
    {
      "cell_type": "code",
      "execution_count": null,
      "metadata": {
        "colab": {
          "base_uri": "https://localhost:8080/"
        },
        "id": "a0vUPIQq4nuY",
        "outputId": "9a758550-9abb-4ad5-987b-303d48006f79"
      },
      "outputs": [
        {
          "output_type": "execute_result",
          "data": {
            "text/plain": [
              "2"
            ]
          },
          "metadata": {},
          "execution_count": 51
        }
      ],
      "source": [
        "len(pred_model1)"
      ]
    },
    {
      "cell_type": "markdown",
      "metadata": {
        "id": "OjP-nXCLC7Es"
      },
      "source": [
        "La componente uno y dos tienen la misma longitud "
      ]
    },
    {
      "cell_type": "code",
      "execution_count": null,
      "metadata": {
        "colab": {
          "base_uri": "https://localhost:8080/"
        },
        "id": "hHyUXhM44qCE",
        "outputId": "d8f427d7-5d20-49e8-cec5-714ae06b6321"
      },
      "outputs": [
        {
          "output_type": "execute_result",
          "data": {
            "text/plain": [
              "8748"
            ]
          },
          "metadata": {},
          "execution_count": 52
        }
      ],
      "source": [
        "len(pred_model1[0])"
      ]
    },
    {
      "cell_type": "code",
      "execution_count": null,
      "metadata": {
        "id": "TpX97HpDYwZS",
        "colab": {
          "base_uri": "https://localhost:8080/"
        },
        "outputId": "7e081eb8-7717-4dd3-8f37-13e39952f1da"
      },
      "outputs": [
        {
          "output_type": "execute_result",
          "data": {
            "text/plain": [
              "8748"
            ]
          },
          "metadata": {},
          "execution_count": 53
        }
      ],
      "source": [
        "len(pred_model1[1])"
      ]
    },
    {
      "cell_type": "markdown",
      "metadata": {
        "id": "dFpsu8wAgWgw"
      },
      "source": [
        "# Modelo 10: Ensemble de los mejores modelos\n",
        "---"
      ]
    },
    {
      "cell_type": "markdown",
      "metadata": {
        "id": "_rJJbBeBkOBb"
      },
      "source": [
        "Ahora que se ha visto que el modelo se carga bien y se pueden obtener sus predicciones. Se quiere aplicar esto para cada uno de los modelos y generar el **Ensemble**."
      ]
    },
    {
      "cell_type": "markdown",
      "metadata": {
        "id": "0MGtJBHa3uyg"
      },
      "source": [
        "A continuación se va a construir el **Ensemble** a partir de los modelos EfficientNet-B3, ResNet-152 y ResNet34. Se quiere obtener un mejor resultado empleando los modelos obtenidos para lograr mejores predicciones."
      ]
    },
    {
      "cell_type": "markdown",
      "metadata": {
        "id": "S71vnmoounjE"
      },
      "source": [
        "##Construyendo el modelo\n",
        "---"
      ]
    },
    {
      "cell_type": "markdown",
      "metadata": {
        "id": "_l9MfJyb1iBC"
      },
      "source": [
        "Para su construcción, se consideran las predicciones de cada modelo, se calcula la media de cada uno de las entradas de estos valores, estas serán las entradas del array que formará el **Ensemble**."
      ]
    },
    {
      "cell_type": "markdown",
      "metadata": {
        "id": "dToOngVumx9m"
      },
      "source": [
        "Si se analiza el proceso, se puede detallar de la siguiente manera: como se quiere evaluar sobre el conjunto de *test*, entonces, se construye el objeto *dbTest*, el cual es el *DataBlock* que permite construir el *DataLoader*. Luego, se construye el objeto dlsTest, el cual es el *DataLoader* a partir del conjunto de *test*. Por último, a partir de algunas funciones que hemos creado, se realizan las operaciones y se obtiene el **Ensemble**. De esta manera, con el **Ensemble** y el *ground truth*, sólo queda validarlo usando la métrica *Mean Absolute Error* (*mae*). \n"
      ]
    },
    {
      "cell_type": "markdown",
      "metadata": {
        "id": "cnUmHLkopvoL"
      },
      "source": [
        "Para ello, creamos algunas funciones:"
      ]
    },
    {
      "cell_type": "markdown",
      "metadata": {
        "id": "bcV-kcEIm4jM"
      },
      "source": [
        "La función *prediccion_modelo* genera una lista formada por las predicciones de un modelo dado, utilizando el método `get_preds()`."
      ]
    },
    {
      "cell_type": "code",
      "execution_count": null,
      "metadata": {
        "id": "E4p9UoVaEzs0"
      },
      "outputs": [],
      "source": [
        "def prediccion_modelo(Modelo):\n",
        "    dlsTest = dbTest.dataloaders(df1,bs=150)\n",
        "    model = Modelo\n",
        "    model.dls = dlsTest\n",
        "    pred = model.get_preds()[0]\n",
        "    return pred"
      ]
    },
    {
      "cell_type": "markdown",
      "metadata": {
        "id": "6NLttpoh0WO7"
      },
      "source": [
        "Por ejemplo, se obtiene el tensor de los resultados de las predicciones del modelo 1. "
      ]
    },
    {
      "cell_type": "code",
      "execution_count": null,
      "metadata": {
        "colab": {
          "base_uri": "https://localhost:8080/",
          "height": 17
        },
        "id": "YOC2hWG2CscJ",
        "outputId": "d916dcd3-9e85-4c1c-bb00-0298053c9ffc"
      },
      "outputs": [
        {
          "output_type": "display_data",
          "data": {
            "text/plain": [
              "<IPython.core.display.HTML object>"
            ],
            "text/html": [
              "\n",
              "<style>\n",
              "    /* Turns off some styling */\n",
              "    progress {\n",
              "        /* gets rid of default border in Firefox and Opera. */\n",
              "        border: none;\n",
              "        /* Needs to be in here for Safari polyfill so background images work as expected. */\n",
              "        background-size: auto;\n",
              "    }\n",
              "    .progress-bar-interrupted, .progress-bar-interrupted::-webkit-progress-bar {\n",
              "        background: #F44336;\n",
              "    }\n",
              "</style>\n"
            ]
          },
          "metadata": {}
        },
        {
          "output_type": "display_data",
          "data": {
            "text/plain": [
              "<IPython.core.display.HTML object>"
            ],
            "text/html": [
              ""
            ]
          },
          "metadata": {}
        }
      ],
      "source": [
        "pred = prediccion_modelo(learn_model1)"
      ]
    },
    {
      "cell_type": "markdown",
      "metadata": {
        "id": "6I3g9ovZTSNF"
      },
      "source": [
        "Visualizamos el tensor de las predicciones"
      ]
    },
    {
      "cell_type": "code",
      "execution_count": null,
      "metadata": {
        "colab": {
          "base_uri": "https://localhost:8080/"
        },
        "id": "rPR50ok-1RG3",
        "outputId": "2bf4009e-acf5-4651-b0f3-5853166771d7"
      },
      "outputs": [
        {
          "output_type": "execute_result",
          "data": {
            "text/plain": [
              "TensorBase([[50.0665],\n",
              "        [58.4418],\n",
              "        [59.2487],\n",
              "        ...,\n",
              "        [47.2110],\n",
              "        [59.6881],\n",
              "        [55.5922]])"
            ]
          },
          "metadata": {},
          "execution_count": 66
        }
      ],
      "source": [
        "pred"
      ]
    },
    {
      "cell_type": "markdown",
      "metadata": {
        "id": "2qsDIr19TgIs"
      },
      "source": [
        "La longitud del tensor es"
      ]
    },
    {
      "cell_type": "code",
      "execution_count": null,
      "metadata": {
        "colab": {
          "base_uri": "https://localhost:8080/"
        },
        "id": "UHK2O3VrW91g",
        "outputId": "cf3dc9b7-22e4-4f1f-ce33-e24e8bb2e805"
      },
      "outputs": [
        {
          "output_type": "execute_result",
          "data": {
            "text/plain": [
              "8748"
            ]
          },
          "metadata": {},
          "execution_count": 67
        }
      ],
      "source": [
        "len(pred)"
      ]
    },
    {
      "cell_type": "markdown",
      "metadata": {
        "id": "9NfFHfOmU44k"
      },
      "source": [
        "Comparando con las dimensiones del conjunto de test"
      ]
    },
    {
      "cell_type": "code",
      "execution_count": null,
      "metadata": {
        "colab": {
          "base_uri": "https://localhost:8080/"
        },
        "id": "ACyzmCGyXsBy",
        "outputId": "e26c100b-0203-47f4-9ace-96287294b9e5"
      },
      "outputs": [
        {
          "output_type": "execute_result",
          "data": {
            "text/plain": [
              "(8748, 2)"
            ]
          },
          "metadata": {},
          "execution_count": 68
        }
      ],
      "source": [
        "dfTest.shape"
      ]
    },
    {
      "cell_type": "code",
      "execution_count": null,
      "metadata": {
        "colab": {
          "base_uri": "https://localhost:8080/",
          "height": 206
        },
        "id": "oPklJn142q9D",
        "outputId": "0fc7a135-96c8-4a3e-97b5-0f62cca1613c"
      },
      "outputs": [
        {
          "output_type": "execute_result",
          "data": {
            "text/plain": [
              "              nombre_foto  edad\n",
              "0   anonymized_341764.jpg    51\n",
              "1   anonymized_698952.jpg    69\n",
              "2   anonymized_208387.jpg    46\n",
              "3   anonymized_118817.jpg    69\n",
              "4  anonymized_1311174.jpg    32"
            ],
            "text/html": [
              "\n",
              "  <div id=\"df-ee028c6b-8d76-4282-b58b-28c41c2218ce\">\n",
              "    <div class=\"colab-df-container\">\n",
              "      <div>\n",
              "<style scoped>\n",
              "    .dataframe tbody tr th:only-of-type {\n",
              "        vertical-align: middle;\n",
              "    }\n",
              "\n",
              "    .dataframe tbody tr th {\n",
              "        vertical-align: top;\n",
              "    }\n",
              "\n",
              "    .dataframe thead th {\n",
              "        text-align: right;\n",
              "    }\n",
              "</style>\n",
              "<table border=\"1\" class=\"dataframe\">\n",
              "  <thead>\n",
              "    <tr style=\"text-align: right;\">\n",
              "      <th></th>\n",
              "      <th>nombre_foto</th>\n",
              "      <th>edad</th>\n",
              "    </tr>\n",
              "  </thead>\n",
              "  <tbody>\n",
              "    <tr>\n",
              "      <th>0</th>\n",
              "      <td>anonymized_341764.jpg</td>\n",
              "      <td>51</td>\n",
              "    </tr>\n",
              "    <tr>\n",
              "      <th>1</th>\n",
              "      <td>anonymized_698952.jpg</td>\n",
              "      <td>69</td>\n",
              "    </tr>\n",
              "    <tr>\n",
              "      <th>2</th>\n",
              "      <td>anonymized_208387.jpg</td>\n",
              "      <td>46</td>\n",
              "    </tr>\n",
              "    <tr>\n",
              "      <th>3</th>\n",
              "      <td>anonymized_118817.jpg</td>\n",
              "      <td>69</td>\n",
              "    </tr>\n",
              "    <tr>\n",
              "      <th>4</th>\n",
              "      <td>anonymized_1311174.jpg</td>\n",
              "      <td>32</td>\n",
              "    </tr>\n",
              "  </tbody>\n",
              "</table>\n",
              "</div>\n",
              "      <button class=\"colab-df-convert\" onclick=\"convertToInteractive('df-ee028c6b-8d76-4282-b58b-28c41c2218ce')\"\n",
              "              title=\"Convert this dataframe to an interactive table.\"\n",
              "              style=\"display:none;\">\n",
              "        \n",
              "  <svg xmlns=\"http://www.w3.org/2000/svg\" height=\"24px\"viewBox=\"0 0 24 24\"\n",
              "       width=\"24px\">\n",
              "    <path d=\"M0 0h24v24H0V0z\" fill=\"none\"/>\n",
              "    <path d=\"M18.56 5.44l.94 2.06.94-2.06 2.06-.94-2.06-.94-.94-2.06-.94 2.06-2.06.94zm-11 1L8.5 8.5l.94-2.06 2.06-.94-2.06-.94L8.5 2.5l-.94 2.06-2.06.94zm10 10l.94 2.06.94-2.06 2.06-.94-2.06-.94-.94-2.06-.94 2.06-2.06.94z\"/><path d=\"M17.41 7.96l-1.37-1.37c-.4-.4-.92-.59-1.43-.59-.52 0-1.04.2-1.43.59L10.3 9.45l-7.72 7.72c-.78.78-.78 2.05 0 2.83L4 21.41c.39.39.9.59 1.41.59.51 0 1.02-.2 1.41-.59l7.78-7.78 2.81-2.81c.8-.78.8-2.07 0-2.86zM5.41 20L4 18.59l7.72-7.72 1.47 1.35L5.41 20z\"/>\n",
              "  </svg>\n",
              "      </button>\n",
              "      \n",
              "  <style>\n",
              "    .colab-df-container {\n",
              "      display:flex;\n",
              "      flex-wrap:wrap;\n",
              "      gap: 12px;\n",
              "    }\n",
              "\n",
              "    .colab-df-convert {\n",
              "      background-color: #E8F0FE;\n",
              "      border: none;\n",
              "      border-radius: 50%;\n",
              "      cursor: pointer;\n",
              "      display: none;\n",
              "      fill: #1967D2;\n",
              "      height: 32px;\n",
              "      padding: 0 0 0 0;\n",
              "      width: 32px;\n",
              "    }\n",
              "\n",
              "    .colab-df-convert:hover {\n",
              "      background-color: #E2EBFA;\n",
              "      box-shadow: 0px 1px 2px rgba(60, 64, 67, 0.3), 0px 1px 3px 1px rgba(60, 64, 67, 0.15);\n",
              "      fill: #174EA6;\n",
              "    }\n",
              "\n",
              "    [theme=dark] .colab-df-convert {\n",
              "      background-color: #3B4455;\n",
              "      fill: #D2E3FC;\n",
              "    }\n",
              "\n",
              "    [theme=dark] .colab-df-convert:hover {\n",
              "      background-color: #434B5C;\n",
              "      box-shadow: 0px 1px 3px 1px rgba(0, 0, 0, 0.15);\n",
              "      filter: drop-shadow(0px 1px 2px rgba(0, 0, 0, 0.3));\n",
              "      fill: #FFFFFF;\n",
              "    }\n",
              "  </style>\n",
              "\n",
              "      <script>\n",
              "        const buttonEl =\n",
              "          document.querySelector('#df-ee028c6b-8d76-4282-b58b-28c41c2218ce button.colab-df-convert');\n",
              "        buttonEl.style.display =\n",
              "          google.colab.kernel.accessAllowed ? 'block' : 'none';\n",
              "\n",
              "        async function convertToInteractive(key) {\n",
              "          const element = document.querySelector('#df-ee028c6b-8d76-4282-b58b-28c41c2218ce');\n",
              "          const dataTable =\n",
              "            await google.colab.kernel.invokeFunction('convertToInteractive',\n",
              "                                                     [key], {});\n",
              "          if (!dataTable) return;\n",
              "\n",
              "          const docLinkHtml = 'Like what you see? Visit the ' +\n",
              "            '<a target=\"_blank\" href=https://colab.research.google.com/notebooks/data_table.ipynb>data table notebook</a>'\n",
              "            + ' to learn more about interactive tables.';\n",
              "          element.innerHTML = '';\n",
              "          dataTable['output_type'] = 'display_data';\n",
              "          await google.colab.output.renderOutput(dataTable, element);\n",
              "          const docLink = document.createElement('div');\n",
              "          docLink.innerHTML = docLinkHtml;\n",
              "          element.appendChild(docLink);\n",
              "        }\n",
              "      </script>\n",
              "    </div>\n",
              "  </div>\n",
              "  "
            ]
          },
          "metadata": {},
          "execution_count": 69
        }
      ],
      "source": [
        "dfTest.head(5)"
      ]
    },
    {
      "cell_type": "markdown",
      "metadata": {
        "id": "6A7lNqXwrx98"
      },
      "source": [
        "Esto conlleva a construir una función *predicciones*. Dada una lista de modelos, esta función da una lista formada por las predicciones (una entrada por cada modelo)."
      ]
    },
    {
      "cell_type": "code",
      "execution_count": null,
      "metadata": {
        "id": "TDAD_VQMAi75"
      },
      "outputs": [],
      "source": [
        "def predicciones(listaModelos):\n",
        "  k = []\n",
        "  for i in range(len(listaModelos)):\n",
        "    dlsTest = dbTest.dataloaders(df1,bs=150)\n",
        "    model = listaModelos[i]\n",
        "    model.dls = dlsTest\n",
        "    pred = model.get_preds()[0]\n",
        "    k.append(pred) #k es el array con las predicciones de cada uno de los modelos (cada uno es un tensor)\n",
        "    #m = list(zip(*k)) #Genera tuplas con los primeros elementos de k\n",
        "  return k"
      ]
    },
    {
      "cell_type": "markdown",
      "metadata": {
        "id": "GmHuaOaysbp1"
      },
      "source": [
        "Se aplica a la lista de modelos definida anteriormente"
      ]
    },
    {
      "cell_type": "code",
      "execution_count": null,
      "metadata": {
        "colab": {
          "base_uri": "https://localhost:8080/",
          "height": 17
        },
        "id": "Nu73mjresgCY",
        "outputId": "31ba4a0e-0574-4598-8a5f-46a0dd8fae31"
      },
      "outputs": [
        {
          "output_type": "display_data",
          "data": {
            "text/plain": [
              "<IPython.core.display.HTML object>"
            ],
            "text/html": [
              "\n",
              "<style>\n",
              "    /* Turns off some styling */\n",
              "    progress {\n",
              "        /* gets rid of default border in Firefox and Opera. */\n",
              "        border: none;\n",
              "        /* Needs to be in here for Safari polyfill so background images work as expected. */\n",
              "        background-size: auto;\n",
              "    }\n",
              "    .progress-bar-interrupted, .progress-bar-interrupted::-webkit-progress-bar {\n",
              "        background: #F44336;\n",
              "    }\n",
              "</style>\n"
            ]
          },
          "metadata": {}
        },
        {
          "output_type": "display_data",
          "data": {
            "text/plain": [
              "<IPython.core.display.HTML object>"
            ],
            "text/html": [
              ""
            ]
          },
          "metadata": {}
        },
        {
          "output_type": "display_data",
          "data": {
            "text/plain": [
              "<IPython.core.display.HTML object>"
            ],
            "text/html": [
              "\n",
              "<style>\n",
              "    /* Turns off some styling */\n",
              "    progress {\n",
              "        /* gets rid of default border in Firefox and Opera. */\n",
              "        border: none;\n",
              "        /* Needs to be in here for Safari polyfill so background images work as expected. */\n",
              "        background-size: auto;\n",
              "    }\n",
              "    .progress-bar-interrupted, .progress-bar-interrupted::-webkit-progress-bar {\n",
              "        background: #F44336;\n",
              "    }\n",
              "</style>\n"
            ]
          },
          "metadata": {}
        },
        {
          "output_type": "display_data",
          "data": {
            "text/plain": [
              "<IPython.core.display.HTML object>"
            ],
            "text/html": [
              ""
            ]
          },
          "metadata": {}
        },
        {
          "output_type": "display_data",
          "data": {
            "text/plain": [
              "<IPython.core.display.HTML object>"
            ],
            "text/html": [
              "\n",
              "<style>\n",
              "    /* Turns off some styling */\n",
              "    progress {\n",
              "        /* gets rid of default border in Firefox and Opera. */\n",
              "        border: none;\n",
              "        /* Needs to be in here for Safari polyfill so background images work as expected. */\n",
              "        background-size: auto;\n",
              "    }\n",
              "    .progress-bar-interrupted, .progress-bar-interrupted::-webkit-progress-bar {\n",
              "        background: #F44336;\n",
              "    }\n",
              "</style>\n"
            ]
          },
          "metadata": {}
        },
        {
          "output_type": "display_data",
          "data": {
            "text/plain": [
              "<IPython.core.display.HTML object>"
            ],
            "text/html": [
              ""
            ]
          },
          "metadata": {}
        }
      ],
      "source": [
        "pred_models = predicciones(lista_modelos)"
      ]
    },
    {
      "cell_type": "markdown",
      "metadata": {
        "id": "RO0uPcfiVHnp"
      },
      "source": [
        "y la visualizamos como"
      ]
    },
    {
      "cell_type": "code",
      "execution_count": null,
      "metadata": {
        "colab": {
          "base_uri": "https://localhost:8080/"
        },
        "id": "Ex6swPfA3YUB",
        "outputId": "4e01b9a0-6288-4c2b-cc99-806339df5d94"
      },
      "outputs": [
        {
          "output_type": "execute_result",
          "data": {
            "text/plain": [
              "[TensorBase([[50.0665],\n",
              "         [58.4418],\n",
              "         [59.2487],\n",
              "         ...,\n",
              "         [47.2110],\n",
              "         [59.6881],\n",
              "         [55.5922]]), TensorBase([[57.0196],\n",
              "         [67.7132],\n",
              "         [70.7144],\n",
              "         ...,\n",
              "         [58.1541],\n",
              "         [71.0479],\n",
              "         [61.7296]]), TensorBase([[61.9413],\n",
              "         [71.4177],\n",
              "         [67.6721],\n",
              "         ...,\n",
              "         [65.1832],\n",
              "         [77.6081],\n",
              "         [67.0375]])]"
            ]
          },
          "metadata": {},
          "execution_count": 72
        }
      ],
      "source": [
        "pred_models"
      ]
    },
    {
      "cell_type": "markdown",
      "metadata": {
        "id": "f8gdOLRrWcYI"
      },
      "source": [
        "La longitud del tensor es 3. Tiene una entrada para cada modelo"
      ]
    },
    {
      "cell_type": "code",
      "execution_count": null,
      "metadata": {
        "colab": {
          "base_uri": "https://localhost:8080/"
        },
        "id": "mx3FatzU3Z0L",
        "outputId": "67694706-ab4d-41e1-b20f-d35a91417bcb"
      },
      "outputs": [
        {
          "output_type": "execute_result",
          "data": {
            "text/plain": [
              "3"
            ]
          },
          "metadata": {},
          "execution_count": 73
        }
      ],
      "source": [
        "len(pred_models)"
      ]
    },
    {
      "cell_type": "markdown",
      "metadata": {
        "id": "7VZSKwqNWfIu"
      },
      "source": [
        "Cada tensor tiene 8748 entradas de las imagenes del conjunto de test"
      ]
    },
    {
      "cell_type": "code",
      "execution_count": null,
      "metadata": {
        "colab": {
          "base_uri": "https://localhost:8080/"
        },
        "id": "Rv5rbjuN3eIR",
        "outputId": "43dc0e57-e03d-45e6-8cb2-fcbe00ec327a"
      },
      "outputs": [
        {
          "output_type": "execute_result",
          "data": {
            "text/plain": [
              "8748"
            ]
          },
          "metadata": {},
          "execution_count": 74
        }
      ],
      "source": [
        "len(pred_models[0]) "
      ]
    },
    {
      "cell_type": "markdown",
      "metadata": {
        "id": "rv9wLYOVslJ5"
      },
      "source": [
        "Ahora bien, se define la función *primeros_elementos_predicciones*, dada una lista de modelos, genera tuplas formadas por los primeros (sucesivamente con los demás) elementos de cada tensor de las predicciones de cada modelo."
      ]
    },
    {
      "cell_type": "code",
      "execution_count": null,
      "metadata": {
        "id": "gjZ6HgL1AjIH"
      },
      "outputs": [],
      "source": [
        "def primeros_elementos_predicciones(listaModelos):\n",
        "  k = []\n",
        "  for i in range(len(listaModelos)):\n",
        "    dlsTest = dbTest.dataloaders(df1,bs=150)\n",
        "    model = listaModelos[i]\n",
        "    model.dls = dlsTest\n",
        "    pred = model.get_preds()[0]\n",
        "    k.append(pred) #k es el array con las predicciones de cada uno de los modelos (cada uno es un tensor)\n",
        "    m = list(zip(*k)) #Genera tuplas con los primeros elementos de k\n",
        "  return m"
      ]
    },
    {
      "cell_type": "markdown",
      "metadata": {
        "id": "CYEvPkgqwp2F"
      },
      "source": [
        "Como se puede ver a continuación"
      ]
    },
    {
      "cell_type": "code",
      "execution_count": null,
      "metadata": {
        "colab": {
          "base_uri": "https://localhost:8080/",
          "height": 17
        },
        "id": "JMbEu7NWwtpz",
        "outputId": "e9dc4652-cb3d-4ce1-ae0b-789705636a42"
      },
      "outputs": [
        {
          "output_type": "display_data",
          "data": {
            "text/plain": [
              "<IPython.core.display.HTML object>"
            ],
            "text/html": [
              "\n",
              "<style>\n",
              "    /* Turns off some styling */\n",
              "    progress {\n",
              "        /* gets rid of default border in Firefox and Opera. */\n",
              "        border: none;\n",
              "        /* Needs to be in here for Safari polyfill so background images work as expected. */\n",
              "        background-size: auto;\n",
              "    }\n",
              "    .progress-bar-interrupted, .progress-bar-interrupted::-webkit-progress-bar {\n",
              "        background: #F44336;\n",
              "    }\n",
              "</style>\n"
            ]
          },
          "metadata": {}
        },
        {
          "output_type": "display_data",
          "data": {
            "text/plain": [
              "<IPython.core.display.HTML object>"
            ],
            "text/html": [
              ""
            ]
          },
          "metadata": {}
        },
        {
          "output_type": "display_data",
          "data": {
            "text/plain": [
              "<IPython.core.display.HTML object>"
            ],
            "text/html": [
              "\n",
              "<style>\n",
              "    /* Turns off some styling */\n",
              "    progress {\n",
              "        /* gets rid of default border in Firefox and Opera. */\n",
              "        border: none;\n",
              "        /* Needs to be in here for Safari polyfill so background images work as expected. */\n",
              "        background-size: auto;\n",
              "    }\n",
              "    .progress-bar-interrupted, .progress-bar-interrupted::-webkit-progress-bar {\n",
              "        background: #F44336;\n",
              "    }\n",
              "</style>\n"
            ]
          },
          "metadata": {}
        },
        {
          "output_type": "display_data",
          "data": {
            "text/plain": [
              "<IPython.core.display.HTML object>"
            ],
            "text/html": [
              ""
            ]
          },
          "metadata": {}
        },
        {
          "output_type": "display_data",
          "data": {
            "text/plain": [
              "<IPython.core.display.HTML object>"
            ],
            "text/html": [
              "\n",
              "<style>\n",
              "    /* Turns off some styling */\n",
              "    progress {\n",
              "        /* gets rid of default border in Firefox and Opera. */\n",
              "        border: none;\n",
              "        /* Needs to be in here for Safari polyfill so background images work as expected. */\n",
              "        background-size: auto;\n",
              "    }\n",
              "    .progress-bar-interrupted, .progress-bar-interrupted::-webkit-progress-bar {\n",
              "        background: #F44336;\n",
              "    }\n",
              "</style>\n"
            ]
          },
          "metadata": {}
        },
        {
          "output_type": "display_data",
          "data": {
            "text/plain": [
              "<IPython.core.display.HTML object>"
            ],
            "text/html": [
              ""
            ]
          },
          "metadata": {}
        }
      ],
      "source": [
        "arreglo_predicciones = primeros_elementos_predicciones(lista_modelos)"
      ]
    },
    {
      "cell_type": "markdown",
      "metadata": {
        "id": "95gDDLjoWwzz"
      },
      "source": [
        "Se puede ver así"
      ]
    },
    {
      "cell_type": "code",
      "execution_count": null,
      "metadata": {
        "colab": {
          "base_uri": "https://localhost:8080/"
        },
        "id": "-rzxfdZx5dNo",
        "outputId": "cae241df-e0fc-4bcc-9e72-44e58f9d994b"
      },
      "outputs": [
        {
          "output_type": "execute_result",
          "data": {
            "text/plain": [
              "[(TensorBase([50.0665]), TensorBase([57.0196]), TensorBase([61.9413])),\n",
              " (TensorBase([58.4418]), TensorBase([67.7132]), TensorBase([71.4177])),\n",
              " (TensorBase([59.2487]), TensorBase([70.7144]), TensorBase([67.6721])),\n",
              " (TensorBase([71.8626]), TensorBase([75.1343]), TensorBase([75.2513])),\n",
              " (TensorBase([23.7353]), TensorBase([37.6293]), TensorBase([23.1596])),\n",
              " (TensorBase([29.4019]), TensorBase([38.7788]), TensorBase([45.3826])),\n",
              " (TensorBase([50.6125]), TensorBase([64.0291]), TensorBase([71.2993])),\n",
              " (TensorBase([54.1662]), TensorBase([66.1226]), TensorBase([69.6431])),\n",
              " (TensorBase([53.3044]), TensorBase([69.7507]), TensorBase([74.6447])),\n",
              " (TensorBase([26.1489]), TensorBase([50.3413]), TensorBase([29.5655])),\n",
              " (TensorBase([61.7865]), TensorBase([71.2276]), TensorBase([74.5042])),\n",
              " (TensorBase([43.1795]), TensorBase([67.0704]), TensorBase([63.1975])),\n",
              " (TensorBase([54.8185]), TensorBase([71.2125]), TensorBase([76.3400])),\n",
              " (TensorBase([31.0841]), TensorBase([59.2546]), TensorBase([48.8868])),\n",
              " (TensorBase([47.5138]), TensorBase([60.5810]), TensorBase([57.4655])),\n",
              " (TensorBase([59.8180]), TensorBase([67.4953]), TensorBase([70.8067])),\n",
              " (TensorBase([50.3711]), TensorBase([62.8034]), TensorBase([65.6751])),\n",
              " (TensorBase([67.7617]), TensorBase([74.5094]), TensorBase([78.1528])),\n",
              " (TensorBase([57.7889]), TensorBase([65.3217]), TensorBase([69.8435])),\n",
              " (TensorBase([52.2355]), TensorBase([61.1969]), TensorBase([58.8724])),\n",
              " (TensorBase([49.6035]), TensorBase([65.8848]), TensorBase([63.1941])),\n",
              " (TensorBase([39.1856]), TensorBase([65.9569]), TensorBase([61.8592])),\n",
              " (TensorBase([46.6446]), TensorBase([65.7045]), TensorBase([66.4115])),\n",
              " (TensorBase([68.7121]), TensorBase([74.2855]), TensorBase([81.8197])),\n",
              " (TensorBase([44.4198]), TensorBase([69.6073]), TensorBase([65.8322])),\n",
              " (TensorBase([57.1527]), TensorBase([68.8575]), TensorBase([74.1676])),\n",
              " (TensorBase([54.1717]), TensorBase([66.2952]), TensorBase([73.2874])),\n",
              " (TensorBase([55.0880]), TensorBase([68.5985]), TensorBase([77.9546])),\n",
              " (TensorBase([49.6582]), TensorBase([72.3033]), TensorBase([65.7386])),\n",
              " (TensorBase([68.4475]), TensorBase([70.0771]), TensorBase([76.8111])),\n",
              " (TensorBase([53.1983]), TensorBase([68.4743]), TensorBase([61.1650])),\n",
              " (TensorBase([43.7826]), TensorBase([65.7988]), TensorBase([57.5932])),\n",
              " (TensorBase([53.9805]), TensorBase([68.6513]), TensorBase([79.0708])),\n",
              " (TensorBase([59.9617]), TensorBase([68.8751]), TensorBase([72.6588])),\n",
              " (TensorBase([30.4132]), TensorBase([53.3699]), TensorBase([42.9681])),\n",
              " (TensorBase([16.4518]), TensorBase([40.0574]), TensorBase([21.2068])),\n",
              " (TensorBase([42.4946]), TensorBase([67.9355]), TensorBase([64.9450])),\n",
              " (TensorBase([37.5944]), TensorBase([62.5370]), TensorBase([69.6833])),\n",
              " (TensorBase([68.0524]), TensorBase([77.9120]), TensorBase([76.1259])),\n",
              " (TensorBase([21.2893]), TensorBase([55.7651]), TensorBase([45.4192])),\n",
              " (TensorBase([45.5813]), TensorBase([69.8683]), TensorBase([66.5890])),\n",
              " (TensorBase([63.1403]), TensorBase([67.7354]), TensorBase([78.3840])),\n",
              " (TensorBase([45.3741]), TensorBase([67.8401]), TensorBase([67.7564])),\n",
              " (TensorBase([46.7660]), TensorBase([66.4840]), TensorBase([69.7777])),\n",
              " (TensorBase([46.0641]), TensorBase([59.1468]), TensorBase([58.0179])),\n",
              " (TensorBase([37.8931]), TensorBase([56.1719]), TensorBase([65.8471])),\n",
              " (TensorBase([18.1916]), TensorBase([32.2998]), TensorBase([34.4800])),\n",
              " (TensorBase([63.3693]), TensorBase([72.4703]), TensorBase([76.8472])),\n",
              " (TensorBase([56.0154]), TensorBase([64.4081]), TensorBase([70.6558])),\n",
              " (TensorBase([38.3644]), TensorBase([60.2226]), TensorBase([56.0755])),\n",
              " (TensorBase([67.5450]), TensorBase([76.3563]), TensorBase([80.1182])),\n",
              " (TensorBase([56.4353]), TensorBase([71.0503]), TensorBase([71.0195])),\n",
              " (TensorBase([67.2326]), TensorBase([70.5468]), TensorBase([75.3460])),\n",
              " (TensorBase([15.1600]), TensorBase([41.7839]), TensorBase([28.9331])),\n",
              " (TensorBase([27.4027]), TensorBase([59.9073]), TensorBase([60.0727])),\n",
              " (TensorBase([52.3919]), TensorBase([67.6534]), TensorBase([73.0225])),\n",
              " (TensorBase([73.5897]), TensorBase([73.3786]), TensorBase([81.0133])),\n",
              " (TensorBase([66.9575]), TensorBase([65.9913]), TensorBase([74.8364])),\n",
              " (TensorBase([70.5947]), TensorBase([72.6262]), TensorBase([74.8001])),\n",
              " (TensorBase([61.1393]), TensorBase([69.3153]), TensorBase([70.6641])),\n",
              " (TensorBase([57.9560]), TensorBase([69.8274]), TensorBase([76.8452])),\n",
              " (TensorBase([39.6612]), TensorBase([65.0963]), TensorBase([65.2864])),\n",
              " (TensorBase([47.0080]), TensorBase([60.5813]), TensorBase([66.3999])),\n",
              " (TensorBase([57.7029]), TensorBase([71.2848]), TensorBase([70.7789])),\n",
              " (TensorBase([52.3001]), TensorBase([70.4942]), TensorBase([67.4889])),\n",
              " (TensorBase([11.7997]), TensorBase([26.4164]), TensorBase([20.9858])),\n",
              " (TensorBase([35.6577]), TensorBase([52.1356]), TensorBase([47.7966])),\n",
              " (TensorBase([68.8649]), TensorBase([69.1000]), TensorBase([63.6675])),\n",
              " (TensorBase([42.6038]), TensorBase([59.9617]), TensorBase([63.5673])),\n",
              " (TensorBase([28.1934]), TensorBase([54.3191]), TensorBase([45.7825])),\n",
              " (TensorBase([70.6913]), TensorBase([74.2598]), TensorBase([76.0156])),\n",
              " (TensorBase([60.7976]), TensorBase([66.4474]), TensorBase([77.2263])),\n",
              " (TensorBase([31.9916]), TensorBase([60.7986]), TensorBase([52.9645])),\n",
              " (TensorBase([30.5439]), TensorBase([60.8248]), TensorBase([49.7947])),\n",
              " (TensorBase([60.1308]), TensorBase([67.9482]), TensorBase([76.3314])),\n",
              " (TensorBase([38.7845]), TensorBase([66.8439]), TensorBase([63.1708])),\n",
              " (TensorBase([33.7776]), TensorBase([55.2584]), TensorBase([37.6507])),\n",
              " (TensorBase([36.4989]), TensorBase([63.2615]), TensorBase([56.7267])),\n",
              " (TensorBase([19.8219]), TensorBase([47.9499]), TensorBase([30.3991])),\n",
              " (TensorBase([37.8695]), TensorBase([56.2814]), TensorBase([54.2575])),\n",
              " (TensorBase([47.5634]), TensorBase([72.9443]), TensorBase([69.0798])),\n",
              " (TensorBase([45.1934]), TensorBase([59.6877]), TensorBase([55.3661])),\n",
              " (TensorBase([60.2519]), TensorBase([73.6438]), TensorBase([76.3833])),\n",
              " (TensorBase([9.6736]), TensorBase([23.2840]), TensorBase([15.5828])),\n",
              " (TensorBase([17.7678]), TensorBase([52.4771]), TensorBase([21.1454])),\n",
              " (TensorBase([71.9766]), TensorBase([70.8205]), TensorBase([70.1161])),\n",
              " (TensorBase([11.2804]), TensorBase([35.0284]), TensorBase([20.5976])),\n",
              " (TensorBase([67.1230]), TensorBase([74.4606]), TensorBase([76.1770])),\n",
              " (TensorBase([37.1605]), TensorBase([49.6240]), TensorBase([54.9670])),\n",
              " (TensorBase([53.5768]), TensorBase([68.8304]), TensorBase([69.3343])),\n",
              " (TensorBase([47.9281]), TensorBase([66.6187]), TensorBase([65.6422])),\n",
              " (TensorBase([52.5969]), TensorBase([73.7172]), TensorBase([69.9728])),\n",
              " (TensorBase([13.0267]), TensorBase([23.8337]), TensorBase([16.7371])),\n",
              " (TensorBase([42.7011]), TensorBase([56.6878]), TensorBase([58.4390])),\n",
              " (TensorBase([52.9388]), TensorBase([67.9777]), TensorBase([73.6184])),\n",
              " (TensorBase([72.1711]), TensorBase([72.2123]), TensorBase([76.8913])),\n",
              " (TensorBase([38.2860]), TensorBase([65.1672]), TensorBase([64.3049])),\n",
              " (TensorBase([65.3773]), TensorBase([73.8101]), TensorBase([76.4454])),\n",
              " (TensorBase([45.8734]), TensorBase([59.3781]), TensorBase([64.1090])),\n",
              " (TensorBase([19.7130]), TensorBase([45.4788]), TensorBase([25.5697])),\n",
              " (TensorBase([38.6444]), TensorBase([52.1336]), TensorBase([56.1844])),\n",
              " (TensorBase([46.9973]), TensorBase([64.5486]), TensorBase([74.9013])),\n",
              " (TensorBase([52.9253]), TensorBase([65.1711]), TensorBase([70.9211])),\n",
              " (TensorBase([46.4960]), TensorBase([57.9159]), TensorBase([63.6424])),\n",
              " (TensorBase([67.8280]), TensorBase([67.2398]), TensorBase([78.7233])),\n",
              " (TensorBase([25.0038]), TensorBase([53.7120]), TensorBase([25.6098])),\n",
              " (TensorBase([54.9033]), TensorBase([65.1796]), TensorBase([73.6278])),\n",
              " (TensorBase([52.9285]), TensorBase([68.1382]), TensorBase([72.7668])),\n",
              " (TensorBase([55.3878]), TensorBase([67.6915]), TensorBase([73.0769])),\n",
              " (TensorBase([30.5744]), TensorBase([46.8861]), TensorBase([30.6436])),\n",
              " (TensorBase([39.4279]), TensorBase([59.3068]), TensorBase([56.4766])),\n",
              " (TensorBase([64.3633]), TensorBase([71.6528]), TensorBase([78.1466])),\n",
              " (TensorBase([27.0681]), TensorBase([61.5181]), TensorBase([41.1085])),\n",
              " (TensorBase([58.3794]), TensorBase([69.9070]), TensorBase([66.6660])),\n",
              " (TensorBase([40.9689]), TensorBase([63.3344]), TensorBase([65.7630])),\n",
              " (TensorBase([67.6234]), TensorBase([69.6824]), TensorBase([70.9756])),\n",
              " (TensorBase([61.3161]), TensorBase([71.0185]), TensorBase([69.5691])),\n",
              " (TensorBase([34.6832]), TensorBase([64.9384]), TensorBase([56.6255])),\n",
              " (TensorBase([20.5869]), TensorBase([37.2250]), TensorBase([28.8427])),\n",
              " (TensorBase([67.8769]), TensorBase([76.7293]), TensorBase([75.8118])),\n",
              " (TensorBase([63.7759]), TensorBase([73.0636]), TensorBase([80.0193])),\n",
              " (TensorBase([52.3078]), TensorBase([69.5632]), TensorBase([77.4477])),\n",
              " (TensorBase([59.7340]), TensorBase([71.0740]), TensorBase([69.7802])),\n",
              " (TensorBase([52.8235]), TensorBase([63.0794]), TensorBase([65.0329])),\n",
              " (TensorBase([65.0509]), TensorBase([75.3228]), TensorBase([78.7330])),\n",
              " (TensorBase([53.4331]), TensorBase([61.3683]), TensorBase([57.6558])),\n",
              " (TensorBase([72.9933]), TensorBase([71.4192]), TensorBase([78.7090])),\n",
              " (TensorBase([59.6511]), TensorBase([67.1351]), TensorBase([72.4301])),\n",
              " (TensorBase([59.2420]), TensorBase([66.2041]), TensorBase([80.5326])),\n",
              " (TensorBase([57.1886]), TensorBase([70.8352]), TensorBase([73.9200])),\n",
              " (TensorBase([62.8750]), TensorBase([71.2145]), TensorBase([77.1650])),\n",
              " (TensorBase([55.3397]), TensorBase([71.5414]), TensorBase([69.4973])),\n",
              " (TensorBase([58.3264]), TensorBase([67.7983]), TensorBase([70.6459])),\n",
              " (TensorBase([68.2019]), TensorBase([69.4127]), TensorBase([76.5953])),\n",
              " (TensorBase([40.6678]), TensorBase([68.4956]), TensorBase([71.5895])),\n",
              " (TensorBase([59.5211]), TensorBase([75.5842]), TensorBase([73.3098])),\n",
              " (TensorBase([61.2300]), TensorBase([64.7038]), TensorBase([73.1491])),\n",
              " (TensorBase([65.3516]), TensorBase([70.0755]), TensorBase([78.1678])),\n",
              " (TensorBase([42.7917]), TensorBase([61.6321]), TensorBase([63.8780])),\n",
              " (TensorBase([46.7767]), TensorBase([67.5017]), TensorBase([66.7418])),\n",
              " (TensorBase([59.1064]), TensorBase([69.3065]), TensorBase([69.6530])),\n",
              " (TensorBase([62.3324]), TensorBase([74.9589]), TensorBase([77.5434])),\n",
              " (TensorBase([18.9940]), TensorBase([44.8842]), TensorBase([49.7106])),\n",
              " (TensorBase([53.6105]), TensorBase([71.4188]), TensorBase([69.4936])),\n",
              " (TensorBase([54.6179]), TensorBase([67.2141]), TensorBase([71.3295])),\n",
              " (TensorBase([60.3041]), TensorBase([72.0834]), TensorBase([75.2343])),\n",
              " (TensorBase([52.3263]), TensorBase([71.6293]), TensorBase([75.5248])),\n",
              " (TensorBase([55.4224]), TensorBase([68.2881]), TensorBase([74.4613])),\n",
              " (TensorBase([57.7940]), TensorBase([72.4338]), TensorBase([71.8251])),\n",
              " (TensorBase([44.8685]), TensorBase([57.8655]), TensorBase([64.6475])),\n",
              " (TensorBase([69.9656]), TensorBase([75.4566]), TensorBase([78.6065])),\n",
              " (TensorBase([49.0295]), TensorBase([65.4991]), TensorBase([71.2674])),\n",
              " (TensorBase([18.5732]), TensorBase([60.6098]), TensorBase([35.7550])),\n",
              " (TensorBase([57.8198]), TensorBase([69.3301]), TensorBase([76.4294])),\n",
              " (TensorBase([36.7051]), TensorBase([59.7397]), TensorBase([66.0820])),\n",
              " (TensorBase([66.7284]), TensorBase([67.2406]), TensorBase([78.0718])),\n",
              " (TensorBase([52.9705]), TensorBase([63.4521]), TensorBase([66.0967])),\n",
              " (TensorBase([60.6171]), TensorBase([65.4248]), TensorBase([71.0056])),\n",
              " (TensorBase([54.3007]), TensorBase([63.2593]), TensorBase([71.5148])),\n",
              " (TensorBase([47.9130]), TensorBase([61.6645]), TensorBase([63.1907])),\n",
              " (TensorBase([65.1993]), TensorBase([62.9944]), TensorBase([70.2388])),\n",
              " (TensorBase([43.0699]), TensorBase([65.0329]), TensorBase([64.4511])),\n",
              " (TensorBase([48.6702]), TensorBase([68.9844]), TensorBase([64.9327])),\n",
              " (TensorBase([48.8560]), TensorBase([67.0226]), TensorBase([58.9296])),\n",
              " (TensorBase([34.0209]), TensorBase([56.9351]), TensorBase([59.7420])),\n",
              " (TensorBase([42.6586]), TensorBase([62.6087]), TensorBase([64.0487])),\n",
              " (TensorBase([64.1540]), TensorBase([73.1102]), TensorBase([72.8927])),\n",
              " (TensorBase([55.8038]), TensorBase([64.3632]), TensorBase([70.4047])),\n",
              " (TensorBase([59.7119]), TensorBase([66.1159]), TensorBase([75.6537])),\n",
              " (TensorBase([66.6183]), TensorBase([66.7261]), TensorBase([71.7156])),\n",
              " (TensorBase([60.7057]), TensorBase([68.5580]), TensorBase([71.6742])),\n",
              " (TensorBase([53.1664]), TensorBase([67.6454]), TensorBase([66.7648])),\n",
              " (TensorBase([71.9674]), TensorBase([70.9116]), TensorBase([80.4254])),\n",
              " (TensorBase([65.9509]), TensorBase([64.7857]), TensorBase([73.6115])),\n",
              " (TensorBase([72.5756]), TensorBase([74.8935]), TensorBase([79.4267])),\n",
              " (TensorBase([51.2591]), TensorBase([59.8617]), TensorBase([64.2170])),\n",
              " (TensorBase([26.7858]), TensorBase([53.8233]), TensorBase([28.9162])),\n",
              " (TensorBase([45.3356]), TensorBase([65.0746]), TensorBase([58.0617])),\n",
              " (TensorBase([54.7467]), TensorBase([67.5002]), TensorBase([71.1135])),\n",
              " (TensorBase([50.3163]), TensorBase([62.2738]), TensorBase([72.2365])),\n",
              " (TensorBase([19.3201]), TensorBase([47.8402]), TensorBase([27.4995])),\n",
              " (TensorBase([28.0851]), TensorBase([53.0355]), TensorBase([50.2642])),\n",
              " (TensorBase([55.7816]), TensorBase([65.8039]), TensorBase([68.7323])),\n",
              " (TensorBase([32.6165]), TensorBase([51.2408]), TensorBase([48.6490])),\n",
              " (TensorBase([45.5443]), TensorBase([60.4667]), TensorBase([64.5501])),\n",
              " (TensorBase([74.5260]), TensorBase([74.0902]), TensorBase([72.9758])),\n",
              " (TensorBase([66.3085]), TensorBase([74.4256]), TensorBase([77.8045])),\n",
              " (TensorBase([56.8465]), TensorBase([59.7762]), TensorBase([69.3264])),\n",
              " (TensorBase([51.0681]), TensorBase([63.2196]), TensorBase([67.1563])),\n",
              " (TensorBase([49.3642]), TensorBase([69.1191]), TensorBase([72.7652])),\n",
              " (TensorBase([42.4238]), TensorBase([62.1908]), TensorBase([62.3685])),\n",
              " (TensorBase([60.9030]), TensorBase([71.2015]), TensorBase([70.9954])),\n",
              " (TensorBase([51.7129]), TensorBase([60.1961]), TensorBase([63.9637])),\n",
              " (TensorBase([60.3950]), TensorBase([73.3324]), TensorBase([68.4875])),\n",
              " (TensorBase([51.4358]), TensorBase([71.0088]), TensorBase([70.8473])),\n",
              " (TensorBase([12.3983]), TensorBase([37.0483]), TensorBase([22.8858])),\n",
              " (TensorBase([65.6895]), TensorBase([67.1913]), TensorBase([70.7227])),\n",
              " (TensorBase([40.1844]), TensorBase([68.1095]), TensorBase([63.0792])),\n",
              " (TensorBase([18.6693]), TensorBase([35.0952]), TensorBase([28.2581])),\n",
              " (TensorBase([52.1017]), TensorBase([68.9714]), TensorBase([68.1297])),\n",
              " (TensorBase([47.9626]), TensorBase([59.9309]), TensorBase([60.5892])),\n",
              " (TensorBase([71.1235]), TensorBase([75.8440]), TensorBase([78.6079])),\n",
              " (TensorBase([61.8653]), TensorBase([71.8661]), TensorBase([71.7594])),\n",
              " (TensorBase([32.5522]), TensorBase([49.5622]), TensorBase([43.1075])),\n",
              " (TensorBase([49.9432]), TensorBase([59.3166]), TensorBase([60.8163])),\n",
              " (TensorBase([50.8901]), TensorBase([66.2832]), TensorBase([73.1214])),\n",
              " (TensorBase([45.8675]), TensorBase([58.0656]), TensorBase([67.4024])),\n",
              " (TensorBase([47.7872]), TensorBase([65.5020]), TensorBase([66.9830])),\n",
              " (TensorBase([59.8254]), TensorBase([65.9709]), TensorBase([66.9700])),\n",
              " (TensorBase([62.8010]), TensorBase([67.2776]), TensorBase([71.9280])),\n",
              " (TensorBase([57.5257]), TensorBase([65.6198]), TensorBase([80.7600])),\n",
              " (TensorBase([45.1945]), TensorBase([65.6680]), TensorBase([62.7671])),\n",
              " (TensorBase([19.7872]), TensorBase([42.7382]), TensorBase([38.5166])),\n",
              " (TensorBase([13.9179]), TensorBase([40.3273]), TensorBase([25.9711])),\n",
              " (TensorBase([53.5495]), TensorBase([65.3092]), TensorBase([77.0754])),\n",
              " (TensorBase([35.2763]), TensorBase([49.0454]), TensorBase([57.1816])),\n",
              " (TensorBase([57.4777]), TensorBase([67.4537]), TensorBase([73.4029])),\n",
              " (TensorBase([54.1672]), TensorBase([71.2728]), TensorBase([75.4855])),\n",
              " (TensorBase([15.2696]), TensorBase([49.3327]), TensorBase([26.4146])),\n",
              " (TensorBase([60.3013]), TensorBase([70.0932]), TensorBase([62.9796])),\n",
              " (TensorBase([52.6177]), TensorBase([71.4967]), TensorBase([71.3644])),\n",
              " (TensorBase([59.9710]), TensorBase([62.7302]), TensorBase([73.8845])),\n",
              " (TensorBase([11.4070]), TensorBase([32.7919]), TensorBase([12.6576])),\n",
              " (TensorBase([2.0766e-10]), TensorBase([69.2496]), TensorBase([72.3495])),\n",
              " (TensorBase([66.1233]), TensorBase([65.0583]), TensorBase([74.6106])),\n",
              " (TensorBase([75.7329]), TensorBase([77.4383]), TensorBase([79.3959])),\n",
              " (TensorBase([37.4328]), TensorBase([55.5111]), TensorBase([52.1141])),\n",
              " (TensorBase([55.2336]), TensorBase([73.6049]), TensorBase([72.8523])),\n",
              " (TensorBase([75.0828]), TensorBase([73.6680]), TensorBase([78.4392])),\n",
              " (TensorBase([39.3096]), TensorBase([60.8329]), TensorBase([54.7801])),\n",
              " (TensorBase([58.5746]), TensorBase([70.1005]), TensorBase([76.9870])),\n",
              " (TensorBase([59.6368]), TensorBase([69.4637]), TensorBase([72.8646])),\n",
              " (TensorBase([56.9437]), TensorBase([61.7506]), TensorBase([65.9751])),\n",
              " (TensorBase([14.1467]), TensorBase([47.5870]), TensorBase([32.6089])),\n",
              " (TensorBase([42.2012]), TensorBase([52.8088]), TensorBase([57.7801])),\n",
              " (TensorBase([56.7734]), TensorBase([65.2315]), TensorBase([77.7398])),\n",
              " (TensorBase([39.6932]), TensorBase([58.7110]), TensorBase([54.0108])),\n",
              " (TensorBase([64.7873]), TensorBase([70.0778]), TensorBase([72.5737])),\n",
              " (TensorBase([36.2407]), TensorBase([66.2085]), TensorBase([66.1553])),\n",
              " (TensorBase([44.0849]), TensorBase([55.4002]), TensorBase([59.2020])),\n",
              " (TensorBase([63.0293]), TensorBase([72.8612]), TensorBase([69.7745])),\n",
              " (TensorBase([55.8267]), TensorBase([64.9311]), TensorBase([74.7419])),\n",
              " (TensorBase([42.5527]), TensorBase([58.5306]), TensorBase([59.3476])),\n",
              " (TensorBase([46.3947]), TensorBase([58.8735]), TensorBase([65.6808])),\n",
              " (TensorBase([43.6161]), TensorBase([59.4197]), TensorBase([72.0038])),\n",
              " (TensorBase([52.6299]), TensorBase([69.3962]), TensorBase([69.1733])),\n",
              " (TensorBase([13.2870]), TensorBase([47.2007]), TensorBase([28.1286])),\n",
              " (TensorBase([54.4185]), TensorBase([69.9351]), TensorBase([67.8518])),\n",
              " (TensorBase([49.0970]), TensorBase([66.2602]), TensorBase([69.4475])),\n",
              " (TensorBase([17.4222]), TensorBase([46.0056]), TensorBase([28.4024])),\n",
              " (TensorBase([76.7124]), TensorBase([74.1306]), TensorBase([74.6603])),\n",
              " (TensorBase([66.9797]), TensorBase([70.3009]), TensorBase([70.6003])),\n",
              " (TensorBase([35.6440]), TensorBase([70.4660]), TensorBase([67.0973])),\n",
              " (TensorBase([52.1551]), TensorBase([69.1079]), TensorBase([75.3968])),\n",
              " (TensorBase([58.5220]), TensorBase([69.7816]), TensorBase([72.4762])),\n",
              " (TensorBase([21.0206]), TensorBase([56.2621]), TensorBase([28.6239])),\n",
              " (TensorBase([55.1155]), TensorBase([68.7819]), TensorBase([72.5142])),\n",
              " (TensorBase([51.6858]), TensorBase([67.6910]), TensorBase([62.3374])),\n",
              " (TensorBase([48.7092]), TensorBase([76.1943]), TensorBase([73.0686])),\n",
              " (TensorBase([49.1831]), TensorBase([70.1377]), TensorBase([72.7176])),\n",
              " (TensorBase([59.0119]), TensorBase([64.1781]), TensorBase([69.9356])),\n",
              " (TensorBase([37.7209]), TensorBase([65.1614]), TensorBase([51.8110])),\n",
              " (TensorBase([50.6589]), TensorBase([63.0623]), TensorBase([65.0292])),\n",
              " (TensorBase([28.4051]), TensorBase([63.9137]), TensorBase([44.3391])),\n",
              " (TensorBase([64.9646]), TensorBase([76.2910]), TensorBase([83.4370])),\n",
              " (TensorBase([46.7651]), TensorBase([70.8433]), TensorBase([69.0937])),\n",
              " (TensorBase([49.2786]), TensorBase([60.9597]), TensorBase([71.2857])),\n",
              " (TensorBase([46.9108]), TensorBase([54.8999]), TensorBase([60.5618])),\n",
              " (TensorBase([47.0565]), TensorBase([67.3837]), TensorBase([73.2062])),\n",
              " (TensorBase([60.2565]), TensorBase([68.8300]), TensorBase([74.6303])),\n",
              " (TensorBase([28.6708]), TensorBase([56.6917]), TensorBase([55.8038])),\n",
              " (TensorBase([46.6583]), TensorBase([63.9232]), TensorBase([61.7304])),\n",
              " (TensorBase([59.3221]), TensorBase([71.7350]), TensorBase([80.6308])),\n",
              " (TensorBase([11.7744]), TensorBase([26.2988]), TensorBase([13.9504])),\n",
              " (TensorBase([43.6980]), TensorBase([47.2014]), TensorBase([56.2747])),\n",
              " (TensorBase([48.7848]), TensorBase([59.9998]), TensorBase([65.6247])),\n",
              " (TensorBase([54.1266]), TensorBase([72.2733]), TensorBase([74.9827])),\n",
              " (TensorBase([53.8119]), TensorBase([68.2465]), TensorBase([70.8483])),\n",
              " (TensorBase([58.8821]), TensorBase([70.4312]), TensorBase([73.8189])),\n",
              " (TensorBase([39.5382]), TensorBase([65.6906]), TensorBase([61.1483])),\n",
              " (TensorBase([51.0232]), TensorBase([61.7131]), TensorBase([63.2615])),\n",
              " (TensorBase([60.2906]), TensorBase([68.9694]), TensorBase([76.8151])),\n",
              " (TensorBase([60.0822]), TensorBase([74.8445]), TensorBase([79.5306])),\n",
              " (TensorBase([52.2569]), TensorBase([69.6820]), TensorBase([70.0328])),\n",
              " (TensorBase([49.9823]), TensorBase([70.6988]), TensorBase([71.6872])),\n",
              " (TensorBase([32.3834]), TensorBase([45.2094]), TensorBase([51.5741])),\n",
              " (TensorBase([56.4071]), TensorBase([73.3695]), TensorBase([72.4969])),\n",
              " (TensorBase([48.0986]), TensorBase([58.3176]), TensorBase([68.4789])),\n",
              " (TensorBase([69.8512]), TensorBase([73.5939]), TensorBase([79.9167])),\n",
              " (TensorBase([73.1791]), TensorBase([78.6166]), TensorBase([79.8547])),\n",
              " (TensorBase([55.0147]), TensorBase([74.2196]), TensorBase([72.4990])),\n",
              " (TensorBase([43.7625]), TensorBase([49.9947]), TensorBase([66.9371])),\n",
              " (TensorBase([56.4551]), TensorBase([68.4667]), TensorBase([77.1300])),\n",
              " (TensorBase([40.9895]), TensorBase([62.5388]), TensorBase([57.7277])),\n",
              " (TensorBase([19.3141]), TensorBase([56.7202]), TensorBase([54.5485])),\n",
              " (TensorBase([58.8641]), TensorBase([70.7909]), TensorBase([71.7501])),\n",
              " (TensorBase([35.3481]), TensorBase([42.8338]), TensorBase([38.0424])),\n",
              " (TensorBase([42.8947]), TensorBase([65.8670]), TensorBase([61.0985])),\n",
              " (TensorBase([70.9220]), TensorBase([73.0702]), TensorBase([76.5112])),\n",
              " (TensorBase([53.4942]), TensorBase([67.4439]), TensorBase([69.8589])),\n",
              " (TensorBase([34.7258]), TensorBase([49.3154]), TensorBase([59.9218])),\n",
              " (TensorBase([58.6495]), TensorBase([67.8253]), TensorBase([70.3315])),\n",
              " (TensorBase([60.7807]), TensorBase([75.0636]), TensorBase([77.4703])),\n",
              " (TensorBase([27.4840]), TensorBase([56.9711]), TensorBase([47.1651])),\n",
              " (TensorBase([43.6215]), TensorBase([54.4102]), TensorBase([63.4451])),\n",
              " (TensorBase([69.5053]), TensorBase([73.5972]), TensorBase([78.1139])),\n",
              " (TensorBase([21.0002]), TensorBase([39.6963]), TensorBase([37.2927])),\n",
              " (TensorBase([54.4794]), TensorBase([71.3201]), TensorBase([72.3358])),\n",
              " (TensorBase([27.9462]), TensorBase([53.1592]), TensorBase([47.0436])),\n",
              " (TensorBase([48.4442]), TensorBase([64.1236]), TensorBase([73.6725])),\n",
              " (TensorBase([61.6523]), TensorBase([72.4025]), TensorBase([74.2585])),\n",
              " (TensorBase([53.8986]), TensorBase([70.7954]), TensorBase([73.1058])),\n",
              " (TensorBase([54.3126]), TensorBase([68.1718]), TensorBase([54.9437])),\n",
              " (TensorBase([49.1025]), TensorBase([63.6420]), TensorBase([75.0693])),\n",
              " (TensorBase([51.7660]), TensorBase([62.2696]), TensorBase([68.0061])),\n",
              " (TensorBase([51.9546]), TensorBase([60.0295]), TensorBase([71.8802])),\n",
              " (TensorBase([67.5555]), TensorBase([71.9860]), TensorBase([77.7276])),\n",
              " (TensorBase([44.7539]), TensorBase([50.7482]), TensorBase([59.7510])),\n",
              " (TensorBase([51.7223]), TensorBase([65.7640]), TensorBase([62.7508])),\n",
              " (TensorBase([60.1568]), TensorBase([68.0704]), TensorBase([74.0533])),\n",
              " (TensorBase([47.9044]), TensorBase([63.5171]), TensorBase([67.2188])),\n",
              " (TensorBase([62.9301]), TensorBase([70.2752]), TensorBase([70.0699])),\n",
              " (TensorBase([54.8070]), TensorBase([73.5714]), TensorBase([72.6223])),\n",
              " (TensorBase([55.8301]), TensorBase([69.9244]), TensorBase([72.6891])),\n",
              " (TensorBase([56.8547]), TensorBase([64.4029]), TensorBase([63.1581])),\n",
              " (TensorBase([23.9057]), TensorBase([51.9817]), TensorBase([40.8032])),\n",
              " (TensorBase([60.9595]), TensorBase([69.5242]), TensorBase([72.1859])),\n",
              " (TensorBase([43.9473]), TensorBase([57.8527]), TensorBase([57.3255])),\n",
              " (TensorBase([53.4284]), TensorBase([73.0096]), TensorBase([72.3125])),\n",
              " (TensorBase([66.7888]), TensorBase([70.7886]), TensorBase([76.7157])),\n",
              " (TensorBase([60.2258]), TensorBase([63.3258]), TensorBase([61.3080])),\n",
              " (TensorBase([54.0177]), TensorBase([66.7955]), TensorBase([69.6374])),\n",
              " (TensorBase([47.1568]), TensorBase([60.9046]), TensorBase([59.6160])),\n",
              " (TensorBase([31.9984]), TensorBase([38.2476]), TensorBase([39.6466])),\n",
              " (TensorBase([39.3713]), TensorBase([61.1039]), TensorBase([61.4097])),\n",
              " (TensorBase([67.4905]), TensorBase([72.6419]), TensorBase([79.4715])),\n",
              " (TensorBase([33.0561]), TensorBase([52.3182]), TensorBase([27.6745])),\n",
              " (TensorBase([51.9139]), TensorBase([61.4634]), TensorBase([58.3151])),\n",
              " (TensorBase([49.9247]), TensorBase([64.1058]), TensorBase([73.9871])),\n",
              " (TensorBase([18.2219]), TensorBase([51.8988]), TensorBase([36.1100])),\n",
              " (TensorBase([61.8818]), TensorBase([68.6541]), TensorBase([76.9344])),\n",
              " (TensorBase([61.7234]), TensorBase([66.6725]), TensorBase([72.4419])),\n",
              " (TensorBase([58.4450]), TensorBase([72.7656]), TensorBase([74.3313])),\n",
              " (TensorBase([45.3018]), TensorBase([66.4992]), TensorBase([75.4571])),\n",
              " (TensorBase([51.4437]), TensorBase([65.6932]), TensorBase([64.5705])),\n",
              " (TensorBase([23.4450]), TensorBase([42.6149]), TensorBase([49.6034])),\n",
              " (TensorBase([60.5287]), TensorBase([73.1646]), TensorBase([77.0403])),\n",
              " (TensorBase([40.7601]), TensorBase([62.6605]), TensorBase([56.5323])),\n",
              " (TensorBase([53.8246]), TensorBase([68.8075]), TensorBase([65.1044])),\n",
              " (TensorBase([52.8886]), TensorBase([66.0612]), TensorBase([67.0093])),\n",
              " (TensorBase([56.8185]), TensorBase([62.6203]), TensorBase([64.3886])),\n",
              " (TensorBase([57.1384]), TensorBase([74.8003]), TensorBase([77.4886])),\n",
              " (TensorBase([60.3701]), TensorBase([68.0098]), TensorBase([71.0101])),\n",
              " (TensorBase([70.1757]), TensorBase([73.6628]), TensorBase([77.9002])),\n",
              " (TensorBase([55.0507]), TensorBase([70.2521]), TensorBase([76.5768])),\n",
              " (TensorBase([58.0035]), TensorBase([74.1075]), TensorBase([73.7495])),\n",
              " (TensorBase([39.5523]), TensorBase([58.8473]), TensorBase([50.9369])),\n",
              " (TensorBase([60.8699]), TensorBase([68.9798]), TensorBase([69.1585])),\n",
              " (TensorBase([55.3317]), TensorBase([66.9607]), TensorBase([75.6279])),\n",
              " (TensorBase([70.3143]), TensorBase([70.5523]), TensorBase([75.3775])),\n",
              " (TensorBase([42.1188]), TensorBase([64.9995]), TensorBase([75.9980])),\n",
              " (TensorBase([64.9167]), TensorBase([69.0810]), TensorBase([82.2165])),\n",
              " (TensorBase([65.1830]), TensorBase([71.4283]), TensorBase([77.6648])),\n",
              " (TensorBase([68.9745]), TensorBase([69.1485]), TensorBase([75.5254])),\n",
              " (TensorBase([74.2064]), TensorBase([77.1483]), TensorBase([80.4171])),\n",
              " (TensorBase([1.0627e-13]), TensorBase([58.5952]), TensorBase([70.3734])),\n",
              " (TensorBase([72.9075]), TensorBase([74.8227]), TensorBase([74.8873])),\n",
              " (TensorBase([56.4502]), TensorBase([69.2796]), TensorBase([70.1410])),\n",
              " (TensorBase([43.7042]), TensorBase([57.6481]), TensorBase([65.3339])),\n",
              " (TensorBase([46.1239]), TensorBase([61.7257]), TensorBase([64.5058])),\n",
              " (TensorBase([46.0288]), TensorBase([63.1474]), TensorBase([63.0705])),\n",
              " (TensorBase([54.0944]), TensorBase([75.1442]), TensorBase([75.7504])),\n",
              " (TensorBase([40.5770]), TensorBase([62.3262]), TensorBase([59.2046])),\n",
              " (TensorBase([55.2560]), TensorBase([71.0258]), TensorBase([76.2473])),\n",
              " (TensorBase([33.8547]), TensorBase([60.5075]), TensorBase([53.5211])),\n",
              " (TensorBase([44.6873]), TensorBase([69.0072]), TensorBase([68.8382])),\n",
              " (TensorBase([60.6020]), TensorBase([67.2012]), TensorBase([74.4275])),\n",
              " (TensorBase([49.6074]), TensorBase([64.7220]), TensorBase([61.1124])),\n",
              " (TensorBase([50.3750]), TensorBase([73.0878]), TensorBase([75.8820])),\n",
              " (TensorBase([46.6058]), TensorBase([73.1709]), TensorBase([71.1535])),\n",
              " (TensorBase([31.1450]), TensorBase([50.9907]), TensorBase([50.6662])),\n",
              " (TensorBase([41.5816]), TensorBase([55.0471]), TensorBase([65.6994])),\n",
              " (TensorBase([12.4273]), TensorBase([28.8227]), TensorBase([14.1849])),\n",
              " (TensorBase([52.4099]), TensorBase([70.8646]), TensorBase([68.8933])),\n",
              " (TensorBase([66.5029]), TensorBase([69.7974]), TensorBase([73.5568])),\n",
              " (TensorBase([50.6058]), TensorBase([64.8077]), TensorBase([64.3681])),\n",
              " (TensorBase([10.7681]), TensorBase([25.5231]), TensorBase([17.6372])),\n",
              " (TensorBase([19.7154]), TensorBase([45.0911]), TensorBase([40.7270])),\n",
              " (TensorBase([62.2826]), TensorBase([67.6509]), TensorBase([72.2210])),\n",
              " (TensorBase([63.9241]), TensorBase([66.0539]), TensorBase([70.1284])),\n",
              " (TensorBase([32.2797]), TensorBase([49.9989]), TensorBase([67.4273])),\n",
              " (TensorBase([28.5440]), TensorBase([55.8801]), TensorBase([52.3548])),\n",
              " (TensorBase([37.5968]), TensorBase([60.3365]), TensorBase([67.7513])),\n",
              " (TensorBase([66.5352]), TensorBase([68.4093]), TensorBase([72.9505])),\n",
              " (TensorBase([14.6369]), TensorBase([33.8122]), TensorBase([18.6393])),\n",
              " (TensorBase([57.4541]), TensorBase([68.7369]), TensorBase([74.6514])),\n",
              " (TensorBase([57.1114]), TensorBase([66.9576]), TensorBase([73.7390])),\n",
              " (TensorBase([52.2200]), TensorBase([70.4319]), TensorBase([67.2248])),\n",
              " (TensorBase([75.5697]), TensorBase([74.4103]), TensorBase([74.2602])),\n",
              " (TensorBase([52.6989]), TensorBase([70.3374]), TensorBase([71.2081])),\n",
              " (TensorBase([66.0092]), TensorBase([68.6480]), TensorBase([68.5736])),\n",
              " (TensorBase([54.4312]), TensorBase([68.1468]), TensorBase([68.7278])),\n",
              " (TensorBase([52.7728]), TensorBase([62.5374]), TensorBase([66.9038])),\n",
              " (TensorBase([55.1345]), TensorBase([62.2967]), TensorBase([60.9006])),\n",
              " (TensorBase([45.0800]), TensorBase([63.5908]), TensorBase([62.0706])),\n",
              " (TensorBase([75.9088]), TensorBase([76.5458]), TensorBase([82.4479])),\n",
              " (TensorBase([72.6859]), TensorBase([82.2456]), TensorBase([78.7464])),\n",
              " (TensorBase([40.3203]), TensorBase([64.0879]), TensorBase([63.3256])),\n",
              " (TensorBase([65.8428]), TensorBase([73.6780]), TensorBase([69.4853])),\n",
              " (TensorBase([50.2371]), TensorBase([67.3281]), TensorBase([69.0072])),\n",
              " (TensorBase([57.7027]), TensorBase([65.2526]), TensorBase([67.2785])),\n",
              " (TensorBase([61.1600]), TensorBase([69.9746]), TensorBase([76.3584])),\n",
              " (TensorBase([48.0863]), TensorBase([64.9064]), TensorBase([60.7526])),\n",
              " (TensorBase([55.1563]), TensorBase([72.6609]), TensorBase([78.6507])),\n",
              " (TensorBase([48.4599]), TensorBase([58.8096]), TensorBase([55.6078])),\n",
              " (TensorBase([10.5709]), TensorBase([26.6315]), TensorBase([20.4300])),\n",
              " (TensorBase([54.2946]), TensorBase([61.5300]), TensorBase([64.8706])),\n",
              " (TensorBase([51.0531]), TensorBase([64.6841]), TensorBase([69.3699])),\n",
              " (TensorBase([55.5370]), TensorBase([70.6097]), TensorBase([73.0032])),\n",
              " (TensorBase([44.9295]), TensorBase([60.0959]), TensorBase([63.2092])),\n",
              " (TensorBase([62.9021]), TensorBase([72.4110]), TensorBase([74.0098])),\n",
              " (TensorBase([45.6874]), TensorBase([52.3953]), TensorBase([59.4236])),\n",
              " (TensorBase([51.9764]), TensorBase([61.3979]), TensorBase([65.3245])),\n",
              " (TensorBase([43.4990]), TensorBase([63.9446]), TensorBase([64.2767])),\n",
              " (TensorBase([51.8453]), TensorBase([61.3486]), TensorBase([65.4192])),\n",
              " (TensorBase([23.6519]), TensorBase([50.5899]), TensorBase([32.8227])),\n",
              " (TensorBase([66.2450]), TensorBase([69.6791]), TensorBase([73.6270])),\n",
              " (TensorBase([71.7846]), TensorBase([73.8731]), TensorBase([66.4838])),\n",
              " (TensorBase([69.2812]), TensorBase([70.5555]), TensorBase([80.7321])),\n",
              " (TensorBase([41.6762]), TensorBase([66.0300]), TensorBase([63.0507])),\n",
              " (TensorBase([30.9951]), TensorBase([46.5963]), TensorBase([58.4752])),\n",
              " (TensorBase([13.2912]), TensorBase([28.8528]), TensorBase([16.0993])),\n",
              " (TensorBase([17.7865]), TensorBase([38.4324]), TensorBase([27.5918])),\n",
              " (TensorBase([43.3942]), TensorBase([55.0690]), TensorBase([66.2033])),\n",
              " (TensorBase([57.5333]), TensorBase([63.7083]), TensorBase([74.4162])),\n",
              " (TensorBase([50.6892]), TensorBase([71.6895]), TensorBase([78.7394])),\n",
              " (TensorBase([54.7063]), TensorBase([66.9911]), TensorBase([67.4705])),\n",
              " (TensorBase([66.1938]), TensorBase([67.3917]), TensorBase([74.5154])),\n",
              " (TensorBase([66.7722]), TensorBase([72.6503]), TensorBase([72.8809])),\n",
              " (TensorBase([65.0512]), TensorBase([76.4288]), TensorBase([75.4420])),\n",
              " (TensorBase([32.2433]), TensorBase([61.6512]), TensorBase([55.9095])),\n",
              " (TensorBase([68.1869]), TensorBase([67.1312]), TensorBase([74.9511])),\n",
              " (TensorBase([47.1513]), TensorBase([63.7793]), TensorBase([64.0038])),\n",
              " (TensorBase([65.7605]), TensorBase([72.3640]), TensorBase([71.5738])),\n",
              " (TensorBase([59.8598]), TensorBase([70.1481]), TensorBase([64.5212])),\n",
              " (TensorBase([65.5278]), TensorBase([70.1231]), TensorBase([73.9954])),\n",
              " (TensorBase([56.1790]), TensorBase([65.4112]), TensorBase([72.0209])),\n",
              " (TensorBase([62.1911]), TensorBase([68.2541]), TensorBase([70.3181])),\n",
              " (TensorBase([63.1302]), TensorBase([74.4550]), TensorBase([73.0760])),\n",
              " (TensorBase([71.0220]), TensorBase([74.4826]), TensorBase([71.4384])),\n",
              " (TensorBase([57.3731]), TensorBase([64.2055]), TensorBase([76.8452])),\n",
              " (TensorBase([54.1616]), TensorBase([62.0692]), TensorBase([64.8006])),\n",
              " (TensorBase([58.9919]), TensorBase([67.2951]), TensorBase([69.9706])),\n",
              " (TensorBase([62.4507]), TensorBase([65.0790]), TensorBase([82.6917])),\n",
              " (TensorBase([45.8735]), TensorBase([67.7008]), TensorBase([65.3285])),\n",
              " (TensorBase([53.9860]), TensorBase([69.5391]), TensorBase([73.4378])),\n",
              " (TensorBase([44.8302]), TensorBase([67.9873]), TensorBase([65.0701])),\n",
              " (TensorBase([57.9626]), TensorBase([71.2726]), TensorBase([72.3328])),\n",
              " (TensorBase([47.0081]), TensorBase([62.5742]), TensorBase([71.4346])),\n",
              " (TensorBase([48.5813]), TensorBase([68.8275]), TensorBase([65.9894])),\n",
              " (TensorBase([25.6360]), TensorBase([59.1750]), TensorBase([55.7917])),\n",
              " (TensorBase([64.3122]), TensorBase([71.0558]), TensorBase([70.3655])),\n",
              " (TensorBase([68.1476]), TensorBase([77.1328]), TensorBase([77.7276])),\n",
              " (TensorBase([24.5624]), TensorBase([55.4708]), TensorBase([45.8454])),\n",
              " (TensorBase([56.0468]), TensorBase([64.4295]), TensorBase([64.2265])),\n",
              " (TensorBase([54.3086]), TensorBase([64.5086]), TensorBase([65.9047])),\n",
              " (TensorBase([46.9142]), TensorBase([59.8675]), TensorBase([60.9495])),\n",
              " (TensorBase([40.9347]), TensorBase([53.2715]), TensorBase([57.6980])),\n",
              " (TensorBase([60.1535]), TensorBase([67.1510]), TensorBase([70.6516])),\n",
              " (TensorBase([44.9629]), TensorBase([66.7362]), TensorBase([68.7932])),\n",
              " (TensorBase([55.0510]), TensorBase([68.8200]), TensorBase([75.1755])),\n",
              " (TensorBase([45.1663]), TensorBase([61.8047]), TensorBase([63.9966])),\n",
              " (TensorBase([44.6879]), TensorBase([61.5452]), TensorBase([62.9483])),\n",
              " (TensorBase([54.5998]), TensorBase([67.7013]), TensorBase([74.4981])),\n",
              " (TensorBase([50.0769]), TensorBase([64.3341]), TensorBase([63.5958])),\n",
              " (TensorBase([53.4888]), TensorBase([71.7575]), TensorBase([67.6114])),\n",
              " (TensorBase([61.6671]), TensorBase([71.1489]), TensorBase([77.4982])),\n",
              " (TensorBase([57.6766]), TensorBase([66.0703]), TensorBase([69.9536])),\n",
              " (TensorBase([57.5310]), TensorBase([62.4514]), TensorBase([61.4600])),\n",
              " (TensorBase([54.4681]), TensorBase([68.6079]), TensorBase([71.3621])),\n",
              " (TensorBase([55.3686]), TensorBase([66.7385]), TensorBase([77.3251])),\n",
              " (TensorBase([52.9054]), TensorBase([59.7669]), TensorBase([67.3682])),\n",
              " (TensorBase([31.4499]), TensorBase([55.0417]), TensorBase([61.7306])),\n",
              " (TensorBase([51.9035]), TensorBase([55.6710]), TensorBase([65.2811])),\n",
              " (TensorBase([20.3118]), TensorBase([40.7896]), TensorBase([28.8227])),\n",
              " (TensorBase([61.6909]), TensorBase([72.1326]), TensorBase([75.2199])),\n",
              " (TensorBase([69.8793]), TensorBase([72.5810]), TensorBase([71.5077])),\n",
              " (TensorBase([42.5632]), TensorBase([46.0626]), TensorBase([46.4653])),\n",
              " (TensorBase([53.4056]), TensorBase([66.0731]), TensorBase([69.0946])),\n",
              " (TensorBase([45.6250]), TensorBase([65.4792]), TensorBase([63.6145])),\n",
              " (TensorBase([57.3016]), TensorBase([68.2360]), TensorBase([67.8972])),\n",
              " (TensorBase([20.8018]), TensorBase([41.8837]), TensorBase([35.4715])),\n",
              " (TensorBase([67.3166]), TensorBase([70.0400]), TensorBase([73.5981])),\n",
              " (TensorBase([64.0559]), TensorBase([73.3273]), TensorBase([75.1111])),\n",
              " (TensorBase([71.4201]), TensorBase([76.7273]), TensorBase([76.0070])),\n",
              " (TensorBase([47.9940]), TensorBase([64.9495]), TensorBase([61.7045])),\n",
              " (TensorBase([62.9177]), TensorBase([67.3013]), TensorBase([73.7396])),\n",
              " (TensorBase([51.0174]), TensorBase([63.9430]), TensorBase([67.1695])),\n",
              " (TensorBase([40.3074]), TensorBase([71.0658]), TensorBase([61.7400])),\n",
              " (TensorBase([47.7844]), TensorBase([63.6775]), TensorBase([71.6086])),\n",
              " (TensorBase([64.2979]), TensorBase([68.8087]), TensorBase([78.0584])),\n",
              " (TensorBase([61.0729]), TensorBase([53.9856]), TensorBase([68.7757])),\n",
              " (TensorBase([18.7306]), TensorBase([49.1989]), TensorBase([23.2862])),\n",
              " (TensorBase([44.0006]), TensorBase([46.7132]), TensorBase([57.9949])),\n",
              " (TensorBase([62.2826]), TensorBase([68.6743]), TensorBase([74.7617])),\n",
              " (TensorBase([46.7827]), TensorBase([58.3560]), TensorBase([61.0329])),\n",
              " (TensorBase([50.0484]), TensorBase([64.2298]), TensorBase([65.1128])),\n",
              " (TensorBase([63.0407]), TensorBase([66.2570]), TensorBase([71.8886])),\n",
              " (TensorBase([59.8395]), TensorBase([69.5321]), TensorBase([74.4059])),\n",
              " (TensorBase([65.1088]), TensorBase([75.9851]), TensorBase([81.7322])),\n",
              " (TensorBase([57.3543]), TensorBase([58.9544]), TensorBase([68.0286])),\n",
              " (TensorBase([49.4515]), TensorBase([63.3196]), TensorBase([65.2538])),\n",
              " (TensorBase([65.2840]), TensorBase([74.2736]), TensorBase([78.6947])),\n",
              " (TensorBase([67.6110]), TensorBase([65.3260]), TensorBase([72.4442])),\n",
              " (TensorBase([63.1498]), TensorBase([75.8575]), TensorBase([76.5310])),\n",
              " (TensorBase([60.6049]), TensorBase([71.2167]), TensorBase([72.9495])),\n",
              " (TensorBase([63.7154]), TensorBase([74.3942]), TensorBase([75.1718])),\n",
              " (TensorBase([65.2830]), TensorBase([73.3309]), TensorBase([73.2814])),\n",
              " (TensorBase([25.1307]), TensorBase([43.7543]), TensorBase([38.7746])),\n",
              " (TensorBase([48.2535]), TensorBase([64.3922]), TensorBase([57.6179])),\n",
              " (TensorBase([29.0013]), TensorBase([55.3615]), TensorBase([49.3770])),\n",
              " (TensorBase([20.9694]), TensorBase([43.6351]), TensorBase([22.3438])),\n",
              " (TensorBase([51.5198]), TensorBase([68.7475]), TensorBase([73.5778])),\n",
              " (TensorBase([69.8983]), TensorBase([78.3415]), TensorBase([79.9989])),\n",
              " (TensorBase([67.8282]), TensorBase([72.4237]), TensorBase([73.9052])),\n",
              " (TensorBase([55.7237]), TensorBase([65.9015]), TensorBase([68.4322])),\n",
              " (TensorBase([57.6182]), TensorBase([69.7462]), TensorBase([74.8533])),\n",
              " (TensorBase([32.9941]), TensorBase([59.0468]), TensorBase([50.1839])),\n",
              " (TensorBase([53.7641]), TensorBase([65.6330]), TensorBase([66.8702])),\n",
              " (TensorBase([57.3803]), TensorBase([70.3138]), TensorBase([79.0521])),\n",
              " (TensorBase([53.0702]), TensorBase([73.0007]), TensorBase([77.9374])),\n",
              " (TensorBase([59.8580]), TensorBase([77.3468]), TensorBase([74.9243])),\n",
              " (TensorBase([56.3470]), TensorBase([69.9201]), TensorBase([70.3281])),\n",
              " (TensorBase([49.9685]), TensorBase([72.7126]), TensorBase([77.2107])),\n",
              " (TensorBase([38.7089]), TensorBase([65.0803]), TensorBase([65.7870])),\n",
              " (TensorBase([67.2250]), TensorBase([75.8253]), TensorBase([78.4080])),\n",
              " (TensorBase([59.7662]), TensorBase([71.9668]), TensorBase([70.9489])),\n",
              " (TensorBase([53.6335]), TensorBase([62.2707]), TensorBase([69.9507])),\n",
              " (TensorBase([56.0755]), TensorBase([63.3436]), TensorBase([62.1745])),\n",
              " (TensorBase([55.1597]), TensorBase([62.6348]), TensorBase([65.8365])),\n",
              " (TensorBase([49.5301]), TensorBase([57.7763]), TensorBase([64.1547])),\n",
              " (TensorBase([54.8925]), TensorBase([62.9793]), TensorBase([65.4579])),\n",
              " (TensorBase([26.8701]), TensorBase([52.2686]), TensorBase([42.8098])),\n",
              " (TensorBase([45.5835]), TensorBase([62.8902]), TensorBase([60.3174])),\n",
              " (TensorBase([100.]), TensorBase([68.6453]), TensorBase([80.0045])),\n",
              " (TensorBase([70.4880]), TensorBase([71.9965]), TensorBase([70.3186])),\n",
              " (TensorBase([13.9951]), TensorBase([27.8948]), TensorBase([15.8108])),\n",
              " (TensorBase([44.1042]), TensorBase([64.8837]), TensorBase([71.0904])),\n",
              " (TensorBase([53.8034]), TensorBase([71.0984]), TensorBase([73.8652])),\n",
              " (TensorBase([48.3139]), TensorBase([65.3868]), TensorBase([73.4632])),\n",
              " (TensorBase([64.9842]), TensorBase([70.7530]), TensorBase([76.2418])),\n",
              " (TensorBase([51.0292]), TensorBase([66.9464]), TensorBase([69.3649])),\n",
              " (TensorBase([8.1734]), TensorBase([27.8367]), TensorBase([21.3749])),\n",
              " (TensorBase([56.8134]), TensorBase([64.7342]), TensorBase([69.8157])),\n",
              " (TensorBase([75.3723]), TensorBase([76.2871]), TensorBase([75.0846])),\n",
              " (TensorBase([50.3161]), TensorBase([62.1289]), TensorBase([72.0227])),\n",
              " (TensorBase([46.4882]), TensorBase([65.4992]), TensorBase([59.7689])),\n",
              " (TensorBase([63.9946]), TensorBase([73.6498]), TensorBase([59.8285])),\n",
              " (TensorBase([45.4431]), TensorBase([65.5397]), TensorBase([74.9617])),\n",
              " (TensorBase([43.8488]), TensorBase([60.5478]), TensorBase([63.2690])),\n",
              " (TensorBase([47.3660]), TensorBase([67.5758]), TensorBase([70.0415])),\n",
              " (TensorBase([71.8554]), TensorBase([74.7498]), TensorBase([80.0255])),\n",
              " (TensorBase([47.9819]), TensorBase([57.7720]), TensorBase([66.5317])),\n",
              " (TensorBase([54.7576]), TensorBase([74.9196]), TensorBase([76.9465])),\n",
              " (TensorBase([41.3110]), TensorBase([62.0193]), TensorBase([58.4010])),\n",
              " (TensorBase([55.7223]), TensorBase([62.4894]), TensorBase([60.9372])),\n",
              " (TensorBase([65.6948]), TensorBase([72.1124]), TensorBase([74.4031])),\n",
              " (TensorBase([54.4770]), TensorBase([60.3513]), TensorBase([65.6288])),\n",
              " (TensorBase([57.5194]), TensorBase([64.8067]), TensorBase([71.5886])),\n",
              " (TensorBase([53.2120]), TensorBase([70.1574]), TensorBase([74.9288])),\n",
              " (TensorBase([74.5583]), TensorBase([77.6781]), TensorBase([80.3372])),\n",
              " (TensorBase([45.4131]), TensorBase([69.1457]), TensorBase([62.4598])),\n",
              " (TensorBase([35.5540]), TensorBase([49.0999]), TensorBase([47.4588])),\n",
              " (TensorBase([38.7709]), TensorBase([58.3057]), TensorBase([66.8145])),\n",
              " (TensorBase([17.9279]), TensorBase([26.5663]), TensorBase([22.8977])),\n",
              " (TensorBase([19.1540]), TensorBase([29.1550]), TensorBase([20.7232])),\n",
              " (TensorBase([53.8965]), TensorBase([66.5799]), TensorBase([74.7354])),\n",
              " (TensorBase([23.3979]), TensorBase([50.1572]), TensorBase([43.0977])),\n",
              " (TensorBase([71.7779]), TensorBase([72.1999]), TensorBase([64.2263])),\n",
              " (TensorBase([45.4353]), TensorBase([63.6704]), TensorBase([58.8755])),\n",
              " (TensorBase([53.1970]), TensorBase([72.3245]), TensorBase([70.6350])),\n",
              " (TensorBase([36.8749]), TensorBase([57.4908]), TensorBase([49.3822])),\n",
              " (TensorBase([62.7329]), TensorBase([74.4115]), TensorBase([73.0935])),\n",
              " (TensorBase([72.5196]), TensorBase([74.7684]), TensorBase([78.7191])),\n",
              " (TensorBase([55.1899]), TensorBase([68.4041]), TensorBase([76.1146])),\n",
              " (TensorBase([58.4812]), TensorBase([74.0988]), TensorBase([73.0474])),\n",
              " (TensorBase([58.3834]), TensorBase([70.0246]), TensorBase([72.6450])),\n",
              " (TensorBase([48.4856]), TensorBase([59.3167]), TensorBase([65.3141])),\n",
              " (TensorBase([65.3427]), TensorBase([70.7813]), TensorBase([78.3930])),\n",
              " (TensorBase([64.4381]), TensorBase([69.6106]), TensorBase([70.5300])),\n",
              " (TensorBase([21.2490]), TensorBase([36.4811]), TensorBase([13.8403])),\n",
              " (TensorBase([59.3213]), TensorBase([57.3329]), TensorBase([70.9818])),\n",
              " (TensorBase([14.2656]), TensorBase([31.9232]), TensorBase([12.7103])),\n",
              " (TensorBase([51.7727]), TensorBase([58.7633]), TensorBase([65.8999])),\n",
              " (TensorBase([15.8854]), TensorBase([36.4830]), TensorBase([29.2493])),\n",
              " (TensorBase([27.5507]), TensorBase([57.7538]), TensorBase([39.4341])),\n",
              " (TensorBase([50.6050]), TensorBase([58.8351]), TensorBase([65.2032])),\n",
              " (TensorBase([37.3130]), TensorBase([65.8184]), TensorBase([60.7658])),\n",
              " (TensorBase([49.2966]), TensorBase([72.1252]), TensorBase([75.6987])),\n",
              " (TensorBase([36.8529]), TensorBase([49.5180]), TensorBase([53.4779])),\n",
              " (TensorBase([60.6773]), TensorBase([66.1854]), TensorBase([70.7624])),\n",
              " (TensorBase([52.5823]), TensorBase([69.9528]), TensorBase([77.4711])),\n",
              " (TensorBase([59.4229]), TensorBase([72.4028]), TensorBase([68.1569])),\n",
              " (TensorBase([57.5785]), TensorBase([64.7217]), TensorBase([72.4075])),\n",
              " (TensorBase([61.8761]), TensorBase([72.0072]), TensorBase([75.2930])),\n",
              " (TensorBase([29.6656]), TensorBase([65.5326]), TensorBase([50.3680])),\n",
              " (TensorBase([52.0116]), TensorBase([64.9958]), TensorBase([74.8813])),\n",
              " (TensorBase([62.5973]), TensorBase([63.1444]), TensorBase([68.8791])),\n",
              " (TensorBase([61.0167]), TensorBase([69.5496]), TensorBase([70.1002])),\n",
              " (TensorBase([50.9070]), TensorBase([67.3605]), TensorBase([68.5354])),\n",
              " (TensorBase([62.1815]), TensorBase([73.2253]), TensorBase([79.7907])),\n",
              " (TensorBase([44.7228]), TensorBase([62.0108]), TensorBase([71.4199])),\n",
              " (TensorBase([62.3333]), TensorBase([64.4668]), TensorBase([78.0997])),\n",
              " (TensorBase([70.0608]), TensorBase([75.4222]), TensorBase([81.4903])),\n",
              " (TensorBase([59.3792]), TensorBase([67.0597]), TensorBase([73.9977])),\n",
              " (TensorBase([47.1973]), TensorBase([64.9007]), TensorBase([71.3627])),\n",
              " (TensorBase([43.6864]), TensorBase([64.4896]), TensorBase([66.8559])),\n",
              " (TensorBase([45.9124]), TensorBase([60.5282]), TensorBase([59.4681])),\n",
              " (TensorBase([48.4470]), TensorBase([65.3944]), TensorBase([68.6362])),\n",
              " (TensorBase([16.9918]), TensorBase([44.6869]), TensorBase([45.4487])),\n",
              " (TensorBase([41.2165]), TensorBase([64.2895]), TensorBase([65.6707])),\n",
              " (TensorBase([24.9377]), TensorBase([48.1029]), TensorBase([55.6710])),\n",
              " (TensorBase([50.1697]), TensorBase([59.0831]), TensorBase([64.4797])),\n",
              " (TensorBase([41.2048]), TensorBase([57.3228]), TensorBase([66.9612])),\n",
              " (TensorBase([50.6284]), TensorBase([61.4525]), TensorBase([75.2903])),\n",
              " (TensorBase([55.8958]), TensorBase([69.2426]), TensorBase([74.2101])),\n",
              " (TensorBase([49.8654]), TensorBase([56.7843]), TensorBase([70.1031])),\n",
              " (TensorBase([44.0358]), TensorBase([68.4789]), TensorBase([67.5668])),\n",
              " (TensorBase([62.8473]), TensorBase([69.3196]), TensorBase([71.7738])),\n",
              " (TensorBase([17.7707]), TensorBase([34.0932]), TensorBase([23.0476])),\n",
              " (TensorBase([59.3861]), TensorBase([73.7745]), TensorBase([80.8071])),\n",
              " (TensorBase([55.9373]), TensorBase([67.5541]), TensorBase([69.0448])),\n",
              " (TensorBase([49.8349]), TensorBase([65.4774]), TensorBase([67.8333])),\n",
              " (TensorBase([57.1068]), TensorBase([69.4813]), TensorBase([75.8053])),\n",
              " (TensorBase([50.3463]), TensorBase([65.1104]), TensorBase([62.8117])),\n",
              " (TensorBase([46.4092]), TensorBase([55.9842]), TensorBase([60.8785])),\n",
              " (TensorBase([56.6586]), TensorBase([67.9288]), TensorBase([73.7606])),\n",
              " (TensorBase([69.8801]), TensorBase([73.4672]), TensorBase([81.1768])),\n",
              " (TensorBase([29.3491]), TensorBase([32.6227]), TensorBase([51.6391])),\n",
              " (TensorBase([69.9533]), TensorBase([75.2583]), TensorBase([77.8254])),\n",
              " (TensorBase([43.6541]), TensorBase([53.9263]), TensorBase([54.8876])),\n",
              " (TensorBase([25.3394]), TensorBase([41.2625]), TensorBase([43.8326])),\n",
              " (TensorBase([36.4835]), TensorBase([46.1802]), TensorBase([55.1842])),\n",
              " (TensorBase([34.5762]), TensorBase([54.7295]), TensorBase([51.4359])),\n",
              " (TensorBase([46.3804]), TensorBase([72.5341]), TensorBase([78.0294])),\n",
              " (TensorBase([50.2984]), TensorBase([65.7961]), TensorBase([69.2486])),\n",
              " (TensorBase([55.0307]), TensorBase([71.2193]), TensorBase([72.2079])),\n",
              " (TensorBase([55.5487]), TensorBase([62.2467]), TensorBase([71.6729])),\n",
              " (TensorBase([42.8990]), TensorBase([68.3551]), TensorBase([66.1175])),\n",
              " (TensorBase([54.8350]), TensorBase([67.7207]), TensorBase([70.9810])),\n",
              " (TensorBase([14.1252]), TensorBase([28.4720]), TensorBase([19.7665])),\n",
              " (TensorBase([46.6664]), TensorBase([52.9956]), TensorBase([60.7396])),\n",
              " (TensorBase([52.1693]), TensorBase([63.0192]), TensorBase([61.4357])),\n",
              " (TensorBase([53.2800]), TensorBase([69.4260]), TensorBase([67.9386])),\n",
              " (TensorBase([71.6458]), TensorBase([77.3316]), TensorBase([83.4841])),\n",
              " (TensorBase([52.5551]), TensorBase([70.1202]), TensorBase([64.8792])),\n",
              " (TensorBase([54.7319]), TensorBase([69.6619]), TensorBase([70.5905])),\n",
              " (TensorBase([68.0174]), TensorBase([67.7719]), TensorBase([71.3606])),\n",
              " (TensorBase([58.2854]), TensorBase([58.7841]), TensorBase([66.4789])),\n",
              " (TensorBase([83.5655]), TensorBase([76.8487]), TensorBase([77.4108])),\n",
              " (TensorBase([74.4802]), TensorBase([71.4361]), TensorBase([74.1867])),\n",
              " (TensorBase([43.8593]), TensorBase([62.2924]), TensorBase([62.7654])),\n",
              " (TensorBase([66.4822]), TensorBase([69.3598]), TensorBase([70.8100])),\n",
              " (TensorBase([16.2694]), TensorBase([54.6733]), TensorBase([41.1749])),\n",
              " (TensorBase([43.5369]), TensorBase([61.1598]), TensorBase([64.1353])),\n",
              " (TensorBase([63.9366]), TensorBase([73.1928]), TensorBase([73.6918])),\n",
              " (TensorBase([53.8112]), TensorBase([69.7486]), TensorBase([69.6803])),\n",
              " (TensorBase([45.8747]), TensorBase([64.9470]), TensorBase([70.1284])),\n",
              " (TensorBase([37.3897]), TensorBase([60.8110]), TensorBase([58.7845])),\n",
              " (TensorBase([71.5294]), TensorBase([75.9697]), TensorBase([72.7168])),\n",
              " (TensorBase([58.9232]), TensorBase([66.3173]), TensorBase([69.5436])),\n",
              " (TensorBase([72.3310]), TensorBase([76.3523]), TensorBase([77.8499])),\n",
              " (TensorBase([75.2278]), TensorBase([78.6505]), TensorBase([81.4534])),\n",
              " (TensorBase([49.4704]), TensorBase([73.9303]), TensorBase([73.6079])),\n",
              " (TensorBase([61.6843]), TensorBase([67.7081]), TensorBase([73.2113])),\n",
              " (TensorBase([64.4176]), TensorBase([71.1496]), TensorBase([73.7362])),\n",
              " (TensorBase([53.7164]), TensorBase([71.2141]), TensorBase([71.9823])),\n",
              " (TensorBase([58.1448]), TensorBase([70.3243]), TensorBase([74.3515])),\n",
              " (TensorBase([55.9568]), TensorBase([62.5384]), TensorBase([69.0149])),\n",
              " (TensorBase([60.5548]), TensorBase([68.6961]), TensorBase([84.5220])),\n",
              " (TensorBase([67.2705]), TensorBase([69.6208]), TensorBase([75.6028])),\n",
              " (TensorBase([49.8086]), TensorBase([64.1139]), TensorBase([63.5799])),\n",
              " (TensorBase([39.8770]), TensorBase([54.9483]), TensorBase([54.9255])),\n",
              " (TensorBase([27.0350]), TensorBase([51.7141]), TensorBase([47.5889])),\n",
              " (TensorBase([46.4339]), TensorBase([59.2995]), TensorBase([62.6703])),\n",
              " (TensorBase([50.2938]), TensorBase([66.8793]), TensorBase([65.9513])),\n",
              " (TensorBase([66.8525]), TensorBase([65.6711]), TensorBase([68.5018])),\n",
              " (TensorBase([55.9206]), TensorBase([65.7772]), TensorBase([72.0163])),\n",
              " (TensorBase([60.5736]), TensorBase([68.5921]), TensorBase([75.4196])),\n",
              " (TensorBase([41.7340]), TensorBase([58.0603]), TensorBase([54.5333])),\n",
              " (TensorBase([47.1189]), TensorBase([60.1601]), TensorBase([64.0575])),\n",
              " (TensorBase([40.6684]), TensorBase([53.9542]), TensorBase([63.0391])),\n",
              " (TensorBase([65.3206]), TensorBase([74.6444]), TensorBase([76.3369])),\n",
              " (TensorBase([60.7913]), TensorBase([70.3362]), TensorBase([69.1803])),\n",
              " (TensorBase([77.9358]), TensorBase([74.2288]), TensorBase([81.5118])),\n",
              " (TensorBase([10.5597]), TensorBase([22.9518]), TensorBase([14.6971])),\n",
              " (TensorBase([30.8124]), TensorBase([62.4378]), TensorBase([54.3266])),\n",
              " (TensorBase([65.1948]), TensorBase([71.4851]), TensorBase([80.4505])),\n",
              " (TensorBase([58.6750]), TensorBase([69.5283]), TensorBase([70.6738])),\n",
              " (TensorBase([70.3246]), TensorBase([68.7893]), TensorBase([68.3524])),\n",
              " (TensorBase([72.9086]), TensorBase([69.3118]), TensorBase([74.4605])),\n",
              " (TensorBase([44.1151]), TensorBase([65.8145]), TensorBase([64.1903])),\n",
              " (TensorBase([55.8369]), TensorBase([72.0399]), TensorBase([66.5481])),\n",
              " (TensorBase([24.8871]), TensorBase([51.1662]), TensorBase([52.1050])),\n",
              " (TensorBase([52.4831]), TensorBase([69.1453]), TensorBase([71.6177])),\n",
              " (TensorBase([10.9648]), TensorBase([22.5679]), TensorBase([16.0613])),\n",
              " (TensorBase([52.8849]), TensorBase([68.8870]), TensorBase([73.5221])),\n",
              " (TensorBase([19.7850]), TensorBase([46.5245]), TensorBase([33.1672])),\n",
              " (TensorBase([49.4801]), TensorBase([65.4516]), TensorBase([61.0214])),\n",
              " (TensorBase([69.6006]), TensorBase([70.4010]), TensorBase([77.6821])),\n",
              " (TensorBase([72.2438]), TensorBase([72.3305]), TensorBase([77.2115])),\n",
              " (TensorBase([50.3683]), TensorBase([59.3350]), TensorBase([56.6240])),\n",
              " (TensorBase([36.3977]), TensorBase([54.9832]), TensorBase([54.5020])),\n",
              " (TensorBase([48.2312]), TensorBase([63.2926]), TensorBase([59.7572])),\n",
              " (TensorBase([61.0829]), TensorBase([64.0484]), TensorBase([80.7402])),\n",
              " (TensorBase([63.0818]), TensorBase([68.3125]), TensorBase([68.4434])),\n",
              " (TensorBase([51.7851]), TensorBase([68.3823]), TensorBase([70.5378])),\n",
              " (TensorBase([80.2366]), TensorBase([71.5684]), TensorBase([72.3822])),\n",
              " (TensorBase([50.2848]), TensorBase([55.3811]), TensorBase([67.8968])),\n",
              " (TensorBase([48.8341]), TensorBase([67.8031]), TensorBase([64.7375])),\n",
              " (TensorBase([45.1423]), TensorBase([58.5588]), TensorBase([59.9611])),\n",
              " (TensorBase([64.9396]), TensorBase([72.4075]), TensorBase([75.8486])),\n",
              " (TensorBase([77.6209]), TensorBase([75.2233]), TensorBase([78.9238])),\n",
              " (TensorBase([58.8819]), TensorBase([71.1009]), TensorBase([78.4163])),\n",
              " (TensorBase([54.7849]), TensorBase([67.4209]), TensorBase([72.2563])),\n",
              " (TensorBase([62.4541]), TensorBase([64.0673]), TensorBase([83.1724])),\n",
              " (TensorBase([16.8690]), TensorBase([35.8901]), TensorBase([25.9544])),\n",
              " (TensorBase([60.7702]), TensorBase([66.7498]), TensorBase([68.5894])),\n",
              " (TensorBase([44.1251]), TensorBase([64.8391]), TensorBase([69.4483])),\n",
              " (TensorBase([73.6188]), TensorBase([74.5651]), TensorBase([76.5888])),\n",
              " (TensorBase([55.1558]), TensorBase([60.4774]), TensorBase([70.0238])),\n",
              " (TensorBase([55.2098]), TensorBase([72.6615]), TensorBase([79.6386])),\n",
              " (TensorBase([49.3653]), TensorBase([66.8300]), TensorBase([63.0600])),\n",
              " (TensorBase([69.2058]), TensorBase([72.2439]), TensorBase([81.0014])),\n",
              " (TensorBase([63.6664]), TensorBase([68.0546]), TensorBase([71.9567])),\n",
              " (TensorBase([51.6400]), TensorBase([62.5367]), TensorBase([67.4200])),\n",
              " (TensorBase([46.9688]), TensorBase([50.5343]), TensorBase([74.2178])),\n",
              " (TensorBase([40.1186]), TensorBase([55.3428]), TensorBase([52.7329])),\n",
              " (TensorBase([45.6576]), TensorBase([69.1074]), TensorBase([71.5398])),\n",
              " (TensorBase([45.0116]), TensorBase([60.3186]), TensorBase([67.0492])),\n",
              " (TensorBase([50.3088]), TensorBase([65.5518]), TensorBase([58.1232])),\n",
              " (TensorBase([60.5365]), TensorBase([72.8721]), TensorBase([77.8568])),\n",
              " (TensorBase([48.4388]), TensorBase([72.8854]), TensorBase([71.1672])),\n",
              " (TensorBase([21.3818]), TensorBase([44.1336]), TensorBase([25.6988])),\n",
              " (TensorBase([70.2150]), TensorBase([72.5645]), TensorBase([74.2507])),\n",
              " (TensorBase([47.6210]), TensorBase([65.7062]), TensorBase([64.4533])),\n",
              " (TensorBase([63.3158]), TensorBase([72.4424]), TensorBase([79.5037])),\n",
              " (TensorBase([80.3657]), TensorBase([79.4086]), TensorBase([81.3869])),\n",
              " (TensorBase([42.8357]), TensorBase([56.1565]), TensorBase([61.0592])),\n",
              " (TensorBase([18.6290]), TensorBase([25.3403]), TensorBase([21.5932])),\n",
              " (TensorBase([51.1724]), TensorBase([60.8367]), TensorBase([69.3516])),\n",
              " (TensorBase([48.8187]), TensorBase([71.3937]), TensorBase([64.5802])),\n",
              " (TensorBase([56.2877]), TensorBase([69.8828]), TensorBase([70.5804])),\n",
              " (TensorBase([49.9178]), TensorBase([65.6675]), TensorBase([66.0325])),\n",
              " (TensorBase([67.0345]), TensorBase([74.2851]), TensorBase([76.2470])),\n",
              " (TensorBase([69.6723]), TensorBase([69.4238]), TensorBase([79.0801])),\n",
              " (TensorBase([24.1262]), TensorBase([43.8641]), TensorBase([20.7401])),\n",
              " (TensorBase([49.5084]), TensorBase([64.0805]), TensorBase([68.3867])),\n",
              " (TensorBase([99.9976]), TensorBase([50.6774]), TensorBase([65.8619])),\n",
              " (TensorBase([57.4240]), TensorBase([67.3533]), TensorBase([69.7721])),\n",
              " (TensorBase([48.5006]), TensorBase([66.9809]), TensorBase([63.4639])),\n",
              " (TensorBase([69.5799]), TensorBase([69.2034]), TensorBase([79.3955])),\n",
              " (TensorBase([78.1417]), TensorBase([73.9262]), TensorBase([79.5425])),\n",
              " (TensorBase([52.0758]), TensorBase([65.5089]), TensorBase([77.2542])),\n",
              " (TensorBase([57.3950]), TensorBase([71.1346]), TensorBase([68.3073])),\n",
              " (TensorBase([11.9886]), TensorBase([31.6517]), TensorBase([13.3200])),\n",
              " (TensorBase([63.7407]), TensorBase([68.4414]), TensorBase([72.9909])),\n",
              " (TensorBase([48.8865]), TensorBase([63.6380]), TensorBase([71.0946])),\n",
              " (TensorBase([59.6554]), TensorBase([78.0724]), TensorBase([76.8386])),\n",
              " (TensorBase([39.2228]), TensorBase([51.3504]), TensorBase([49.2553])),\n",
              " (TensorBase([53.5197]), TensorBase([60.6022]), TensorBase([62.1883])),\n",
              " (TensorBase([54.2898]), TensorBase([65.4769]), TensorBase([73.3059])),\n",
              " (TensorBase([59.9227]), TensorBase([68.9593]), TensorBase([74.1738])),\n",
              " (TensorBase([57.4824]), TensorBase([64.4372]), TensorBase([67.0427])),\n",
              " (TensorBase([42.0917]), TensorBase([60.1896]), TensorBase([64.6120])),\n",
              " (TensorBase([55.7114]), TensorBase([61.2344]), TensorBase([71.1366])),\n",
              " (TensorBase([46.6975]), TensorBase([67.9891]), TensorBase([60.2806])),\n",
              " (TensorBase([60.3001]), TensorBase([72.6785]), TensorBase([73.0462])),\n",
              " (TensorBase([45.1180]), TensorBase([64.4348]), TensorBase([63.8206])),\n",
              " (TensorBase([36.9718]), TensorBase([58.0751]), TensorBase([56.0175])),\n",
              " (TensorBase([55.2789]), TensorBase([71.3545]), TensorBase([70.4919])),\n",
              " (TensorBase([58.9608]), TensorBase([68.3023]), TensorBase([68.8761])),\n",
              " (TensorBase([57.8342]), TensorBase([74.1862]), TensorBase([77.7682])),\n",
              " (TensorBase([54.6604]), TensorBase([62.7266]), TensorBase([67.3746])),\n",
              " (TensorBase([21.5956]), TensorBase([50.9553]), TensorBase([36.8319])),\n",
              " (TensorBase([60.5665]), TensorBase([65.1095]), TensorBase([71.4832])),\n",
              " (TensorBase([46.5630]), TensorBase([66.9493]), TensorBase([72.9585])),\n",
              " (TensorBase([52.3385]), TensorBase([71.0755]), TensorBase([68.0796])),\n",
              " (TensorBase([14.0661]), TensorBase([34.4983]), TensorBase([29.7422])),\n",
              " (TensorBase([62.8377]), TensorBase([70.3886]), TensorBase([71.8554])),\n",
              " (TensorBase([57.4119]), TensorBase([68.5287]), TensorBase([70.9502])),\n",
              " (TensorBase([68.3551]), TensorBase([69.3839]), TensorBase([72.7054])),\n",
              " (TensorBase([54.3225]), TensorBase([72.1521]), TensorBase([68.2477])),\n",
              " (TensorBase([51.5881]), TensorBase([65.1458]), TensorBase([64.9581])),\n",
              " (TensorBase([49.2951]), TensorBase([59.2787]), TensorBase([64.7200])),\n",
              " (TensorBase([45.1990]), TensorBase([54.9545]), TensorBase([57.1009])),\n",
              " (TensorBase([64.3901]), TensorBase([70.0852]), TensorBase([72.8380])),\n",
              " (TensorBase([58.2489]), TensorBase([71.6091]), TensorBase([75.8915])),\n",
              " (TensorBase([43.5012]), TensorBase([71.7645]), TensorBase([73.4600])),\n",
              " (TensorBase([63.5652]), TensorBase([73.2771]), TensorBase([73.9792])),\n",
              " (TensorBase([36.2709]), TensorBase([48.4768]), TensorBase([55.4670])),\n",
              " (TensorBase([57.7360]), TensorBase([70.6104]), TensorBase([70.1240])),\n",
              " (TensorBase([24.2702]), TensorBase([40.7527]), TensorBase([28.0523])),\n",
              " (TensorBase([60.6983]), TensorBase([68.4911]), TensorBase([70.8852])),\n",
              " (TensorBase([53.5999]), TensorBase([65.9024]), TensorBase([63.5388])),\n",
              " (TensorBase([59.2020]), TensorBase([73.4389]), TensorBase([73.5062])),\n",
              " (TensorBase([27.2371]), TensorBase([51.1050]), TensorBase([30.5110])),\n",
              " (TensorBase([60.4441]), TensorBase([74.2642]), TensorBase([79.1287])),\n",
              " (TensorBase([50.1504]), TensorBase([69.1993]), TensorBase([64.3230])),\n",
              " (TensorBase([71.9765]), TensorBase([71.5916]), TensorBase([81.4119])),\n",
              " (TensorBase([64.8506]), TensorBase([70.8772]), TensorBase([69.3985])),\n",
              " (TensorBase([59.0765]), TensorBase([67.1881]), TensorBase([73.8867])),\n",
              " (TensorBase([18.9955]), TensorBase([60.7906]), TensorBase([55.4009])),\n",
              " (TensorBase([40.7054]), TensorBase([61.1597]), TensorBase([53.6230])),\n",
              " (TensorBase([44.2549]), TensorBase([56.8864]), TensorBase([58.3800])),\n",
              " (TensorBase([50.9391]), TensorBase([71.8674]), TensorBase([69.7261])),\n",
              " (TensorBase([64.9008]), TensorBase([71.4937]), TensorBase([76.9148])),\n",
              " (TensorBase([56.9291]), TensorBase([70.7265]), TensorBase([73.2756])),\n",
              " (TensorBase([11.4208]), TensorBase([38.8507]), TensorBase([13.6647])),\n",
              " (TensorBase([43.2967]), TensorBase([57.8909]), TensorBase([63.9926])),\n",
              " (TensorBase([23.0466]), TensorBase([42.6274]), TensorBase([39.6602])),\n",
              " (TensorBase([50.7321]), TensorBase([65.5961]), TensorBase([66.8604])),\n",
              " (TensorBase([44.6150]), TensorBase([57.8501]), TensorBase([64.7537])),\n",
              " (TensorBase([8.5879]), TensorBase([27.3993]), TensorBase([17.5891])),\n",
              " (TensorBase([62.3206]), TensorBase([68.7414]), TensorBase([76.2473])),\n",
              " (TensorBase([70.0568]), TensorBase([66.0735]), TensorBase([78.9524])),\n",
              " (TensorBase([69.2674]), TensorBase([72.7993]), TensorBase([81.7773])),\n",
              " (TensorBase([38.4117]), TensorBase([50.5022]), TensorBase([49.5118])),\n",
              " (TensorBase([34.4846]), TensorBase([62.2847]), TensorBase([48.2794])),\n",
              " (TensorBase([64.1329]), TensorBase([72.5774]), TensorBase([80.5320])),\n",
              " (TensorBase([54.3967]), TensorBase([64.8717]), TensorBase([67.0280])),\n",
              " (TensorBase([54.6094]), TensorBase([61.0647]), TensorBase([59.6803])),\n",
              " (TensorBase([47.3196]), TensorBase([57.6541]), TensorBase([62.1626])),\n",
              " (TensorBase([62.3042]), TensorBase([73.6775]), TensorBase([74.6251])),\n",
              " (TensorBase([73.3872]), TensorBase([78.5226]), TensorBase([80.2992])),\n",
              " (TensorBase([18.0942]), TensorBase([36.1885]), TensorBase([21.7505])),\n",
              " (TensorBase([67.6788]), TensorBase([70.3986]), TensorBase([75.4771])),\n",
              " (TensorBase([37.8927]), TensorBase([56.8409]), TensorBase([57.8714])),\n",
              " (TensorBase([50.9036]), TensorBase([66.8893]), TensorBase([67.1802])),\n",
              " (TensorBase([71.5290]), TensorBase([77.1998]), TensorBase([80.1325])),\n",
              " (TensorBase([53.7795]), TensorBase([63.4573]), TensorBase([73.4734])),\n",
              " (TensorBase([63.4400]), TensorBase([72.7022]), TensorBase([79.5913])),\n",
              " (TensorBase([62.0699]), TensorBase([73.8449]), TensorBase([75.2688])),\n",
              " (TensorBase([55.8492]), TensorBase([70.7771]), TensorBase([75.8249])),\n",
              " (TensorBase([20.0544]), TensorBase([42.8648]), TensorBase([39.4808])),\n",
              " (TensorBase([54.2219]), TensorBase([74.4390]), TensorBase([70.7977])),\n",
              " (TensorBase([67.5561]), TensorBase([73.2398]), TensorBase([74.4164])),\n",
              " (TensorBase([48.2009]), TensorBase([62.6767]), TensorBase([62.8281])),\n",
              " (TensorBase([62.2210]), TensorBase([78.0154]), TensorBase([75.4376])),\n",
              " (TensorBase([62.6668]), TensorBase([73.4810]), TensorBase([76.1224])),\n",
              " (TensorBase([56.9558]), TensorBase([67.5395]), TensorBase([74.2180])),\n",
              " (TensorBase([65.2713]), TensorBase([72.9618]), TensorBase([78.5965])),\n",
              " (TensorBase([60.6077]), TensorBase([66.2366]), TensorBase([76.8042])),\n",
              " (TensorBase([45.2221]), TensorBase([57.9714]), TensorBase([65.8564])),\n",
              " (TensorBase([58.6279]), TensorBase([73.2807]), TensorBase([69.3593])),\n",
              " (TensorBase([15.7791]), TensorBase([34.4792]), TensorBase([37.5411])),\n",
              " (TensorBase([42.3433]), TensorBase([66.0333]), TensorBase([63.7196])),\n",
              " (TensorBase([55.8992]), TensorBase([63.7472]), TensorBase([66.1447])),\n",
              " (TensorBase([66.0890]), TensorBase([71.1648]), TensorBase([76.4004])),\n",
              " (TensorBase([65.9388]), TensorBase([77.4831]), TensorBase([80.1405])),\n",
              " (TensorBase([48.3841]), TensorBase([71.7623]), TensorBase([68.1585])),\n",
              " (TensorBase([63.4538]), TensorBase([76.9189]), TensorBase([78.1105])),\n",
              " (TensorBase([51.1128]), TensorBase([57.2818]), TensorBase([63.6760])),\n",
              " (TensorBase([47.7441]), TensorBase([67.1915]), TensorBase([64.6545])),\n",
              " (TensorBase([59.9715]), TensorBase([75.0893]), TensorBase([78.1222])),\n",
              " (TensorBase([53.4868]), TensorBase([65.4067]), TensorBase([75.5747])),\n",
              " (TensorBase([20.5648]), TensorBase([47.7865]), TensorBase([27.3582])),\n",
              " (TensorBase([48.8645]), TensorBase([62.2977]), TensorBase([67.1334])),\n",
              " (TensorBase([56.7456]), TensorBase([71.2720]), TensorBase([76.3132])),\n",
              " (TensorBase([49.8736]), TensorBase([66.3430]), TensorBase([70.7085])),\n",
              " (TensorBase([60.5183]), TensorBase([69.7937]), TensorBase([70.1167])),\n",
              " (TensorBase([59.8759]), TensorBase([66.3245]), TensorBase([68.7568])),\n",
              " (TensorBase([56.8103]), TensorBase([72.3380]), TensorBase([69.5323])),\n",
              " (TensorBase([54.3416]), TensorBase([63.8439]), TensorBase([67.3879])),\n",
              " (TensorBase([56.6883]), TensorBase([65.5806]), TensorBase([64.1536])),\n",
              " (TensorBase([45.6598]), TensorBase([60.2087]), TensorBase([65.9323])),\n",
              " (TensorBase([61.6406]), TensorBase([65.5068]), TensorBase([66.0733])),\n",
              " (TensorBase([57.2078]), TensorBase([74.4991]), TensorBase([66.6878])),\n",
              " (TensorBase([45.9262]), TensorBase([61.1311]), TensorBase([66.7359])),\n",
              " (TensorBase([69.1491]), TensorBase([77.3941]), TensorBase([79.3865])),\n",
              " (TensorBase([50.2161]), TensorBase([57.4385]), TensorBase([72.7305])),\n",
              " (TensorBase([51.8858]), TensorBase([71.5459]), TensorBase([70.1921])),\n",
              " (TensorBase([46.3488]), TensorBase([64.6210]), TensorBase([61.9858])),\n",
              " (TensorBase([59.7902]), TensorBase([69.1053]), TensorBase([71.0691])),\n",
              " (TensorBase([60.7561]), TensorBase([70.6987]), TensorBase([72.1533])),\n",
              " (TensorBase([40.3804]), TensorBase([71.5485]), TensorBase([64.0864])),\n",
              " (TensorBase([61.8935]), TensorBase([65.4415]), TensorBase([68.9790])),\n",
              " (TensorBase([55.4310]), TensorBase([64.8616]), TensorBase([71.4822])),\n",
              " (TensorBase([41.7762]), TensorBase([58.6692]), TensorBase([62.9069])),\n",
              " (TensorBase([54.3405]), TensorBase([69.4157]), TensorBase([71.2691])),\n",
              " (TensorBase([50.4617]), TensorBase([70.8494]), TensorBase([72.1354])),\n",
              " (TensorBase([43.8575]), TensorBase([43.5200]), TensorBase([53.6150])),\n",
              " (TensorBase([64.2869]), TensorBase([68.5764]), TensorBase([79.2488])),\n",
              " (TensorBase([29.3441]), TensorBase([47.5531]), TensorBase([50.3773])),\n",
              " (TensorBase([58.9402]), TensorBase([64.5783]), TensorBase([71.3943])),\n",
              " (TensorBase([61.8461]), TensorBase([71.5372]), TensorBase([77.0958])),\n",
              " (TensorBase([62.6182]), TensorBase([68.2712]), TensorBase([65.8554])),\n",
              " (TensorBase([60.2348]), TensorBase([64.0359]), TensorBase([76.3535])),\n",
              " (TensorBase([18.6866]), TensorBase([42.1250]), TensorBase([15.9815])),\n",
              " (TensorBase([59.1236]), TensorBase([59.4231]), TensorBase([78.1592])),\n",
              " (TensorBase([56.4034]), TensorBase([67.6934]), TensorBase([76.5311])),\n",
              " (TensorBase([62.1988]), TensorBase([72.1878]), TensorBase([74.3748])),\n",
              " (TensorBase([58.1680]), TensorBase([66.7451]), TensorBase([71.1923])),\n",
              " (TensorBase([62.0479]), TensorBase([49.9263]), TensorBase([76.8728])),\n",
              " (TensorBase([60.7222]), TensorBase([73.0907]), TensorBase([72.9661])),\n",
              " (TensorBase([22.6738]), TensorBase([34.8583]), TensorBase([20.4025])),\n",
              " (TensorBase([59.0239]), TensorBase([71.2085]), TensorBase([73.3096])),\n",
              " (TensorBase([14.4920]), TensorBase([24.9514]), TensorBase([17.2533])),\n",
              " (TensorBase([59.3987]), TensorBase([69.7904]), TensorBase([73.7249])),\n",
              " (TensorBase([65.7798]), TensorBase([78.5416]), TensorBase([73.4001])),\n",
              " (TensorBase([62.5628]), TensorBase([63.4878]), TensorBase([72.4824])),\n",
              " (TensorBase([53.3441]), TensorBase([71.0992]), TensorBase([70.0315])),\n",
              " (TensorBase([63.3544]), TensorBase([75.7973]), TensorBase([80.0011])),\n",
              " (TensorBase([46.9405]), TensorBase([65.8285]), TensorBase([63.9485])),\n",
              " (TensorBase([56.0533]), TensorBase([71.6031]), TensorBase([68.3481])),\n",
              " (TensorBase([13.4448]), TensorBase([41.5492]), TensorBase([22.5405])),\n",
              " (TensorBase([60.4133]), TensorBase([66.8221]), TensorBase([68.5694])),\n",
              " (TensorBase([29.4716]), TensorBase([52.6350]), TensorBase([66.3787])),\n",
              " (TensorBase([54.6695]), TensorBase([69.7455]), TensorBase([75.9285])),\n",
              " (TensorBase([20.7090]), TensorBase([32.6918]), TensorBase([33.3606])),\n",
              " (TensorBase([34.4473]), TensorBase([58.5360]), TensorBase([58.2743])),\n",
              " (TensorBase([47.1557]), TensorBase([64.0950]), TensorBase([73.7819])),\n",
              " (TensorBase([37.5957]), TensorBase([58.2940]), TensorBase([52.1500])),\n",
              " (TensorBase([63.6476]), TensorBase([66.6770]), TensorBase([72.8748])),\n",
              " (TensorBase([65.3076]), TensorBase([73.2855]), TensorBase([77.7685])),\n",
              " (TensorBase([62.0670]), TensorBase([68.3696]), TensorBase([67.9734])),\n",
              " (TensorBase([41.1787]), TensorBase([54.9827]), TensorBase([63.9211])),\n",
              " (TensorBase([68.0061]), TensorBase([71.6980]), TensorBase([77.5258])),\n",
              " (TensorBase([56.7822]), TensorBase([72.8614]), TensorBase([67.4391])),\n",
              " (TensorBase([55.6043]), TensorBase([69.1762]), TensorBase([67.6598])),\n",
              " (TensorBase([71.8029]), TensorBase([73.3894]), TensorBase([74.4220])),\n",
              " (TensorBase([30.6013]), TensorBase([44.4241]), TensorBase([22.9305])),\n",
              " (TensorBase([43.0470]), TensorBase([62.3533]), TensorBase([62.5074])),\n",
              " (TensorBase([23.4709]), TensorBase([42.1881]), TensorBase([35.8124])),\n",
              " (TensorBase([53.0001]), TensorBase([66.3023]), TensorBase([70.5531])),\n",
              " (TensorBase([43.5913]), TensorBase([56.0068]), TensorBase([60.3780])),\n",
              " (TensorBase([75.6553]), TensorBase([74.5442]), TensorBase([67.9603])),\n",
              " (TensorBase([37.6581]), TensorBase([56.9334]), TensorBase([53.7399])),\n",
              " (TensorBase([19.6282]), TensorBase([48.6291]), TensorBase([42.3882])),\n",
              " (TensorBase([47.0609]), TensorBase([66.2673]), TensorBase([64.2879])),\n",
              " (TensorBase([53.7368]), TensorBase([70.8174]), TensorBase([71.2064])),\n",
              " (TensorBase([46.9664]), TensorBase([61.3372]), TensorBase([68.8976])),\n",
              " (TensorBase([58.3911]), TensorBase([69.6972]), TensorBase([71.7701])),\n",
              " (TensorBase([55.3303]), TensorBase([63.6280]), TensorBase([74.1646])),\n",
              " (TensorBase([50.5632]), TensorBase([67.9921]), TensorBase([71.2784])),\n",
              " (TensorBase([62.3078]), TensorBase([75.1157]), TensorBase([79.3231])),\n",
              " (TensorBase([47.6197]), TensorBase([61.4132]), TensorBase([59.9726])),\n",
              " (TensorBase([20.3379]), TensorBase([58.6291]), TensorBase([33.9910])),\n",
              " (TensorBase([18.3620]), TensorBase([47.1934]), TensorBase([27.5841])),\n",
              " (TensorBase([65.4228]), TensorBase([72.9862]), TensorBase([71.7876])),\n",
              " (TensorBase([62.3846]), TensorBase([67.9620]), TensorBase([65.2605])),\n",
              " (TensorBase([43.0399]), TensorBase([60.7485]), TensorBase([60.1187])),\n",
              " (TensorBase([20.9364]), TensorBase([34.5020]), TensorBase([17.5639])),\n",
              " (TensorBase([46.1883]), TensorBase([65.9227]), TensorBase([59.1343])),\n",
              " (TensorBase([66.2200]), TensorBase([77.4959]), TensorBase([75.8086])),\n",
              " (TensorBase([33.5510]), TensorBase([50.6933]), TensorBase([55.3016])),\n",
              " (TensorBase([65.5049]), TensorBase([68.9879]), TensorBase([78.2881])),\n",
              " (TensorBase([59.3974]), TensorBase([67.1735]), TensorBase([66.2998])),\n",
              " (TensorBase([53.0098]), TensorBase([68.3531]), TensorBase([74.6788])),\n",
              " (TensorBase([65.4475]), TensorBase([73.8758]), TensorBase([78.9780])),\n",
              " (TensorBase([70.3629]), TensorBase([74.4362]), TensorBase([78.4176])),\n",
              " (TensorBase([59.4107]), TensorBase([66.0727]), TensorBase([78.8064])),\n",
              " (TensorBase([46.0703]), TensorBase([48.4318]), TensorBase([64.7563])),\n",
              " (TensorBase([36.9148]), TensorBase([53.8250]), TensorBase([55.0481])),\n",
              " (TensorBase([54.3807]), TensorBase([61.4096]), TensorBase([70.2227])),\n",
              " (TensorBase([67.3929]), TensorBase([72.1370]), TensorBase([75.0409])),\n",
              " (TensorBase([63.4150]), TensorBase([69.8363]), TensorBase([74.4323])),\n",
              " (TensorBase([63.1065]), TensorBase([71.2960]), TensorBase([77.5572])),\n",
              " (TensorBase([74.6932]), TensorBase([75.8825]), TensorBase([80.4277])),\n",
              " (TensorBase([49.3340]), TensorBase([62.0325]), TensorBase([72.3802])),\n",
              " (TensorBase([58.5531]), TensorBase([72.3487]), TensorBase([78.1678])),\n",
              " (TensorBase([41.5207]), TensorBase([53.3637]), TensorBase([53.7379])),\n",
              " (TensorBase([61.3180]), TensorBase([66.9448]), TensorBase([72.7690])),\n",
              " (TensorBase([52.1788]), TensorBase([67.3086]), TensorBase([71.7284])),\n",
              " (TensorBase([49.9500]), TensorBase([64.6022]), TensorBase([68.1804])),\n",
              " (TensorBase([56.1189]), TensorBase([73.8291]), TensorBase([70.5524])),\n",
              " (TensorBase([51.4478]), TensorBase([61.1282]), TensorBase([68.2076])),\n",
              " (TensorBase([12.9313]), TensorBase([46.8129]), TensorBase([20.7700])),\n",
              " (TensorBase([62.5083]), TensorBase([71.7023]), TensorBase([76.4029])),\n",
              " (TensorBase([44.5243]), TensorBase([72.2555]), TensorBase([72.7638])),\n",
              " (TensorBase([62.5115]), TensorBase([63.6724]), TensorBase([67.8924])),\n",
              " (TensorBase([39.4638]), TensorBase([52.8903]), TensorBase([54.6460])),\n",
              " (TensorBase([47.6404]), TensorBase([62.0034]), TensorBase([63.4302])),\n",
              " (TensorBase([62.9857]), TensorBase([69.6525]), TensorBase([71.6865])),\n",
              " (TensorBase([43.8871]), TensorBase([59.9281]), TensorBase([65.1713])),\n",
              " (TensorBase([44.0302]), TensorBase([58.9047]), TensorBase([62.6142])),\n",
              " (TensorBase([56.5972]), TensorBase([67.0590]), TensorBase([65.6366])),\n",
              " (TensorBase([62.3819]), TensorBase([70.6898]), TensorBase([73.9018])),\n",
              " (TensorBase([67.7585]), TensorBase([67.6481]), TensorBase([72.8545])),\n",
              " (TensorBase([50.9883]), TensorBase([61.7756]), TensorBase([64.8406])),\n",
              " (TensorBase([53.5037]), TensorBase([67.5465]), TensorBase([71.1903])),\n",
              " (TensorBase([56.2314]), TensorBase([62.6597]), TensorBase([65.6171])),\n",
              " (TensorBase([56.4586]), TensorBase([65.5555]), TensorBase([69.3985])),\n",
              " (TensorBase([63.8349]), TensorBase([73.0222]), TensorBase([79.4897])),\n",
              " (TensorBase([62.2188]), TensorBase([77.2759]), TensorBase([77.4890])),\n",
              " (TensorBase([59.3869]), TensorBase([71.0538]), TensorBase([64.5958])),\n",
              " (TensorBase([56.6123]), TensorBase([69.0585]), TensorBase([74.2934])),\n",
              " (TensorBase([45.3013]), TensorBase([63.0079]), TensorBase([69.3228])),\n",
              " (TensorBase([49.2271]), TensorBase([71.0199]), TensorBase([74.7737])),\n",
              " (TensorBase([61.3869]), TensorBase([68.5849]), TensorBase([74.9218])),\n",
              " ...]"
            ]
          },
          "metadata": {},
          "execution_count": 77
        }
      ],
      "source": [
        "arreglo_predicciones"
      ]
    },
    {
      "cell_type": "markdown",
      "metadata": {
        "id": "skomkD5yw2f8"
      },
      "source": [
        "Finalmente, se calcula la media de cada fila obtenida, mediante la función *ensemble_models*"
      ]
    },
    {
      "cell_type": "code",
      "execution_count": null,
      "metadata": {
        "id": "8EYoik7_-iCU"
      },
      "outputs": [],
      "source": [
        "w =[]\n",
        "def ensemble_models(m):\n",
        "  for j in range(len(m)):\n",
        "    media = sum(m[j])/(len(m[0]))\n",
        "    w.append(media)\n",
        "  return w"
      ]
    },
    {
      "cell_type": "code",
      "execution_count": null,
      "metadata": {
        "id": "tC0L3oxX_cQx"
      },
      "outputs": [],
      "source": [
        "ensemble = ensemble_models(arreglo_predicciones)"
      ]
    },
    {
      "cell_type": "markdown",
      "metadata": {
        "id": "wWbMqbtnXAPn"
      },
      "source": [
        "Se puede visualizar así"
      ]
    },
    {
      "cell_type": "code",
      "execution_count": null,
      "metadata": {
        "colab": {
          "base_uri": "https://localhost:8080/"
        },
        "id": "56351yhIyS8T",
        "outputId": "7bf2a7fe-0510-438a-be8e-0bdb6138bb11"
      },
      "outputs": [
        {
          "output_type": "execute_result",
          "data": {
            "text/plain": [
              "[TensorBase([56.3425]),\n",
              " TensorBase([65.8576]),\n",
              " TensorBase([65.8784]),\n",
              " TensorBase([74.0827]),\n",
              " TensorBase([28.1747]),\n",
              " TensorBase([37.8544]),\n",
              " TensorBase([61.9803]),\n",
              " TensorBase([63.3106]),\n",
              " TensorBase([65.8999]),\n",
              " TensorBase([35.3519]),\n",
              " TensorBase([69.1727]),\n",
              " TensorBase([57.8158]),\n",
              " TensorBase([67.4570]),\n",
              " TensorBase([46.4085]),\n",
              " TensorBase([55.1868]),\n",
              " TensorBase([66.0400]),\n",
              " TensorBase([59.6165]),\n",
              " TensorBase([73.4746]),\n",
              " TensorBase([64.3180]),\n",
              " TensorBase([57.4350]),\n",
              " TensorBase([59.5608]),\n",
              " TensorBase([55.6673]),\n",
              " TensorBase([59.5869]),\n",
              " TensorBase([74.9391]),\n",
              " TensorBase([59.9531]),\n",
              " TensorBase([66.7260]),\n",
              " TensorBase([64.5848]),\n",
              " TensorBase([67.2137]),\n",
              " TensorBase([62.5667]),\n",
              " TensorBase([71.7786]),\n",
              " TensorBase([60.9459]),\n",
              " TensorBase([55.7248]),\n",
              " TensorBase([67.2342]),\n",
              " TensorBase([67.1652]),\n",
              " TensorBase([42.2504]),\n",
              " TensorBase([25.9053]),\n",
              " TensorBase([58.4584]),\n",
              " TensorBase([56.6049]),\n",
              " TensorBase([74.0301]),\n",
              " TensorBase([40.8246]),\n",
              " TensorBase([60.6795]),\n",
              " TensorBase([69.7533]),\n",
              " TensorBase([60.3235]),\n",
              " TensorBase([61.0092]),\n",
              " TensorBase([54.4096]),\n",
              " TensorBase([53.3040]),\n",
              " TensorBase([28.3238]),\n",
              " TensorBase([70.8956]),\n",
              " TensorBase([63.6931]),\n",
              " TensorBase([51.5542]),\n",
              " TensorBase([74.6732]),\n",
              " TensorBase([66.1684]),\n",
              " TensorBase([71.0418]),\n",
              " TensorBase([28.6256]),\n",
              " TensorBase([49.1276]),\n",
              " TensorBase([64.3559]),\n",
              " TensorBase([75.9939]),\n",
              " TensorBase([69.2617]),\n",
              " TensorBase([72.6737]),\n",
              " TensorBase([67.0395]),\n",
              " TensorBase([68.2095]),\n",
              " TensorBase([56.6813]),\n",
              " TensorBase([57.9964]),\n",
              " TensorBase([66.5889]),\n",
              " TensorBase([63.4277]),\n",
              " TensorBase([19.7340]),\n",
              " TensorBase([45.1966]),\n",
              " TensorBase([67.2108]),\n",
              " TensorBase([55.3776]),\n",
              " TensorBase([42.7650]),\n",
              " TensorBase([73.6555]),\n",
              " TensorBase([68.1571]),\n",
              " TensorBase([48.5849]),\n",
              " TensorBase([47.0544]),\n",
              " TensorBase([68.1368]),\n",
              " TensorBase([56.2664]),\n",
              " TensorBase([42.2289]),\n",
              " TensorBase([52.1624]),\n",
              " TensorBase([32.7236]),\n",
              " TensorBase([49.4695]),\n",
              " TensorBase([63.1959]),\n",
              " TensorBase([53.4157]),\n",
              " TensorBase([70.0930]),\n",
              " TensorBase([16.1801]),\n",
              " TensorBase([30.4634]),\n",
              " TensorBase([70.9711]),\n",
              " TensorBase([22.3021]),\n",
              " TensorBase([72.5869]),\n",
              " TensorBase([47.2505]),\n",
              " TensorBase([63.9138]),\n",
              " TensorBase([60.0630]),\n",
              " TensorBase([65.4290]),\n",
              " TensorBase([17.8659]),\n",
              " TensorBase([52.6093]),\n",
              " TensorBase([64.8450]),\n",
              " TensorBase([73.7582]),\n",
              " TensorBase([55.9194]),\n",
              " TensorBase([71.8776]),\n",
              " TensorBase([56.4535]),\n",
              " TensorBase([30.2538]),\n",
              " TensorBase([48.9875]),\n",
              " TensorBase([62.1490]),\n",
              " TensorBase([63.0058]),\n",
              " TensorBase([56.0181]),\n",
              " TensorBase([71.2637]),\n",
              " TensorBase([34.7752]),\n",
              " TensorBase([64.5702]),\n",
              " TensorBase([64.6111]),\n",
              " TensorBase([65.3854]),\n",
              " TensorBase([36.0347]),\n",
              " TensorBase([51.7371]),\n",
              " TensorBase([71.3875]),\n",
              " TensorBase([43.2316]),\n",
              " TensorBase([64.9841]),\n",
              " TensorBase([56.6888]),\n",
              " TensorBase([69.4271]),\n",
              " TensorBase([67.3012]),\n",
              " TensorBase([52.0824]),\n",
              " TensorBase([28.8849]),\n",
              " TensorBase([73.4727]),\n",
              " TensorBase([72.2862]),\n",
              " TensorBase([66.4396]),\n",
              " TensorBase([66.8627]),\n",
              " TensorBase([60.3119]),\n",
              " TensorBase([73.0356]),\n",
              " TensorBase([57.4857]),\n",
              " TensorBase([74.3738]),\n",
              " TensorBase([66.4054]),\n",
              " TensorBase([68.6596]),\n",
              " TensorBase([67.3146]),\n",
              " TensorBase([70.4182]),\n",
              " TensorBase([65.4595]),\n",
              " TensorBase([65.5902]),\n",
              " TensorBase([71.4033]),\n",
              " TensorBase([60.2510]),\n",
              " TensorBase([69.4717]),\n",
              " TensorBase([66.3610]),\n",
              " TensorBase([71.1983]),\n",
              " TensorBase([56.1006]),\n",
              " TensorBase([60.3401]),\n",
              " TensorBase([66.0220]),\n",
              " TensorBase([71.6116]),\n",
              " TensorBase([37.8629]),\n",
              " TensorBase([64.8410]),\n",
              " TensorBase([64.3871]),\n",
              " TensorBase([69.2073]),\n",
              " TensorBase([66.4935]),\n",
              " TensorBase([66.0573]),\n",
              " TensorBase([67.3509]),\n",
              " TensorBase([55.7938]),\n",
              " TensorBase([74.6762]),\n",
              " TensorBase([61.9320]),\n",
              " TensorBase([38.3127]),\n",
              " TensorBase([67.8597]),\n",
              " TensorBase([54.1756]),\n",
              " TensorBase([70.6803]),\n",
              " TensorBase([60.8398]),\n",
              " TensorBase([65.6825]),\n",
              " TensorBase([63.0249]),\n",
              " TensorBase([57.5894]),\n",
              " TensorBase([66.1442]),\n",
              " TensorBase([57.5180]),\n",
              " TensorBase([60.8624]),\n",
              " TensorBase([58.2694]),\n",
              " TensorBase([50.2327]),\n",
              " TensorBase([56.4387]),\n",
              " TensorBase([70.0523]),\n",
              " TensorBase([63.5239]),\n",
              " TensorBase([67.1605]),\n",
              " TensorBase([68.3533]),\n",
              " TensorBase([66.9793]),\n",
              " TensorBase([62.5255]),\n",
              " TensorBase([74.4348]),\n",
              " TensorBase([68.1161]),\n",
              " TensorBase([75.6319]),\n",
              " TensorBase([58.4459]),\n",
              " TensorBase([36.5084]),\n",
              " TensorBase([56.1573]),\n",
              " TensorBase([64.4535]),\n",
              " TensorBase([61.6089]),\n",
              " TensorBase([31.5533]),\n",
              " TensorBase([43.7949]),\n",
              " TensorBase([63.4393]),\n",
              " TensorBase([44.1688]),\n",
              " TensorBase([56.8537]),\n",
              " TensorBase([73.8640]),\n",
              " TensorBase([72.8462]),\n",
              " TensorBase([61.9830]),\n",
              " TensorBase([60.4813]),\n",
              " TensorBase([63.7495]),\n",
              " TensorBase([55.6610]),\n",
              " TensorBase([67.6999]),\n",
              " TensorBase([58.6242]),\n",
              " TensorBase([67.4050]),\n",
              " TensorBase([64.4306]),\n",
              " TensorBase([24.1108]),\n",
              " TensorBase([67.8678]),\n",
              " TensorBase([57.1244]),\n",
              " TensorBase([27.3409]),\n",
              " TensorBase([63.0676]),\n",
              " TensorBase([56.1609]),\n",
              " TensorBase([75.1918]),\n",
              " TensorBase([68.4969]),\n",
              " TensorBase([41.7406]),\n",
              " TensorBase([56.6920]),\n",
              " TensorBase([63.4316]),\n",
              " TensorBase([57.1119]),\n",
              " TensorBase([60.0907]),\n",
              " TensorBase([64.2554]),\n",
              " TensorBase([67.3355]),\n",
              " TensorBase([67.9685]),\n",
              " TensorBase([57.8765]),\n",
              " TensorBase([33.6806]),\n",
              " TensorBase([26.7388]),\n",
              " TensorBase([65.3114]),\n",
              " TensorBase([47.1678]),\n",
              " TensorBase([66.1115]),\n",
              " TensorBase([66.9752]),\n",
              " TensorBase([30.3390]),\n",
              " TensorBase([64.4580]),\n",
              " TensorBase([65.1596]),\n",
              " TensorBase([65.5286]),\n",
              " TensorBase([18.9521]),\n",
              " TensorBase([47.1997]),\n",
              " TensorBase([68.5974]),\n",
              " TensorBase([77.5224]),\n",
              " TensorBase([48.3527]),\n",
              " TensorBase([67.2303]),\n",
              " TensorBase([75.7300]),\n",
              " TensorBase([51.6409]),\n",
              " TensorBase([68.5540]),\n",
              " TensorBase([67.3217]),\n",
              " TensorBase([61.5565]),\n",
              " TensorBase([31.4475]),\n",
              " TensorBase([50.9300]),\n",
              " TensorBase([66.5816]),\n",
              " TensorBase([50.8050]),\n",
              " TensorBase([69.1463]),\n",
              " TensorBase([56.2015]),\n",
              " TensorBase([52.8957]),\n",
              " TensorBase([68.5550]),\n",
              " TensorBase([65.1666]),\n",
              " TensorBase([53.4770]),\n",
              " TensorBase([56.9830]),\n",
              " TensorBase([58.3465]),\n",
              " TensorBase([63.7331]),\n",
              " TensorBase([29.5388]),\n",
              " TensorBase([64.0685]),\n",
              " TensorBase([61.6016]),\n",
              " TensorBase([30.6101]),\n",
              " TensorBase([75.1678]),\n",
              " TensorBase([69.2936]),\n",
              " TensorBase([57.7358]),\n",
              " TensorBase([65.5533]),\n",
              " TensorBase([66.9266]),\n",
              " TensorBase([35.3022]),\n",
              " TensorBase([65.4705]),\n",
              " TensorBase([60.5714]),\n",
              " TensorBase([65.9907]),\n",
              " TensorBase([64.0128]),\n",
              " TensorBase([64.3752]),\n",
              " TensorBase([51.5644]),\n",
              " TensorBase([59.5835]),\n",
              " TensorBase([45.5526]),\n",
              " TensorBase([74.8975]),\n",
              " TensorBase([62.2340]),\n",
              " TensorBase([60.5080]),\n",
              " TensorBase([54.1242]),\n",
              " TensorBase([62.5488]),\n",
              " TensorBase([67.9056]),\n",
              " TensorBase([47.0554]),\n",
              " TensorBase([57.4373]),\n",
              " TensorBase([70.5626]),\n",
              " TensorBase([17.3412]),\n",
              " TensorBase([49.0580]),\n",
              " TensorBase([58.1364]),\n",
              " TensorBase([67.1275]),\n",
              " TensorBase([64.3022]),\n",
              " TensorBase([67.7107]),\n",
              " TensorBase([55.4590]),\n",
              " TensorBase([58.6659]),\n",
              " TensorBase([68.6917]),\n",
              " TensorBase([71.4857]),\n",
              " TensorBase([63.9906]),\n",
              " TensorBase([64.1228]),\n",
              " TensorBase([43.0556]),\n",
              " TensorBase([67.4245]),\n",
              " TensorBase([58.2984]),\n",
              " TensorBase([74.4539]),\n",
              " TensorBase([77.2168]),\n",
              " TensorBase([67.2444]),\n",
              " TensorBase([53.5648]),\n",
              " TensorBase([67.3506]),\n",
              " TensorBase([53.7520]),\n",
              " TensorBase([43.5276]),\n",
              " TensorBase([67.1350]),\n",
              " TensorBase([38.7414]),\n",
              " TensorBase([56.6201]),\n",
              " TensorBase([73.5011]),\n",
              " TensorBase([63.5990]),\n",
              " TensorBase([47.9877]),\n",
              " TensorBase([65.6021]),\n",
              " TensorBase([71.1048]),\n",
              " TensorBase([43.8734]),\n",
              " TensorBase([53.8256]),\n",
              " TensorBase([73.7388]),\n",
              " TensorBase([32.6630]),\n",
              " TensorBase([66.0451]),\n",
              " TensorBase([42.7163]),\n",
              " TensorBase([62.0801]),\n",
              " TensorBase([69.4378]),\n",
              " TensorBase([65.9333]),\n",
              " TensorBase([59.1427]),\n",
              " TensorBase([62.6046]),\n",
              " TensorBase([60.6806]),\n",
              " TensorBase([61.2881]),\n",
              " TensorBase([72.4230]),\n",
              " TensorBase([51.7510]),\n",
              " TensorBase([60.0791]),\n",
              " TensorBase([67.4268]),\n",
              " TensorBase([59.5468]),\n",
              " TensorBase([67.7584]),\n",
              " TensorBase([67.0002]),\n",
              " TensorBase([66.1478]),\n",
              " TensorBase([61.4719]),\n",
              " TensorBase([38.8969]),\n",
              " TensorBase([67.5565]),\n",
              " TensorBase([53.0418]),\n",
              " TensorBase([66.2502]),\n",
              " TensorBase([71.4311]),\n",
              " TensorBase([61.6199]),\n",
              " TensorBase([63.4835]),\n",
              " TensorBase([55.8925]),\n",
              " TensorBase([36.6309]),\n",
              " TensorBase([53.9616]),\n",
              " TensorBase([73.2013]),\n",
              " TensorBase([37.6829]),\n",
              " TensorBase([57.2308]),\n",
              " TensorBase([62.6725]),\n",
              " TensorBase([35.4102]),\n",
              " TensorBase([69.1568]),\n",
              " TensorBase([66.9460]),\n",
              " TensorBase([68.5140]),\n",
              " TensorBase([62.4193]),\n",
              " TensorBase([60.5691]),\n",
              " TensorBase([38.5544]),\n",
              " TensorBase([70.2445]),\n",
              " TensorBase([53.3176]),\n",
              " TensorBase([62.5788]),\n",
              " TensorBase([61.9864]),\n",
              " TensorBase([61.2758]),\n",
              " TensorBase([69.8091]),\n",
              " TensorBase([66.4633]),\n",
              " TensorBase([73.9129]),\n",
              " TensorBase([67.2932]),\n",
              " TensorBase([68.6202]),\n",
              " TensorBase([49.7788]),\n",
              " TensorBase([66.3360]),\n",
              " TensorBase([65.9735]),\n",
              " TensorBase([72.0814]),\n",
              " TensorBase([61.0388]),\n",
              " TensorBase([72.0714]),\n",
              " TensorBase([71.4254]),\n",
              " TensorBase([71.2161]),\n",
              " TensorBase([77.2573]),\n",
              " TensorBase([42.9895]),\n",
              " TensorBase([74.2058]),\n",
              " TensorBase([65.2903]),\n",
              " TensorBase([55.5621]),\n",
              " TensorBase([57.4518]),\n",
              " TensorBase([57.4156]),\n",
              " TensorBase([68.3297]),\n",
              " TensorBase([54.0360]),\n",
              " TensorBase([67.5097]),\n",
              " TensorBase([49.2944]),\n",
              " TensorBase([60.8442]),\n",
              " TensorBase([67.4102]),\n",
              " TensorBase([58.4806]),\n",
              " TensorBase([66.4483]),\n",
              " TensorBase([63.6434]),\n",
              " TensorBase([44.2673]),\n",
              " TensorBase([54.1094]),\n",
              " TensorBase([18.4783]),\n",
              " TensorBase([64.0559]),\n",
              " TensorBase([69.9524]),\n",
              " TensorBase([59.9272]),\n",
              " TensorBase([17.9761]),\n",
              " TensorBase([35.1778]),\n",
              " TensorBase([67.3848]),\n",
              " TensorBase([66.7021]),\n",
              " TensorBase([49.9020]),\n",
              " TensorBase([45.5930]),\n",
              " TensorBase([55.2282]),\n",
              " TensorBase([69.2983]),\n",
              " TensorBase([22.3628]),\n",
              " TensorBase([66.9474]),\n",
              " TensorBase([65.9360]),\n",
              " TensorBase([63.2922]),\n",
              " TensorBase([74.7467]),\n",
              " TensorBase([64.7481]),\n",
              " TensorBase([67.7436]),\n",
              " TensorBase([63.7686]),\n",
              " TensorBase([60.7380]),\n",
              " TensorBase([59.4439]),\n",
              " TensorBase([56.9138]),\n",
              " TensorBase([78.3008]),\n",
              " TensorBase([77.8926]),\n",
              " TensorBase([55.9113]),\n",
              " TensorBase([69.6687]),\n",
              " TensorBase([62.1908]),\n",
              " TensorBase([63.4113]),\n",
              " TensorBase([69.1643]),\n",
              " TensorBase([57.9151]),\n",
              " TensorBase([68.8226]),\n",
              " TensorBase([54.2924]),\n",
              " TensorBase([19.2108]),\n",
              " TensorBase([60.2317]),\n",
              " TensorBase([61.7024]),\n",
              " TensorBase([66.3833]),\n",
              " TensorBase([56.0782]),\n",
              " TensorBase([69.7743]),\n",
              " TensorBase([52.5021]),\n",
              " TensorBase([59.5663]),\n",
              " TensorBase([57.2401]),\n",
              " TensorBase([59.5377]),\n",
              " TensorBase([35.6881]),\n",
              " TensorBase([69.8503]),\n",
              " TensorBase([70.7138]),\n",
              " TensorBase([73.5229]),\n",
              " TensorBase([56.9189]),\n",
              " TensorBase([45.3555]),\n",
              " TensorBase([19.4144]),\n",
              " TensorBase([27.9369]),\n",
              " TensorBase([54.8888]),\n",
              " TensorBase([65.2192]),\n",
              " TensorBase([67.0393]),\n",
              " TensorBase([63.0559]),\n",
              " TensorBase([69.3669]),\n",
              " TensorBase([70.7678]),\n",
              " TensorBase([72.3073]),\n",
              " TensorBase([49.9347]),\n",
              " TensorBase([70.0897]),\n",
              " TensorBase([58.3115]),\n",
              " TensorBase([69.8995]),\n",
              " TensorBase([64.8430]),\n",
              " TensorBase([69.8821]),\n",
              " TensorBase([64.5370]),\n",
              " TensorBase([66.9211]),\n",
              " TensorBase([70.2204]),\n",
              " TensorBase([72.3143]),\n",
              " TensorBase([66.1413]),\n",
              " TensorBase([60.3438]),\n",
              " TensorBase([65.4192]),\n",
              " TensorBase([70.0738]),\n",
              " TensorBase([59.6343]),\n",
              " TensorBase([65.6543]),\n",
              " TensorBase([59.2959]),\n",
              " TensorBase([67.1894]),\n",
              " TensorBase([60.3390]),\n",
              " TensorBase([61.1327]),\n",
              " TensorBase([46.8676]),\n",
              " TensorBase([68.5778]),\n",
              " TensorBase([74.3360]),\n",
              " TensorBase([41.9595]),\n",
              " TensorBase([61.5676]),\n",
              " TensorBase([61.5740]),\n",
              " TensorBase([55.9104]),\n",
              " TensorBase([50.6348]),\n",
              " TensorBase([65.9854]),\n",
              " TensorBase([60.1641]),\n",
              " TensorBase([66.3488]),\n",
              " TensorBase([56.9892]),\n",
              " TensorBase([56.3938]),\n",
              " TensorBase([65.5997]),\n",
              " TensorBase([59.3356]),\n",
              " TensorBase([64.2859]),\n",
              " TensorBase([70.1047]),\n",
              " TensorBase([64.5668]),\n",
              " TensorBase([60.4808]),\n",
              " TensorBase([64.8127]),\n",
              " TensorBase([66.4774]),\n",
              " TensorBase([60.0135]),\n",
              " TensorBase([49.4074]),\n",
              " TensorBase([57.6185]),\n",
              " TensorBase([29.9747]),\n",
              " TensorBase([69.6811]),\n",
              " TensorBase([71.3227]),\n",
              " TensorBase([45.0304]),\n",
              " TensorBase([62.8577]),\n",
              " TensorBase([58.2396]),\n",
              " TensorBase([64.4783]),\n",
              " TensorBase([32.7190]),\n",
              " TensorBase([70.3182]),\n",
              " TensorBase([70.8315]),\n",
              " TensorBase([74.7181]),\n",
              " TensorBase([58.2160]),\n",
              " TensorBase([67.9862]),\n",
              " TensorBase([60.7100]),\n",
              " TensorBase([57.7044]),\n",
              " TensorBase([61.0235]),\n",
              " TensorBase([70.3884]),\n",
              " TensorBase([61.2781]),\n",
              " TensorBase([30.4052]),\n",
              " TensorBase([49.5695]),\n",
              " TensorBase([68.5729]),\n",
              " TensorBase([55.3905]),\n",
              " TensorBase([59.7970]),\n",
              " TensorBase([67.0621]),\n",
              " TensorBase([67.9258]),\n",
              " TensorBase([74.2754]),\n",
              " TensorBase([61.4458]),\n",
              " TensorBase([59.3417]),\n",
              " TensorBase([72.7508]),\n",
              " TensorBase([68.4604]),\n",
              " TensorBase([71.8461]),\n",
              " TensorBase([68.2570]),\n",
              " TensorBase([71.0938]),\n",
              " TensorBase([70.6317]),\n",
              " TensorBase([35.8865]),\n",
              " TensorBase([56.7545]),\n",
              " TensorBase([44.5799]),\n",
              " TensorBase([28.9828]),\n",
              " TensorBase([64.6150]),\n",
              " TensorBase([76.0796]),\n",
              " TensorBase([71.3857]),\n",
              " TensorBase([63.3525]),\n",
              " TensorBase([67.4059]),\n",
              " TensorBase([47.4083]),\n",
              " TensorBase([62.0891]),\n",
              " TensorBase([68.9154]),\n",
              " TensorBase([68.0027]),\n",
              " TensorBase([70.7097]),\n",
              " TensorBase([65.5317]),\n",
              " TensorBase([66.6306]),\n",
              " TensorBase([56.5254]),\n",
              " TensorBase([73.8194]),\n",
              " TensorBase([67.5606]),\n",
              " TensorBase([61.9516]),\n",
              " TensorBase([60.5312]),\n",
              " TensorBase([61.2103]),\n",
              " TensorBase([57.1537]),\n",
              " TensorBase([61.1099]),\n",
              " TensorBase([40.6495]),\n",
              " TensorBase([56.2637]),\n",
              " TensorBase([82.8833]),\n",
              " TensorBase([70.9343]),\n",
              " TensorBase([19.2336]),\n",
              " TensorBase([60.0261]),\n",
              " TensorBase([66.2557]),\n",
              " TensorBase([62.3880]),\n",
              " TensorBase([70.6597]),\n",
              " TensorBase([62.4468]),\n",
              " TensorBase([19.1284]),\n",
              " TensorBase([63.7877]),\n",
              " TensorBase([75.5813]),\n",
              " TensorBase([61.4892]),\n",
              " TensorBase([57.2521]),\n",
              " TensorBase([65.8243]),\n",
              " TensorBase([61.9815]),\n",
              " TensorBase([55.8885]),\n",
              " TensorBase([61.6611]),\n",
              " TensorBase([75.5436]),\n",
              " TensorBase([57.4285]),\n",
              " TensorBase([68.8746]),\n",
              " TensorBase([53.9105]),\n",
              " TensorBase([59.7163]),\n",
              " TensorBase([70.7368]),\n",
              " TensorBase([60.1524]),\n",
              " TensorBase([64.6382]),\n",
              " TensorBase([66.0994]),\n",
              " TensorBase([77.5245]),\n",
              " TensorBase([59.0062]),\n",
              " TensorBase([44.0376]),\n",
              " TensorBase([54.6304]),\n",
              " TensorBase([22.4640]),\n",
              " TensorBase([23.0107]),\n",
              " TensorBase([65.0706]),\n",
              " TensorBase([38.8843]),\n",
              " TensorBase([69.4013]),\n",
              " TensorBase([55.9937]),\n",
              " TensorBase([65.3855]),\n",
              " TensorBase([47.9159]),\n",
              " TensorBase([70.0793]),\n",
              " TensorBase([75.3357]),\n",
              " TensorBase([66.5695]),\n",
              " TensorBase([68.5424]),\n",
              " TensorBase([67.0177]),\n",
              " TensorBase([57.7055]),\n",
              " TensorBase([71.5056]),\n",
              " TensorBase([68.1929]),\n",
              " TensorBase([23.8568]),\n",
              " TensorBase([62.5453]),\n",
              " TensorBase([19.6330]),\n",
              " TensorBase([58.8120]),\n",
              " TensorBase([27.2059]),\n",
              " TensorBase([41.5795]),\n",
              " TensorBase([58.2144]),\n",
              " TensorBase([54.6324]),\n",
              " TensorBase([65.7068]),\n",
              " TensorBase([46.6163]),\n",
              " TensorBase([65.8751]),\n",
              " TensorBase([66.6687]),\n",
              " TensorBase([66.6609]),\n",
              " TensorBase([64.9025]),\n",
              " TensorBase([69.7255]),\n",
              " TensorBase([48.5221]),\n",
              " TensorBase([63.9629]),\n",
              " TensorBase([64.8736]),\n",
              " TensorBase([66.8889]),\n",
              " TensorBase([62.2677]),\n",
              " TensorBase([71.7325]),\n",
              " TensorBase([59.3845]),\n",
              " TensorBase([68.2999]),\n",
              " TensorBase([75.6578]),\n",
              " TensorBase([66.8122]),\n",
              " TensorBase([61.1535]),\n",
              " TensorBase([58.3440]),\n",
              " TensorBase([55.3029]),\n",
              " TensorBase([60.8259]),\n",
              " TensorBase([35.7092]),\n",
              " TensorBase([57.0589]),\n",
              " TensorBase([42.9039]),\n",
              " TensorBase([57.9108]),\n",
              " TensorBase([55.1629]),\n",
              " TensorBase([62.4571]),\n",
              " TensorBase([66.4495]),\n",
              " TensorBase([58.9176]),\n",
              " TensorBase([60.0272]),\n",
              " TensorBase([67.9802]),\n",
              " TensorBase([24.9705]),\n",
              " TensorBase([71.3226]),\n",
              " TensorBase([64.1787]),\n",
              " TensorBase([61.0485]),\n",
              " TensorBase([67.4645]),\n",
              " TensorBase([59.4228]),\n",
              " TensorBase([54.4240]),\n",
              " TensorBase([66.1160]),\n",
              " TensorBase([74.8413]),\n",
              " TensorBase([37.8703]),\n",
              " TensorBase([74.3457]),\n",
              " TensorBase([50.8227]),\n",
              " TensorBase([36.8115]),\n",
              " TensorBase([45.9493]),\n",
              " TensorBase([46.9139]),\n",
              " TensorBase([65.6480]),\n",
              " TensorBase([61.7810]),\n",
              " TensorBase([66.1526]),\n",
              " TensorBase([63.1561]),\n",
              " TensorBase([59.1239]),\n",
              " TensorBase([64.5122]),\n",
              " TensorBase([20.7879]),\n",
              " TensorBase([53.4672]),\n",
              " TensorBase([58.8747]),\n",
              " TensorBase([63.5482]),\n",
              " TensorBase([77.4872]),\n",
              " TensorBase([62.5182]),\n",
              " TensorBase([64.9948]),\n",
              " TensorBase([69.0499]),\n",
              " TensorBase([61.1828]),\n",
              " TensorBase([79.2750]),\n",
              " TensorBase([73.3677]),\n",
              " TensorBase([56.3057]),\n",
              " TensorBase([68.8840]),\n",
              " TensorBase([37.3725]),\n",
              " TensorBase([56.2773]),\n",
              " TensorBase([70.2738]),\n",
              " TensorBase([64.4134]),\n",
              " TensorBase([60.3167]),\n",
              " TensorBase([52.3284]),\n",
              " TensorBase([73.4053]),\n",
              " TensorBase([64.9280]),\n",
              " TensorBase([75.5111]),\n",
              " TensorBase([78.4439]),\n",
              " TensorBase([65.6695]),\n",
              " TensorBase([67.5346]),\n",
              " TensorBase([69.7678]),\n",
              " TensorBase([65.6376]),\n",
              " TensorBase([67.6068]),\n",
              " TensorBase([62.5034]),\n",
              " TensorBase([71.2576]),\n",
              " TensorBase([70.8314]),\n",
              " TensorBase([59.1675]),\n",
              " TensorBase([49.9169]),\n",
              " TensorBase([42.1127]),\n",
              " TensorBase([56.1346]),\n",
              " TensorBase([61.0415]),\n",
              " TensorBase([67.0085]),\n",
              " TensorBase([64.5714]),\n",
              " TensorBase([68.1951]),\n",
              " TensorBase([51.4425]),\n",
              " TensorBase([57.1122]),\n",
              " TensorBase([52.5539]),\n",
              " TensorBase([72.1006]),\n",
              " TensorBase([66.7693]),\n",
              " TensorBase([77.8922]),\n",
              " TensorBase([16.0696]),\n",
              " TensorBase([49.1923]),\n",
              " TensorBase([72.3768]),\n",
              " TensorBase([66.2924]),\n",
              " TensorBase([69.1554]),\n",
              " TensorBase([72.2270]),\n",
              " TensorBase([58.0400]),\n",
              " TensorBase([64.8083]),\n",
              " TensorBase([42.7194]),\n",
              " TensorBase([64.4154]),\n",
              " TensorBase([16.5313]),\n",
              " TensorBase([65.0980]),\n",
              " TensorBase([33.1589]),\n",
              " TensorBase([58.6510]),\n",
              " TensorBase([72.5612]),\n",
              " TensorBase([73.9286]),\n",
              " TensorBase([55.4424]),\n",
              " TensorBase([48.6277]),\n",
              " TensorBase([57.0937]),\n",
              " TensorBase([68.6238]),\n",
              " TensorBase([66.6125]),\n",
              " TensorBase([63.5684]),\n",
              " TensorBase([74.7291]),\n",
              " TensorBase([57.8542]),\n",
              " TensorBase([60.4582]),\n",
              " TensorBase([54.5541]),\n",
              " TensorBase([71.0652]),\n",
              " TensorBase([77.2560]),\n",
              " TensorBase([69.4664]),\n",
              " TensorBase([64.8207]),\n",
              " TensorBase([69.8979]),\n",
              " TensorBase([26.2378]),\n",
              " TensorBase([65.3698]),\n",
              " TensorBase([59.4709]),\n",
              " TensorBase([74.9242]),\n",
              " TensorBase([61.8857]),\n",
              " TensorBase([69.1699]),\n",
              " TensorBase([59.7518]),\n",
              " TensorBase([74.1504]),\n",
              " TensorBase([67.8926]),\n",
              " TensorBase([60.5322]),\n",
              " TensorBase([57.2403]),\n",
              " TensorBase([49.3981]),\n",
              " TensorBase([62.1016]),\n",
              " TensorBase([57.4598]),\n",
              " TensorBase([57.9946]),\n",
              " TensorBase([70.4218]),\n",
              " TensorBase([64.1638]),\n",
              " TensorBase([30.4047]),\n",
              " TensorBase([72.3434]),\n",
              " TensorBase([59.2602]),\n",
              " TensorBase([71.7540]),\n",
              " TensorBase([80.3871]),\n",
              " TensorBase([53.3505]),\n",
              " TensorBase([21.8542]),\n",
              " TensorBase([60.4535]),\n",
              " TensorBase([61.5976]),\n",
              " TensorBase([65.5836]),\n",
              " TensorBase([60.5393]),\n",
              " TensorBase([72.5222]),\n",
              " TensorBase([72.7254]),\n",
              " TensorBase([29.5768]),\n",
              " TensorBase([60.6585]),\n",
              " TensorBase([72.1790]),\n",
              " TensorBase([64.8498]),\n",
              " TensorBase([59.6485]),\n",
              " TensorBase([72.7263]),\n",
              " TensorBase([77.2035]),\n",
              " TensorBase([64.9463]),\n",
              " TensorBase([65.6123]),\n",
              " TensorBase([18.9868]),\n",
              " TensorBase([68.3910]),\n",
              " TensorBase([61.2063]),\n",
              " TensorBase([71.5221]),\n",
              " TensorBase([46.6095]),\n",
              " TensorBase([58.7700]),\n",
              " TensorBase([64.3575]),\n",
              " TensorBase([67.6852]),\n",
              " TensorBase([62.9874]),\n",
              " TensorBase([55.6311]),\n",
              " TensorBase([62.6941]),\n",
              " TensorBase([58.3224]),\n",
              " TensorBase([68.6749]),\n",
              " TensorBase([57.7911]),\n",
              " TensorBase([50.3548]),\n",
              " TensorBase([65.7084]),\n",
              " TensorBase([65.3797]),\n",
              " TensorBase([69.9295]),\n",
              " TensorBase([61.5872]),\n",
              " TensorBase([36.4609]),\n",
              " TensorBase([65.7197]),\n",
              " TensorBase([62.1569]),\n",
              " TensorBase([63.8312]),\n",
              " TensorBase([26.1022]),\n",
              " TensorBase([68.3606]),\n",
              " TensorBase([65.6303]),\n",
              " TensorBase([70.1481]),\n",
              " TensorBase([64.9075]),\n",
              " TensorBase([60.5640]),\n",
              " TensorBase([57.7646]),\n",
              " TensorBase([52.4181]),\n",
              " TensorBase([69.1045]),\n",
              " TensorBase([68.5832]),\n",
              " TensorBase([62.9086]),\n",
              " TensorBase([70.2738]),\n",
              " TensorBase([46.7382]),\n",
              " TensorBase([66.1568]),\n",
              " TensorBase([31.0251]),\n",
              " TensorBase([66.6916]),\n",
              " TensorBase([61.0137]),\n",
              " TensorBase([68.7157]),\n",
              " TensorBase([36.2844]),\n",
              " TensorBase([71.2790]),\n",
              " TensorBase([61.2242]),\n",
              " TensorBase([74.9934]),\n",
              " TensorBase([68.3754]),\n",
              " TensorBase([66.7171]),\n",
              " TensorBase([45.0623]),\n",
              " TensorBase([51.8294]),\n",
              " TensorBase([53.1738]),\n",
              " TensorBase([64.1776]),\n",
              " TensorBase([71.1031]),\n",
              " TensorBase([66.9771]),\n",
              " TensorBase([21.3121]),\n",
              " TensorBase([55.0601]),\n",
              " TensorBase([35.1114]),\n",
              " TensorBase([61.0629]),\n",
              " TensorBase([55.7396]),\n",
              " TensorBase([17.8588]),\n",
              " TensorBase([69.1031]),\n",
              " TensorBase([71.6942]),\n",
              " TensorBase([74.6147]),\n",
              " TensorBase([46.1419]),\n",
              " TensorBase([48.3495]),\n",
              " TensorBase([72.4141]),\n",
              " TensorBase([62.0988]),\n",
              " TensorBase([58.4514]),\n",
              " TensorBase([55.7121]),\n",
              " TensorBase([70.2022]),\n",
              " TensorBase([77.4030]),\n",
              " TensorBase([25.3444]),\n",
              " TensorBase([71.1848]),\n",
              " TensorBase([50.8683]),\n",
              " TensorBase([61.6577]),\n",
              " TensorBase([76.2871]),\n",
              " TensorBase([63.5701]),\n",
              " TensorBase([71.9112]),\n",
              " TensorBase([70.3945]),\n",
              " TensorBase([67.4837]),\n",
              " TensorBase([34.1333]),\n",
              " TensorBase([66.4862]),\n",
              " TensorBase([71.7375]),\n",
              " TensorBase([57.9019]),\n",
              " TensorBase([71.8913]),\n",
              " TensorBase([70.7568]),\n",
              " TensorBase([66.2378]),\n",
              " TensorBase([72.2765]),\n",
              " TensorBase([67.8828]),\n",
              " TensorBase([56.3500]),\n",
              " TensorBase([67.0893]),\n",
              " TensorBase([29.2665]),\n",
              " TensorBase([57.3654]),\n",
              " TensorBase([61.9304]),\n",
              " TensorBase([71.2181]),\n",
              " TensorBase([74.5208]),\n",
              " TensorBase([62.7683]),\n",
              " TensorBase([72.8277]),\n",
              " TensorBase([57.3569]),\n",
              " TensorBase([59.8633]),\n",
              " TensorBase([71.0610]),\n",
              " TensorBase([64.8227]),\n",
              " TensorBase([31.9032]),\n",
              " TensorBase([59.4319]),\n",
              " TensorBase([68.1103]),\n",
              " TensorBase([62.3083]),\n",
              " TensorBase([66.8095]),\n",
              " TensorBase([64.9857]),\n",
              " TensorBase([66.2268]),\n",
              " TensorBase([61.8578]),\n",
              " TensorBase([62.1408]),\n",
              " TensorBase([57.2669]),\n",
              " TensorBase([64.4069]),\n",
              " TensorBase([66.1315]),\n",
              " TensorBase([57.9311]),\n",
              " TensorBase([75.3099]),\n",
              " TensorBase([60.1284]),\n",
              " TensorBase([64.5413]),\n",
              " TensorBase([57.6519]),\n",
              " TensorBase([66.6548]),\n",
              " TensorBase([67.8693]),\n",
              " TensorBase([58.6718]),\n",
              " TensorBase([65.4380]),\n",
              " TensorBase([63.9249]),\n",
              " TensorBase([54.4508]),\n",
              " TensorBase([65.0084]),\n",
              " TensorBase([64.4822]),\n",
              " TensorBase([46.9975]),\n",
              " TensorBase([70.7040]),\n",
              " TensorBase([42.4248]),\n",
              " TensorBase([64.9709]),\n",
              " TensorBase([70.1597]),\n",
              " TensorBase([65.5816]),\n",
              " TensorBase([66.8747]),\n",
              " TensorBase([25.5977]),\n",
              " TensorBase([65.5686]),\n",
              " TensorBase([66.8760]),\n",
              " TensorBase([69.5871]),\n",
              " TensorBase([65.3685]),\n",
              " TensorBase([62.9490]),\n",
              " TensorBase([68.9263]),\n",
              " TensorBase([25.9782]),\n",
              " TensorBase([67.8473]),\n",
              " TensorBase([18.8989]),\n",
              " TensorBase([67.6380]),\n",
              " TensorBase([72.5738]),\n",
              " TensorBase([66.1777]),\n",
              " TensorBase([64.8249]),\n",
              " TensorBase([73.0509]),\n",
              " TensorBase([58.9058]),\n",
              " TensorBase([65.3348]),\n",
              " TensorBase([25.8448]),\n",
              " TensorBase([65.2683]),\n",
              " TensorBase([49.4951]),\n",
              " TensorBase([66.7812]),\n",
              " TensorBase([28.9205]),\n",
              " TensorBase([50.4192]),\n",
              " TensorBase([61.6775]),\n",
              " TensorBase([49.3466]),\n",
              " TensorBase([67.7332]),\n",
              " TensorBase([72.1205]),\n",
              " TensorBase([66.1367]),\n",
              " TensorBase([53.3608]),\n",
              " TensorBase([72.4100]),\n",
              " TensorBase([65.6942]),\n",
              " TensorBase([64.1468]),\n",
              " TensorBase([73.2048]),\n",
              " TensorBase([32.6520]),\n",
              " TensorBase([55.9692]),\n",
              " TensorBase([33.8238]),\n",
              " TensorBase([63.2852]),\n",
              " TensorBase([53.3254]),\n",
              " TensorBase([72.7200]),\n",
              " TensorBase([49.4438]),\n",
              " TensorBase([36.8819]),\n",
              " TensorBase([59.2054]),\n",
              " TensorBase([65.2535]),\n",
              " TensorBase([59.0671]),\n",
              " TensorBase([66.6195]),\n",
              " TensorBase([64.3743]),\n",
              " TensorBase([63.2779]),\n",
              " TensorBase([72.2489]),\n",
              " TensorBase([56.3352]),\n",
              " TensorBase([37.6527]),\n",
              " TensorBase([31.0465]),\n",
              " TensorBase([70.0655]),\n",
              " TensorBase([65.2024]),\n",
              " TensorBase([54.6357]),\n",
              " TensorBase([24.3341]),\n",
              " TensorBase([57.0818]),\n",
              " TensorBase([73.1748]),\n",
              " TensorBase([46.5153]),\n",
              " TensorBase([70.9270]),\n",
              " TensorBase([64.2902]),\n",
              " TensorBase([65.3472]),\n",
              " TensorBase([72.7671]),\n",
              " TensorBase([74.4056]),\n",
              " TensorBase([68.0966]),\n",
              " TensorBase([53.0861]),\n",
              " TensorBase([48.5960]),\n",
              " TensorBase([62.0043]),\n",
              " TensorBase([71.5236]),\n",
              " TensorBase([69.2279]),\n",
              " TensorBase([70.6532]),\n",
              " TensorBase([77.0011]),\n",
              " TensorBase([61.2489]),\n",
              " TensorBase([69.6898]),\n",
              " TensorBase([49.5408]),\n",
              " TensorBase([67.0106]),\n",
              " TensorBase([63.7386]),\n",
              " TensorBase([60.9108]),\n",
              " TensorBase([66.8335]),\n",
              " TensorBase([60.2612]),\n",
              " TensorBase([26.8381]),\n",
              " TensorBase([70.2045]),\n",
              " TensorBase([63.1812]),\n",
              " TensorBase([64.6921]),\n",
              " TensorBase([49.]),\n",
              " TensorBase([57.6913]),\n",
              " TensorBase([68.1082]),\n",
              " TensorBase([56.3288]),\n",
              " TensorBase([55.1831]),\n",
              " TensorBase([63.0976]),\n",
              " TensorBase([68.9912]),\n",
              " TensorBase([69.4204]),\n",
              " TensorBase([59.2015]),\n",
              " TensorBase([64.0801]),\n",
              " TensorBase([61.5027]),\n",
              " TensorBase([63.8042]),\n",
              " TensorBase([72.1156]),\n",
              " TensorBase([72.3279]),\n",
              " TensorBase([65.0121]),\n",
              " TensorBase([66.6548]),\n",
              " TensorBase([59.2107]),\n",
              " TensorBase([65.0069]),\n",
              " TensorBase([68.2979]),\n",
              " ...]"
            ]
          },
          "metadata": {},
          "execution_count": 80
        }
      ],
      "source": [
        "ensemble"
      ]
    },
    {
      "cell_type": "code",
      "execution_count": null,
      "metadata": {
        "colab": {
          "base_uri": "https://localhost:8080/"
        },
        "id": "WY8ZjJOi82e9",
        "outputId": "4132a79d-feb0-4aa1-8bf7-c2d697d75bf5"
      },
      "outputs": [
        {
          "output_type": "execute_result",
          "data": {
            "text/plain": [
              "8748"
            ]
          },
          "metadata": {},
          "execution_count": 81
        }
      ],
      "source": [
        "len(ensemble)"
      ]
    },
    {
      "cell_type": "markdown",
      "metadata": {
        "id": "zkgC99wUxfek"
      },
      "source": [
        "Sin pérdida de generalidad, empleamos el tensor *ground truth* del modelo 1, dado por"
      ]
    },
    {
      "cell_type": "code",
      "execution_count": null,
      "metadata": {
        "colab": {
          "base_uri": "https://localhost:8080/",
          "height": 17
        },
        "id": "BL6ZMPKCCF1z",
        "outputId": "b1be3e16-adf7-4190-b4f8-4b5b1dd69ffd"
      },
      "outputs": [
        {
          "output_type": "display_data",
          "data": {
            "text/plain": [
              "<IPython.core.display.HTML object>"
            ],
            "text/html": [
              "\n",
              "<style>\n",
              "    /* Turns off some styling */\n",
              "    progress {\n",
              "        /* gets rid of default border in Firefox and Opera. */\n",
              "        border: none;\n",
              "        /* Needs to be in here for Safari polyfill so background images work as expected. */\n",
              "        background-size: auto;\n",
              "    }\n",
              "    .progress-bar-interrupted, .progress-bar-interrupted::-webkit-progress-bar {\n",
              "        background: #F44336;\n",
              "    }\n",
              "</style>\n"
            ]
          },
          "metadata": {}
        },
        {
          "output_type": "display_data",
          "data": {
            "text/plain": [
              "<IPython.core.display.HTML object>"
            ],
            "text/html": [
              ""
            ]
          },
          "metadata": {}
        }
      ],
      "source": [
        "ground_truth = learn_model1.get_preds()[1];"
      ]
    },
    {
      "cell_type": "markdown",
      "source": [
        "Visualizamos el tensor"
      ],
      "metadata": {
        "id": "Fe-5SXtsiK7F"
      }
    },
    {
      "cell_type": "code",
      "execution_count": null,
      "metadata": {
        "colab": {
          "base_uri": "https://localhost:8080/"
        },
        "id": "Pd29wyJ6CgAf",
        "outputId": "3370f95d-e4d8-4d8b-e064-e6531f2f4cbc"
      },
      "outputs": [
        {
          "output_type": "execute_result",
          "data": {
            "text/plain": [
              "tensor([51., 69., 46.,  ..., 49., 65., 50.])"
            ]
          },
          "metadata": {},
          "execution_count": 38
        }
      ],
      "source": [
        "ground_truth"
      ]
    },
    {
      "cell_type": "markdown",
      "source": [
        "Verificamos que contiene 8748 entradas"
      ],
      "metadata": {
        "id": "sepA7TeXiO-7"
      }
    },
    {
      "cell_type": "code",
      "execution_count": null,
      "metadata": {
        "colab": {
          "base_uri": "https://localhost:8080/"
        },
        "id": "rqJXJRyb1tE0",
        "outputId": "b7513d12-b07b-49ab-9864-3018361a3cca"
      },
      "outputs": [
        {
          "output_type": "execute_result",
          "data": {
            "text/plain": [
              "torch.Size([8748])"
            ]
          },
          "metadata": {},
          "execution_count": 39
        }
      ],
      "source": [
        "ground_truth.shape"
      ]
    },
    {
      "cell_type": "markdown",
      "metadata": {
        "id": "p-AJLVweyEZc"
      },
      "source": [
        "Para validar el modelo 1, se emplea la métrica *mae*"
      ]
    },
    {
      "cell_type": "code",
      "execution_count": null,
      "metadata": {
        "colab": {
          "base_uri": "https://localhost:8080/"
        },
        "id": "fvxMIe3lAc4t",
        "outputId": "5041294c-7a7c-474d-877c-d2335c75113f"
      },
      "outputs": [
        {
          "output_type": "stream",
          "name": "stderr",
          "text": [
            "/usr/local/lib/python3.7/dist-packages/sklearn/utils/validation.py:746: FutureWarning: The input object of type 'TensorBase' is an array-like implementing one of the corresponding protocols (`__array__`, `__array_interface__` or `__array_struct__`); but not a sequence (or 0-D). In the future, this object will be coerced as if it was first converted using `np.array(obj)`. To retain the old behaviour, you have to either modify the type 'TensorBase', or assign to an empty array created with `np.empty(correct_shape, dtype=object)`.\n",
            "  array = np.asarray(array, order=order, dtype=dtype)\n",
            "/usr/local/lib/python3.7/dist-packages/sklearn/utils/validation.py:746: VisibleDeprecationWarning: Creating an ndarray from ragged nested sequences (which is a list-or-tuple of lists-or-tuples-or ndarrays with different lengths or shapes) is deprecated. If you meant to do this, you must specify 'dtype=object' when creating the ndarray.\n",
            "  array = np.asarray(array, order=order, dtype=dtype)\n",
            "/usr/local/lib/python3.7/dist-packages/sklearn/metrics/_regression.py:95: FutureWarning: Arrays of bytes/strings is being converted to decimal numbers if dtype='numeric'. This behavior is deprecated in 0.24 and will be removed in 1.1 (renaming of 0.26). Please convert your data to numeric values explicitly instead.\n",
            "  y_true = check_array(y_true, ensure_2d=False, dtype=dtype)\n"
          ]
        },
        {
          "output_type": "execute_result",
          "data": {
            "text/plain": [
              "9.967426324032408"
            ]
          },
          "metadata": {},
          "execution_count": 82
        }
      ],
      "source": [
        "MAE(ensemble, ground_truth)"
      ]
    },
    {
      "cell_type": "markdown",
      "metadata": {
        "id": "RZhQmCms6_v8"
      },
      "source": [
        "Por lo tanto, obtenemos un  ***mae* de 9.97**"
      ]
    },
    {
      "cell_type": "markdown",
      "metadata": {
        "id": "WVWwjckUy_rN"
      },
      "source": [
        "Ahora bien, todo el proceso anterior lo podemos resumir en la siguiente función *tensor_preds* la cual recibe el *dataframe* y la lista de modelos, por lo tanto la siguiente función construye el **Ensemble**."
      ]
    },
    {
      "cell_type": "code",
      "execution_count": null,
      "metadata": {
        "id": "02yR4hVO9Ocy"
      },
      "outputs": [],
      "source": [
        "def tensor_preds(df, listaModelos):\n",
        "\n",
        "  df1 = pd.concat([dfTrain, dfTest])\n",
        "  \n",
        "  #RegressionBlock: Bloque de transformación para variables objetivos flotantes\n",
        "  dbTest = DataBlock(blocks=(ImageBlock, RegressionBlock()), #Recibe imágenes y devuelve un RegressionBlock\n",
        "                    get_x = get_x, \n",
        "                    get_y = get_y, \n",
        "                    splitter= IndexSplitter(range(len(dfTrain), len(df1))),  #Para carpetas GrandparentSplitter(valid_name='dfTest').l 15% de los datos de Training son para validar\n",
        "                    item_tfms = Resize(299, method='squish'), \n",
        "                    batch_tfms=[*aug_transforms(size=224, flip_vert = True)])\n",
        "  \n",
        "  k = []\n",
        "  lista = []\n",
        "  w = []\n",
        "  for i in range(len(listaModelos)):\n",
        "    dlsTest = dbTest.dataloaders(df1,bs=150)\n",
        "    model = listaModelos[i]\n",
        "    model.dls = dlsTest\n",
        "    pred = model.get_preds()[0]\n",
        "    k.append(pred) #k es el array con las predicciones de cada uno de los modelos (cada uno es un tensor)\n",
        "    m = list(zip(*k)) #Genera tuplas con los primeros elementos de k\n",
        "    #media = (np.sum(m, axis=0))/(len(k[0][0])) #Todos los modelos tienen el tensor del mismo tamaño por la longitud de dfTest \n",
        "        \n",
        "  for j in range(len(m)):\n",
        "      media = sum(m[j])/(len(m[0]))\n",
        "      w.append(media)\n",
        "  #media = (np.sum(m[j], axis=0))/(len(m[0])) #Todos los modelos tienen el tensor del mismo tamaño por la longitud de dfTest     \n",
        "  return w"
      ]
    },
    {
      "cell_type": "code",
      "execution_count": null,
      "metadata": {
        "colab": {
          "base_uri": "https://localhost:8080/",
          "height": 17
        },
        "id": "TycfQhyb9Tbf",
        "outputId": "9e8f2685-8a51-4507-8388-a13fad83b605"
      },
      "outputs": [
        {
          "output_type": "display_data",
          "data": {
            "text/plain": [
              "<IPython.core.display.HTML object>"
            ],
            "text/html": [
              "\n",
              "<style>\n",
              "    /* Turns off some styling */\n",
              "    progress {\n",
              "        /* gets rid of default border in Firefox and Opera. */\n",
              "        border: none;\n",
              "        /* Needs to be in here for Safari polyfill so background images work as expected. */\n",
              "        background-size: auto;\n",
              "    }\n",
              "    .progress-bar-interrupted, .progress-bar-interrupted::-webkit-progress-bar {\n",
              "        background: #F44336;\n",
              "    }\n",
              "</style>\n"
            ]
          },
          "metadata": {}
        },
        {
          "output_type": "display_data",
          "data": {
            "text/plain": [
              "<IPython.core.display.HTML object>"
            ],
            "text/html": [
              ""
            ]
          },
          "metadata": {}
        },
        {
          "output_type": "display_data",
          "data": {
            "text/plain": [
              "<IPython.core.display.HTML object>"
            ],
            "text/html": [
              "\n",
              "<style>\n",
              "    /* Turns off some styling */\n",
              "    progress {\n",
              "        /* gets rid of default border in Firefox and Opera. */\n",
              "        border: none;\n",
              "        /* Needs to be in here for Safari polyfill so background images work as expected. */\n",
              "        background-size: auto;\n",
              "    }\n",
              "    .progress-bar-interrupted, .progress-bar-interrupted::-webkit-progress-bar {\n",
              "        background: #F44336;\n",
              "    }\n",
              "</style>\n"
            ]
          },
          "metadata": {}
        },
        {
          "output_type": "display_data",
          "data": {
            "text/plain": [
              "<IPython.core.display.HTML object>"
            ],
            "text/html": [
              ""
            ]
          },
          "metadata": {}
        },
        {
          "output_type": "display_data",
          "data": {
            "text/plain": [
              "<IPython.core.display.HTML object>"
            ],
            "text/html": [
              "\n",
              "<style>\n",
              "    /* Turns off some styling */\n",
              "    progress {\n",
              "        /* gets rid of default border in Firefox and Opera. */\n",
              "        border: none;\n",
              "        /* Needs to be in here for Safari polyfill so background images work as expected. */\n",
              "        background-size: auto;\n",
              "    }\n",
              "    .progress-bar-interrupted, .progress-bar-interrupted::-webkit-progress-bar {\n",
              "        background: #F44336;\n",
              "    }\n",
              "</style>\n"
            ]
          },
          "metadata": {}
        },
        {
          "output_type": "display_data",
          "data": {
            "text/plain": [
              "<IPython.core.display.HTML object>"
            ],
            "text/html": [
              ""
            ]
          },
          "metadata": {}
        }
      ],
      "source": [
        "ensemble_final = tensor_preds(df1, lista_modelos)"
      ]
    },
    {
      "cell_type": "markdown",
      "source": [
        "Veamos las dimensiones del tensor obtenido "
      ],
      "metadata": {
        "id": "k91v9FnSjRb8"
      }
    },
    {
      "cell_type": "code",
      "execution_count": null,
      "metadata": {
        "colab": {
          "base_uri": "https://localhost:8080/"
        },
        "id": "XJNHVLRhApck",
        "outputId": "8764978b-96d2-422e-8e53-4ecc9c485740"
      },
      "outputs": [
        {
          "output_type": "execute_result",
          "data": {
            "text/plain": [
              "(8748, 2)"
            ]
          },
          "metadata": {},
          "execution_count": 42
        }
      ],
      "source": [
        "dfTest.shape"
      ]
    },
    {
      "cell_type": "markdown",
      "source": [
        "Validamos el modelo con la métrica *mae*"
      ],
      "metadata": {
        "id": "iliyLON3jWKr"
      }
    },
    {
      "cell_type": "code",
      "execution_count": null,
      "metadata": {
        "colab": {
          "base_uri": "https://localhost:8080/"
        },
        "id": "gMM92D6w-O0i",
        "outputId": "e04acda2-4afd-4c37-f35d-14bed70da46b"
      },
      "outputs": [
        {
          "output_type": "stream",
          "name": "stderr",
          "text": [
            "/usr/local/lib/python3.7/dist-packages/sklearn/utils/validation.py:746: FutureWarning: The input object of type 'TensorBase' is an array-like implementing one of the corresponding protocols (`__array__`, `__array_interface__` or `__array_struct__`); but not a sequence (or 0-D). In the future, this object will be coerced as if it was first converted using `np.array(obj)`. To retain the old behaviour, you have to either modify the type 'TensorBase', or assign to an empty array created with `np.empty(correct_shape, dtype=object)`.\n",
            "  array = np.asarray(array, order=order, dtype=dtype)\n",
            "/usr/local/lib/python3.7/dist-packages/sklearn/utils/validation.py:746: VisibleDeprecationWarning: Creating an ndarray from ragged nested sequences (which is a list-or-tuple of lists-or-tuples-or ndarrays with different lengths or shapes) is deprecated. If you meant to do this, you must specify 'dtype=object' when creating the ndarray.\n",
            "  array = np.asarray(array, order=order, dtype=dtype)\n",
            "/usr/local/lib/python3.7/dist-packages/sklearn/metrics/_regression.py:95: FutureWarning: Arrays of bytes/strings is being converted to decimal numbers if dtype='numeric'. This behavior is deprecated in 0.24 and will be removed in 1.1 (renaming of 0.26). Please convert your data to numeric values explicitly instead.\n",
            "  y_true = check_array(y_true, ensure_2d=False, dtype=dtype)\n"
          ]
        },
        {
          "output_type": "execute_result",
          "data": {
            "text/plain": [
              "9.967426324032408"
            ]
          },
          "metadata": {},
          "execution_count": 45
        }
      ],
      "source": [
        "MAE(ensemble_final, ground_truth)"
      ]
    },
    {
      "cell_type": "markdown",
      "metadata": {
        "id": "o4kWXsO-9jb4"
      },
      "source": [
        "El resultado mejora con un ***mae* de 9.97** comparado con el *mae* obtenido con las redes neuronales *ResNet-152* y *ResNet-34*. Nuestro mejor modelo continúa siendo *EfficientNet-B3*"
      ]
    },
    {
      "cell_type": "markdown",
      "metadata": {
        "id": "kp8-xP-fhTGk"
      },
      "source": [
        "Además, no se pueden visualizar las predicciones obtenidas sobre algunas imágenes del conjunto de *test*, ni exportar porque el ensemble en su construcción no tiene el atributo `show_results` y `export`. "
      ]
    },
    {
      "cell_type": "markdown",
      "metadata": {
        "id": "w7m1gdEej-5I"
      },
      "source": [
        "Guardamos el ensemble como un csv"
      ]
    },
    {
      "cell_type": "code",
      "execution_count": null,
      "metadata": {
        "colab": {
          "base_uri": "https://localhost:8080/"
        },
        "id": "FoI7tmDYlPtA",
        "outputId": "c1670c2a-1734-4d6f-da6e-151a58144360"
      },
      "outputs": [
        {
          "output_type": "stream",
          "name": "stdout",
          "text": [
            "Array =  [TensorBase([56.3425]) TensorBase([65.8576]) TensorBase([65.8784]) ...\n",
            " TensorBase([56.8494]) TensorBase([69.4480]) TensorBase([61.4531])]\n"
          ]
        },
        {
          "output_type": "stream",
          "name": "stderr",
          "text": [
            "/usr/local/lib/python3.7/dist-packages/ipykernel_launcher.py:1: FutureWarning: The input object of type 'TensorBase' is an array-like implementing one of the corresponding protocols (`__array__`, `__array_interface__` or `__array_struct__`); but not a sequence (or 0-D). In the future, this object will be coerced as if it was first converted using `np.array(obj)`. To retain the old behaviour, you have to either modify the type 'TensorBase', or assign to an empty array created with `np.empty(correct_shape, dtype=object)`.\n",
            "  \"\"\"Entry point for launching an IPython kernel.\n",
            "/usr/local/lib/python3.7/dist-packages/ipykernel_launcher.py:1: VisibleDeprecationWarning: Creating an ndarray from ragged nested sequences (which is a list-or-tuple of lists-or-tuples-or ndarrays with different lengths or shapes) is deprecated. If you meant to do this, you must specify 'dtype=object' when creating the ndarray.\n",
            "  \"\"\"Entry point for launching an IPython kernel.\n"
          ]
        }
      ],
      "source": [
        "ensemble_array = np.array(ensemble_final)\n",
        "print(\"Array = \", ensemble_array)"
      ]
    },
    {
      "cell_type": "code",
      "execution_count": null,
      "metadata": {
        "colab": {
          "base_uri": "https://localhost:8080/"
        },
        "id": "lmJOnb6-maFc",
        "outputId": "51b8c6d6-c364-4e7d-825e-7fc675739e2d"
      },
      "outputs": [
        {
          "output_type": "execute_result",
          "data": {
            "text/plain": [
              "array([TensorBase([56.3425]), TensorBase([65.8576]),\n",
              "       TensorBase([65.8784]), ..., TensorBase([56.8494]),\n",
              "       TensorBase([69.4480]), TensorBase([61.4531])], dtype=object)"
            ]
          },
          "metadata": {},
          "execution_count": 57
        }
      ],
      "source": [
        "ensemble_array"
      ]
    },
    {
      "cell_type": "code",
      "execution_count": null,
      "metadata": {
        "id": "mwmHTqbdjqS4"
      },
      "outputs": [],
      "source": [
        "#Converting the tensor output to a list of predicted values\n",
        "ensemble_array = [i[0] for i in ensemble_array.tolist()]\n",
        "\n",
        "#Converting the prediction to . a dataframe\n",
        "ensemble_array = pd.DataFrame(ensemble_array, columns = ['edad'])\n",
        "\n",
        "#Writing the predictions to an csv file.\n",
        "ensemble_array.to_csv(\"ensemble_array.csv\", index = False)"
      ]
    },
    {
      "cell_type": "markdown",
      "metadata": {
        "id": "6L0U5D4XSyza"
      },
      "source": [
        "## Usando el modelo\n",
        "---\n",
        "\n"
      ]
    },
    {
      "cell_type": "markdown",
      "metadata": {
        "id": "lEpzAhLKrvHY"
      },
      "source": [
        "Se puede ver cómo usar el modelo ante una nueva imagen. Si se quiere utilizar el modelo para realizar predicciones, debemos definir una función para predecir ello."
      ]
    },
    {
      "cell_type": "markdown",
      "metadata": {
        "id": "VrD5nI4tvmkP"
      },
      "source": [
        "Se carga una imagen del conjunto de *test* y se predice la edad sobre la persona de la misma"
      ]
    },
    {
      "cell_type": "code",
      "execution_count": null,
      "metadata": {
        "colab": {
          "base_uri": "https://localhost:8080/",
          "height": 238
        },
        "id": "DwNCITzql6WD",
        "outputId": "f34aa296-8ef9-409a-e09a-896278f05445"
      },
      "outputs": [
        {
          "output_type": "execute_result",
          "data": {
            "text/plain": [
              "              nombre_foto  edad\n",
              "0   anonymized_341764.jpg    51\n",
              "1   anonymized_698952.jpg    69\n",
              "2   anonymized_208387.jpg    46\n",
              "3   anonymized_118817.jpg    69\n",
              "4  anonymized_1311174.jpg    32\n",
              "5  anonymized_1326804.jpg    32"
            ],
            "text/html": [
              "\n",
              "  <div id=\"df-3abf1ddd-ec83-48b8-8ae8-a897a29863b5\">\n",
              "    <div class=\"colab-df-container\">\n",
              "      <div>\n",
              "<style scoped>\n",
              "    .dataframe tbody tr th:only-of-type {\n",
              "        vertical-align: middle;\n",
              "    }\n",
              "\n",
              "    .dataframe tbody tr th {\n",
              "        vertical-align: top;\n",
              "    }\n",
              "\n",
              "    .dataframe thead th {\n",
              "        text-align: right;\n",
              "    }\n",
              "</style>\n",
              "<table border=\"1\" class=\"dataframe\">\n",
              "  <thead>\n",
              "    <tr style=\"text-align: right;\">\n",
              "      <th></th>\n",
              "      <th>nombre_foto</th>\n",
              "      <th>edad</th>\n",
              "    </tr>\n",
              "  </thead>\n",
              "  <tbody>\n",
              "    <tr>\n",
              "      <th>0</th>\n",
              "      <td>anonymized_341764.jpg</td>\n",
              "      <td>51</td>\n",
              "    </tr>\n",
              "    <tr>\n",
              "      <th>1</th>\n",
              "      <td>anonymized_698952.jpg</td>\n",
              "      <td>69</td>\n",
              "    </tr>\n",
              "    <tr>\n",
              "      <th>2</th>\n",
              "      <td>anonymized_208387.jpg</td>\n",
              "      <td>46</td>\n",
              "    </tr>\n",
              "    <tr>\n",
              "      <th>3</th>\n",
              "      <td>anonymized_118817.jpg</td>\n",
              "      <td>69</td>\n",
              "    </tr>\n",
              "    <tr>\n",
              "      <th>4</th>\n",
              "      <td>anonymized_1311174.jpg</td>\n",
              "      <td>32</td>\n",
              "    </tr>\n",
              "    <tr>\n",
              "      <th>5</th>\n",
              "      <td>anonymized_1326804.jpg</td>\n",
              "      <td>32</td>\n",
              "    </tr>\n",
              "  </tbody>\n",
              "</table>\n",
              "</div>\n",
              "      <button class=\"colab-df-convert\" onclick=\"convertToInteractive('df-3abf1ddd-ec83-48b8-8ae8-a897a29863b5')\"\n",
              "              title=\"Convert this dataframe to an interactive table.\"\n",
              "              style=\"display:none;\">\n",
              "        \n",
              "  <svg xmlns=\"http://www.w3.org/2000/svg\" height=\"24px\"viewBox=\"0 0 24 24\"\n",
              "       width=\"24px\">\n",
              "    <path d=\"M0 0h24v24H0V0z\" fill=\"none\"/>\n",
              "    <path d=\"M18.56 5.44l.94 2.06.94-2.06 2.06-.94-2.06-.94-.94-2.06-.94 2.06-2.06.94zm-11 1L8.5 8.5l.94-2.06 2.06-.94-2.06-.94L8.5 2.5l-.94 2.06-2.06.94zm10 10l.94 2.06.94-2.06 2.06-.94-2.06-.94-.94-2.06-.94 2.06-2.06.94z\"/><path d=\"M17.41 7.96l-1.37-1.37c-.4-.4-.92-.59-1.43-.59-.52 0-1.04.2-1.43.59L10.3 9.45l-7.72 7.72c-.78.78-.78 2.05 0 2.83L4 21.41c.39.39.9.59 1.41.59.51 0 1.02-.2 1.41-.59l7.78-7.78 2.81-2.81c.8-.78.8-2.07 0-2.86zM5.41 20L4 18.59l7.72-7.72 1.47 1.35L5.41 20z\"/>\n",
              "  </svg>\n",
              "      </button>\n",
              "      \n",
              "  <style>\n",
              "    .colab-df-container {\n",
              "      display:flex;\n",
              "      flex-wrap:wrap;\n",
              "      gap: 12px;\n",
              "    }\n",
              "\n",
              "    .colab-df-convert {\n",
              "      background-color: #E8F0FE;\n",
              "      border: none;\n",
              "      border-radius: 50%;\n",
              "      cursor: pointer;\n",
              "      display: none;\n",
              "      fill: #1967D2;\n",
              "      height: 32px;\n",
              "      padding: 0 0 0 0;\n",
              "      width: 32px;\n",
              "    }\n",
              "\n",
              "    .colab-df-convert:hover {\n",
              "      background-color: #E2EBFA;\n",
              "      box-shadow: 0px 1px 2px rgba(60, 64, 67, 0.3), 0px 1px 3px 1px rgba(60, 64, 67, 0.15);\n",
              "      fill: #174EA6;\n",
              "    }\n",
              "\n",
              "    [theme=dark] .colab-df-convert {\n",
              "      background-color: #3B4455;\n",
              "      fill: #D2E3FC;\n",
              "    }\n",
              "\n",
              "    [theme=dark] .colab-df-convert:hover {\n",
              "      background-color: #434B5C;\n",
              "      box-shadow: 0px 1px 3px 1px rgba(0, 0, 0, 0.15);\n",
              "      filter: drop-shadow(0px 1px 2px rgba(0, 0, 0, 0.3));\n",
              "      fill: #FFFFFF;\n",
              "    }\n",
              "  </style>\n",
              "\n",
              "      <script>\n",
              "        const buttonEl =\n",
              "          document.querySelector('#df-3abf1ddd-ec83-48b8-8ae8-a897a29863b5 button.colab-df-convert');\n",
              "        buttonEl.style.display =\n",
              "          google.colab.kernel.accessAllowed ? 'block' : 'none';\n",
              "\n",
              "        async function convertToInteractive(key) {\n",
              "          const element = document.querySelector('#df-3abf1ddd-ec83-48b8-8ae8-a897a29863b5');\n",
              "          const dataTable =\n",
              "            await google.colab.kernel.invokeFunction('convertToInteractive',\n",
              "                                                     [key], {});\n",
              "          if (!dataTable) return;\n",
              "\n",
              "          const docLinkHtml = 'Like what you see? Visit the ' +\n",
              "            '<a target=\"_blank\" href=https://colab.research.google.com/notebooks/data_table.ipynb>data table notebook</a>'\n",
              "            + ' to learn more about interactive tables.';\n",
              "          element.innerHTML = '';\n",
              "          dataTable['output_type'] = 'display_data';\n",
              "          await google.colab.output.renderOutput(dataTable, element);\n",
              "          const docLink = document.createElement('div');\n",
              "          docLink.innerHTML = docLinkHtml;\n",
              "          element.appendChild(docLink);\n",
              "        }\n",
              "      </script>\n",
              "    </div>\n",
              "  </div>\n",
              "  "
            ]
          },
          "metadata": {},
          "execution_count": 59
        }
      ],
      "source": [
        "dfTest.head(6)"
      ]
    },
    {
      "cell_type": "markdown",
      "metadata": {
        "id": "nhzKdEl5l9M-"
      },
      "source": [
        "Se elige la primera imagen"
      ]
    },
    {
      "cell_type": "code",
      "execution_count": null,
      "metadata": {
        "id": "DtMIcr4f0eJo"
      },
      "outputs": [],
      "source": [
        "img = '/content/anonymized_341764.jpg' #ground truth 51 "
      ]
    },
    {
      "cell_type": "markdown",
      "metadata": {
        "id": "jbY-Q3Oo_zAu"
      },
      "source": [
        "Se crea la función para predecir la edad a partir de los mejores modelos"
      ]
    },
    {
      "cell_type": "code",
      "execution_count": null,
      "metadata": {
        "id": "qfJJblE4v97p"
      },
      "outputs": [],
      "source": [
        "def tensor_preds_inference(imagen, listaModelos):\n",
        "  k = []\n",
        "  w =[]\n",
        "  lista = []\n",
        "  for i in range(len(listaModelos)):\n",
        "    model = listaModelos[i]\n",
        "    pred = model.predict(imagen)[0]\n",
        "    k.append(pred) #k es el tensor con las predicciones de cada uno de los modelos sobre una imagen dada\n",
        "    m = list(zip(*k)) #Genera tuplas con los primeros elementos de k\n",
        "  for j in range(len(m)):\n",
        "    mean = sum(m[j])/(len(m[0]))\n",
        "    w.append(mean)\n",
        "  #media = (np.sum(m[j], axis=0))/(len(m[0])) #Todos los modelos tienen el tensor del mismo tamaño por la longitud de dfTest     \n",
        "  return w\n",
        "      "
      ]
    },
    {
      "cell_type": "code",
      "execution_count": null,
      "metadata": {
        "colab": {
          "base_uri": "https://localhost:8080/",
          "height": 17
        },
        "id": "4-FWekqGwKL8",
        "outputId": "33bf3a9d-ee52-4650-ed83-4f8992230aac"
      },
      "outputs": [
        {
          "output_type": "display_data",
          "data": {
            "text/plain": [
              "<IPython.core.display.HTML object>"
            ],
            "text/html": [
              "\n",
              "<style>\n",
              "    /* Turns off some styling */\n",
              "    progress {\n",
              "        /* gets rid of default border in Firefox and Opera. */\n",
              "        border: none;\n",
              "        /* Needs to be in here for Safari polyfill so background images work as expected. */\n",
              "        background-size: auto;\n",
              "    }\n",
              "    .progress-bar-interrupted, .progress-bar-interrupted::-webkit-progress-bar {\n",
              "        background: #F44336;\n",
              "    }\n",
              "</style>\n"
            ]
          },
          "metadata": {}
        },
        {
          "output_type": "display_data",
          "data": {
            "text/plain": [
              "<IPython.core.display.HTML object>"
            ],
            "text/html": [
              ""
            ]
          },
          "metadata": {}
        },
        {
          "output_type": "display_data",
          "data": {
            "text/plain": [
              "<IPython.core.display.HTML object>"
            ],
            "text/html": [
              "\n",
              "<style>\n",
              "    /* Turns off some styling */\n",
              "    progress {\n",
              "        /* gets rid of default border in Firefox and Opera. */\n",
              "        border: none;\n",
              "        /* Needs to be in here for Safari polyfill so background images work as expected. */\n",
              "        background-size: auto;\n",
              "    }\n",
              "    .progress-bar-interrupted, .progress-bar-interrupted::-webkit-progress-bar {\n",
              "        background: #F44336;\n",
              "    }\n",
              "</style>\n"
            ]
          },
          "metadata": {}
        },
        {
          "output_type": "display_data",
          "data": {
            "text/plain": [
              "<IPython.core.display.HTML object>"
            ],
            "text/html": [
              ""
            ]
          },
          "metadata": {}
        },
        {
          "output_type": "display_data",
          "data": {
            "text/plain": [
              "<IPython.core.display.HTML object>"
            ],
            "text/html": [
              "\n",
              "<style>\n",
              "    /* Turns off some styling */\n",
              "    progress {\n",
              "        /* gets rid of default border in Firefox and Opera. */\n",
              "        border: none;\n",
              "        /* Needs to be in here for Safari polyfill so background images work as expected. */\n",
              "        background-size: auto;\n",
              "    }\n",
              "    .progress-bar-interrupted, .progress-bar-interrupted::-webkit-progress-bar {\n",
              "        background: #F44336;\n",
              "    }\n",
              "</style>\n"
            ]
          },
          "metadata": {}
        },
        {
          "output_type": "display_data",
          "data": {
            "text/plain": [
              "<IPython.core.display.HTML object>"
            ],
            "text/html": [
              ""
            ]
          },
          "metadata": {}
        }
      ],
      "source": [
        "predicciones_imagen = tensor_preds_inference(img, lista_modelos)"
      ]
    },
    {
      "cell_type": "markdown",
      "metadata": {
        "id": "q4iDte6w7J67"
      },
      "source": [
        "Por lo tanto, la predicción de la edad para la imagen empleada es 56 años cuando su edad real es 51 años."
      ]
    },
    {
      "cell_type": "code",
      "execution_count": null,
      "metadata": {
        "colab": {
          "base_uri": "https://localhost:8080/"
        },
        "id": "EmGt4rmvwONq",
        "outputId": "ab74e3d1-239e-4b5c-95be-81d0e77f9332"
      },
      "outputs": [
        {
          "output_type": "execute_result",
          "data": {
            "text/plain": [
              "[56.342464447021484]"
            ]
          },
          "metadata": {},
          "execution_count": 100
        }
      ],
      "source": [
        "predicciones_imagen"
      ]
    },
    {
      "cell_type": "markdown",
      "metadata": {
        "id": "ooXIm_W1BXtJ"
      },
      "source": [
        "##HuggingFace \n",
        "---\n",
        "*HuggingFace* proporciona una aplicación para nuestro modelo. En nuestro caso usamos el mejor modelo *EfficientNet-B3*. El enlace al espacio de *HuggingFace* asociado al modelo es:\n",
        "\n",
        "[Aplicación para predecir la edad de un paciente a partir de imágenes de fondo de ojo de retina](https://huggingface.co/spaces/AlvearVanessa/TFM1)\n",
        "\n",
        "\n",
        "Ahora bien, en la aplicación hemos usado dos imágenes:\n",
        "\n",
        "- La primera con un *ground truth* de 49 años. Luego, la edad predicha es 56 años."
      ]
    },
    {
      "cell_type": "code",
      "source": [
        "Image(\"/content/hf_img1.png\")"
      ],
      "metadata": {
        "colab": {
          "base_uri": "https://localhost:8080/",
          "height": 572
        },
        "id": "zpdDPOOZoACQ",
        "outputId": "ad490ddd-1f7f-405e-d25e-25890ab7409c"
      },
      "execution_count": 2,
      "outputs": [
        {
          "output_type": "execute_result",
          "data": {
            "text/plain": [
              "<IPython.core.display.Image object>"
            ],
            "image/png": "[encoded data removed]"
          },
          "metadata": {},
          "execution_count": 2
        }
      ]
    },
    {
      "cell_type": "markdown",
      "source": [
        "- La segunda con un *ground truth* de 32 años. Luego, la edad predicha es 36 años."
      ],
      "metadata": {
        "id": "_ZVql6-1obt6"
      }
    },
    {
      "cell_type": "code",
      "source": [
        "Image(\"/content/hf_img2.png\")"
      ],
      "metadata": {
        "colab": {
          "base_uri": "https://localhost:8080/",
          "height": 567
        },
        "id": "qx144DcRogIe",
        "outputId": "ebb87f25-6d03-4448-c40d-564e36b01b40"
      },
      "execution_count": 3,
      "outputs": [
        {
          "output_type": "execute_result",
          "data": {
            "text/plain": [
              "<IPython.core.display.Image object>"
            ],
            "image/png": "[encoded data removed]"
          },
          "metadata": {},
          "execution_count": 3
        }
      ]
    },
    {
      "cell_type": "markdown",
      "source": [
        "A continuación, veamos las predicciones que realiza nuestro modelo de **Ensemble** sobre las mismas dos imágenes"
      ],
      "metadata": {
        "id": "A1n4YQ_homCa"
      }
    },
    {
      "cell_type": "markdown",
      "metadata": {
        "id": "TNz4JF6zgV5r"
      },
      "source": [
        "Se cargaron las dos imágenes"
      ]
    },
    {
      "cell_type": "code",
      "source": [
        "img2 = '/content/anonymized_1284335.jpg' \n",
        "img3 = '/content/anonymized_1326804.jpg' "
      ],
      "metadata": {
        "id": "9BrIZN4RENR8"
      },
      "execution_count": null,
      "outputs": []
    },
    {
      "cell_type": "markdown",
      "source": [
        "Verificamos las edades reales en el fichero de anotación"
      ],
      "metadata": {
        "id": "-cWX4Nq3o9Zt"
      }
    },
    {
      "cell_type": "code",
      "execution_count": null,
      "metadata": {
        "id": "4ndq0tD7eKT5"
      },
      "outputs": [],
      "source": [
        "imagen2 = dfTest['nombre_foto'] == 'anonymized_1284335.jpg'\n",
        "imagen3 = dfTest['nombre_foto'] == 'anonymized_1326804.jpg'\n",
        "df_imagen2 = dfTest.loc[imagen2]\n",
        "df_imagen3 = dfTest.loc[imagen3]"
      ]
    },
    {
      "cell_type": "code",
      "source": [
        "df_imagen2.head()"
      ],
      "metadata": {
        "colab": {
          "base_uri": "https://localhost:8080/",
          "height": 81
        },
        "id": "v5PW10MOGGZ5",
        "outputId": "e6efb66c-cdc8-45ff-aa0e-eb8c25f677b6"
      },
      "execution_count": null,
      "outputs": [
        {
          "output_type": "execute_result",
          "data": {
            "text/plain": [
              "                 nombre_foto  edad\n",
              "8745  anonymized_1284335.jpg    49"
            ],
            "text/html": [
              "\n",
              "  <div id=\"df-1cf4c7c1-8f1b-457f-82de-a7e5d57365ce\">\n",
              "    <div class=\"colab-df-container\">\n",
              "      <div>\n",
              "<style scoped>\n",
              "    .dataframe tbody tr th:only-of-type {\n",
              "        vertical-align: middle;\n",
              "    }\n",
              "\n",
              "    .dataframe tbody tr th {\n",
              "        vertical-align: top;\n",
              "    }\n",
              "\n",
              "    .dataframe thead th {\n",
              "        text-align: right;\n",
              "    }\n",
              "</style>\n",
              "<table border=\"1\" class=\"dataframe\">\n",
              "  <thead>\n",
              "    <tr style=\"text-align: right;\">\n",
              "      <th></th>\n",
              "      <th>nombre_foto</th>\n",
              "      <th>edad</th>\n",
              "    </tr>\n",
              "  </thead>\n",
              "  <tbody>\n",
              "    <tr>\n",
              "      <th>8745</th>\n",
              "      <td>anonymized_1284335.jpg</td>\n",
              "      <td>49</td>\n",
              "    </tr>\n",
              "  </tbody>\n",
              "</table>\n",
              "</div>\n",
              "      <button class=\"colab-df-convert\" onclick=\"convertToInteractive('df-1cf4c7c1-8f1b-457f-82de-a7e5d57365ce')\"\n",
              "              title=\"Convert this dataframe to an interactive table.\"\n",
              "              style=\"display:none;\">\n",
              "        \n",
              "  <svg xmlns=\"http://www.w3.org/2000/svg\" height=\"24px\"viewBox=\"0 0 24 24\"\n",
              "       width=\"24px\">\n",
              "    <path d=\"M0 0h24v24H0V0z\" fill=\"none\"/>\n",
              "    <path d=\"M18.56 5.44l.94 2.06.94-2.06 2.06-.94-2.06-.94-.94-2.06-.94 2.06-2.06.94zm-11 1L8.5 8.5l.94-2.06 2.06-.94-2.06-.94L8.5 2.5l-.94 2.06-2.06.94zm10 10l.94 2.06.94-2.06 2.06-.94-2.06-.94-.94-2.06-.94 2.06-2.06.94z\"/><path d=\"M17.41 7.96l-1.37-1.37c-.4-.4-.92-.59-1.43-.59-.52 0-1.04.2-1.43.59L10.3 9.45l-7.72 7.72c-.78.78-.78 2.05 0 2.83L4 21.41c.39.39.9.59 1.41.59.51 0 1.02-.2 1.41-.59l7.78-7.78 2.81-2.81c.8-.78.8-2.07 0-2.86zM5.41 20L4 18.59l7.72-7.72 1.47 1.35L5.41 20z\"/>\n",
              "  </svg>\n",
              "      </button>\n",
              "      \n",
              "  <style>\n",
              "    .colab-df-container {\n",
              "      display:flex;\n",
              "      flex-wrap:wrap;\n",
              "      gap: 12px;\n",
              "    }\n",
              "\n",
              "    .colab-df-convert {\n",
              "      background-color: #E8F0FE;\n",
              "      border: none;\n",
              "      border-radius: 50%;\n",
              "      cursor: pointer;\n",
              "      display: none;\n",
              "      fill: #1967D2;\n",
              "      height: 32px;\n",
              "      padding: 0 0 0 0;\n",
              "      width: 32px;\n",
              "    }\n",
              "\n",
              "    .colab-df-convert:hover {\n",
              "      background-color: #E2EBFA;\n",
              "      box-shadow: 0px 1px 2px rgba(60, 64, 67, 0.3), 0px 1px 3px 1px rgba(60, 64, 67, 0.15);\n",
              "      fill: #174EA6;\n",
              "    }\n",
              "\n",
              "    [theme=dark] .colab-df-convert {\n",
              "      background-color: #3B4455;\n",
              "      fill: #D2E3FC;\n",
              "    }\n",
              "\n",
              "    [theme=dark] .colab-df-convert:hover {\n",
              "      background-color: #434B5C;\n",
              "      box-shadow: 0px 1px 3px 1px rgba(0, 0, 0, 0.15);\n",
              "      filter: drop-shadow(0px 1px 2px rgba(0, 0, 0, 0.3));\n",
              "      fill: #FFFFFF;\n",
              "    }\n",
              "  </style>\n",
              "\n",
              "      <script>\n",
              "        const buttonEl =\n",
              "          document.querySelector('#df-1cf4c7c1-8f1b-457f-82de-a7e5d57365ce button.colab-df-convert');\n",
              "        buttonEl.style.display =\n",
              "          google.colab.kernel.accessAllowed ? 'block' : 'none';\n",
              "\n",
              "        async function convertToInteractive(key) {\n",
              "          const element = document.querySelector('#df-1cf4c7c1-8f1b-457f-82de-a7e5d57365ce');\n",
              "          const dataTable =\n",
              "            await google.colab.kernel.invokeFunction('convertToInteractive',\n",
              "                                                     [key], {});\n",
              "          if (!dataTable) return;\n",
              "\n",
              "          const docLinkHtml = 'Like what you see? Visit the ' +\n",
              "            '<a target=\"_blank\" href=https://colab.research.google.com/notebooks/data_table.ipynb>data table notebook</a>'\n",
              "            + ' to learn more about interactive tables.';\n",
              "          element.innerHTML = '';\n",
              "          dataTable['output_type'] = 'display_data';\n",
              "          await google.colab.output.renderOutput(dataTable, element);\n",
              "          const docLink = document.createElement('div');\n",
              "          docLink.innerHTML = docLinkHtml;\n",
              "          element.appendChild(docLink);\n",
              "        }\n",
              "      </script>\n",
              "    </div>\n",
              "  </div>\n",
              "  "
            ]
          },
          "metadata": {},
          "execution_count": 89
        }
      ]
    },
    {
      "cell_type": "code",
      "source": [
        "df_imagen3.head()"
      ],
      "metadata": {
        "colab": {
          "base_uri": "https://localhost:8080/",
          "height": 81
        },
        "id": "ihluJqvMGJF3",
        "outputId": "b1c14b89-e9a6-41de-c7f9-84a59bb1ca29"
      },
      "execution_count": null,
      "outputs": [
        {
          "output_type": "execute_result",
          "data": {
            "text/plain": [
              "              nombre_foto  edad\n",
              "5  anonymized_1326804.jpg    32"
            ],
            "text/html": [
              "\n",
              "  <div id=\"df-a801a6ad-3a2a-4dc9-8a66-27d1a0222535\">\n",
              "    <div class=\"colab-df-container\">\n",
              "      <div>\n",
              "<style scoped>\n",
              "    .dataframe tbody tr th:only-of-type {\n",
              "        vertical-align: middle;\n",
              "    }\n",
              "\n",
              "    .dataframe tbody tr th {\n",
              "        vertical-align: top;\n",
              "    }\n",
              "\n",
              "    .dataframe thead th {\n",
              "        text-align: right;\n",
              "    }\n",
              "</style>\n",
              "<table border=\"1\" class=\"dataframe\">\n",
              "  <thead>\n",
              "    <tr style=\"text-align: right;\">\n",
              "      <th></th>\n",
              "      <th>nombre_foto</th>\n",
              "      <th>edad</th>\n",
              "    </tr>\n",
              "  </thead>\n",
              "  <tbody>\n",
              "    <tr>\n",
              "      <th>5</th>\n",
              "      <td>anonymized_1326804.jpg</td>\n",
              "      <td>32</td>\n",
              "    </tr>\n",
              "  </tbody>\n",
              "</table>\n",
              "</div>\n",
              "      <button class=\"colab-df-convert\" onclick=\"convertToInteractive('df-a801a6ad-3a2a-4dc9-8a66-27d1a0222535')\"\n",
              "              title=\"Convert this dataframe to an interactive table.\"\n",
              "              style=\"display:none;\">\n",
              "        \n",
              "  <svg xmlns=\"http://www.w3.org/2000/svg\" height=\"24px\"viewBox=\"0 0 24 24\"\n",
              "       width=\"24px\">\n",
              "    <path d=\"M0 0h24v24H0V0z\" fill=\"none\"/>\n",
              "    <path d=\"M18.56 5.44l.94 2.06.94-2.06 2.06-.94-2.06-.94-.94-2.06-.94 2.06-2.06.94zm-11 1L8.5 8.5l.94-2.06 2.06-.94-2.06-.94L8.5 2.5l-.94 2.06-2.06.94zm10 10l.94 2.06.94-2.06 2.06-.94-2.06-.94-.94-2.06-.94 2.06-2.06.94z\"/><path d=\"M17.41 7.96l-1.37-1.37c-.4-.4-.92-.59-1.43-.59-.52 0-1.04.2-1.43.59L10.3 9.45l-7.72 7.72c-.78.78-.78 2.05 0 2.83L4 21.41c.39.39.9.59 1.41.59.51 0 1.02-.2 1.41-.59l7.78-7.78 2.81-2.81c.8-.78.8-2.07 0-2.86zM5.41 20L4 18.59l7.72-7.72 1.47 1.35L5.41 20z\"/>\n",
              "  </svg>\n",
              "      </button>\n",
              "      \n",
              "  <style>\n",
              "    .colab-df-container {\n",
              "      display:flex;\n",
              "      flex-wrap:wrap;\n",
              "      gap: 12px;\n",
              "    }\n",
              "\n",
              "    .colab-df-convert {\n",
              "      background-color: #E8F0FE;\n",
              "      border: none;\n",
              "      border-radius: 50%;\n",
              "      cursor: pointer;\n",
              "      display: none;\n",
              "      fill: #1967D2;\n",
              "      height: 32px;\n",
              "      padding: 0 0 0 0;\n",
              "      width: 32px;\n",
              "    }\n",
              "\n",
              "    .colab-df-convert:hover {\n",
              "      background-color: #E2EBFA;\n",
              "      box-shadow: 0px 1px 2px rgba(60, 64, 67, 0.3), 0px 1px 3px 1px rgba(60, 64, 67, 0.15);\n",
              "      fill: #174EA6;\n",
              "    }\n",
              "\n",
              "    [theme=dark] .colab-df-convert {\n",
              "      background-color: #3B4455;\n",
              "      fill: #D2E3FC;\n",
              "    }\n",
              "\n",
              "    [theme=dark] .colab-df-convert:hover {\n",
              "      background-color: #434B5C;\n",
              "      box-shadow: 0px 1px 3px 1px rgba(0, 0, 0, 0.15);\n",
              "      filter: drop-shadow(0px 1px 2px rgba(0, 0, 0, 0.3));\n",
              "      fill: #FFFFFF;\n",
              "    }\n",
              "  </style>\n",
              "\n",
              "      <script>\n",
              "        const buttonEl =\n",
              "          document.querySelector('#df-a801a6ad-3a2a-4dc9-8a66-27d1a0222535 button.colab-df-convert');\n",
              "        buttonEl.style.display =\n",
              "          google.colab.kernel.accessAllowed ? 'block' : 'none';\n",
              "\n",
              "        async function convertToInteractive(key) {\n",
              "          const element = document.querySelector('#df-a801a6ad-3a2a-4dc9-8a66-27d1a0222535');\n",
              "          const dataTable =\n",
              "            await google.colab.kernel.invokeFunction('convertToInteractive',\n",
              "                                                     [key], {});\n",
              "          if (!dataTable) return;\n",
              "\n",
              "          const docLinkHtml = 'Like what you see? Visit the ' +\n",
              "            '<a target=\"_blank\" href=https://colab.research.google.com/notebooks/data_table.ipynb>data table notebook</a>'\n",
              "            + ' to learn more about interactive tables.';\n",
              "          element.innerHTML = '';\n",
              "          dataTable['output_type'] = 'display_data';\n",
              "          await google.colab.output.renderOutput(dataTable, element);\n",
              "          const docLink = document.createElement('div');\n",
              "          docLink.innerHTML = docLinkHtml;\n",
              "          element.appendChild(docLink);\n",
              "        }\n",
              "      </script>\n",
              "    </div>\n",
              "  </div>\n",
              "  "
            ]
          },
          "metadata": {},
          "execution_count": 90
        }
      ]
    },
    {
      "cell_type": "markdown",
      "source": [
        "Ahora bien, aplicamos el **Ensemble** a las mismas imágenes del *HuggingFace*"
      ],
      "metadata": {
        "id": "oNfbMG56GO8H"
      }
    },
    {
      "cell_type": "code",
      "source": [
        "predicciones_imagen2 = tensor_preds_inference(img2, lista_modelos)\n",
        "predicciones_imagen2"
      ],
      "metadata": {
        "colab": {
          "base_uri": "https://localhost:8080/",
          "height": 34
        },
        "id": "8cSLt7ztGa1J",
        "outputId": "156dda82-8a40-4256-c4a7-32ccc7b1d407"
      },
      "execution_count": null,
      "outputs": [
        {
          "output_type": "display_data",
          "data": {
            "text/plain": [
              "<IPython.core.display.HTML object>"
            ],
            "text/html": [
              "\n",
              "<style>\n",
              "    /* Turns off some styling */\n",
              "    progress {\n",
              "        /* gets rid of default border in Firefox and Opera. */\n",
              "        border: none;\n",
              "        /* Needs to be in here for Safari polyfill so background images work as expected. */\n",
              "        background-size: auto;\n",
              "    }\n",
              "    .progress-bar-interrupted, .progress-bar-interrupted::-webkit-progress-bar {\n",
              "        background: #F44336;\n",
              "    }\n",
              "</style>\n"
            ]
          },
          "metadata": {}
        },
        {
          "output_type": "display_data",
          "data": {
            "text/plain": [
              "<IPython.core.display.HTML object>"
            ],
            "text/html": [
              ""
            ]
          },
          "metadata": {}
        },
        {
          "output_type": "display_data",
          "data": {
            "text/plain": [
              "<IPython.core.display.HTML object>"
            ],
            "text/html": [
              "\n",
              "<style>\n",
              "    /* Turns off some styling */\n",
              "    progress {\n",
              "        /* gets rid of default border in Firefox and Opera. */\n",
              "        border: none;\n",
              "        /* Needs to be in here for Safari polyfill so background images work as expected. */\n",
              "        background-size: auto;\n",
              "    }\n",
              "    .progress-bar-interrupted, .progress-bar-interrupted::-webkit-progress-bar {\n",
              "        background: #F44336;\n",
              "    }\n",
              "</style>\n"
            ]
          },
          "metadata": {}
        },
        {
          "output_type": "display_data",
          "data": {
            "text/plain": [
              "<IPython.core.display.HTML object>"
            ],
            "text/html": [
              ""
            ]
          },
          "metadata": {}
        },
        {
          "output_type": "display_data",
          "data": {
            "text/plain": [
              "<IPython.core.display.HTML object>"
            ],
            "text/html": [
              "\n",
              "<style>\n",
              "    /* Turns off some styling */\n",
              "    progress {\n",
              "        /* gets rid of default border in Firefox and Opera. */\n",
              "        border: none;\n",
              "        /* Needs to be in here for Safari polyfill so background images work as expected. */\n",
              "        background-size: auto;\n",
              "    }\n",
              "    .progress-bar-interrupted, .progress-bar-interrupted::-webkit-progress-bar {\n",
              "        background: #F44336;\n",
              "    }\n",
              "</style>\n"
            ]
          },
          "metadata": {}
        },
        {
          "output_type": "display_data",
          "data": {
            "text/plain": [
              "<IPython.core.display.HTML object>"
            ],
            "text/html": [
              ""
            ]
          },
          "metadata": {}
        },
        {
          "output_type": "execute_result",
          "data": {
            "text/plain": [
              "[56.84945170084635]"
            ]
          },
          "metadata": {},
          "execution_count": 101
        }
      ]
    },
    {
      "cell_type": "code",
      "source": [
        "predicciones_imagen3 = tensor_preds_inference(img3, lista_modelos)\n",
        "predicciones_imagen3"
      ],
      "metadata": {
        "colab": {
          "base_uri": "https://localhost:8080/",
          "height": 34
        },
        "id": "_XjJR6JEGa3x",
        "outputId": "03b789a9-c228-4978-dbef-ddfd66d22929"
      },
      "execution_count": null,
      "outputs": [
        {
          "output_type": "display_data",
          "data": {
            "text/plain": [
              "<IPython.core.display.HTML object>"
            ],
            "text/html": [
              "\n",
              "<style>\n",
              "    /* Turns off some styling */\n",
              "    progress {\n",
              "        /* gets rid of default border in Firefox and Opera. */\n",
              "        border: none;\n",
              "        /* Needs to be in here for Safari polyfill so background images work as expected. */\n",
              "        background-size: auto;\n",
              "    }\n",
              "    .progress-bar-interrupted, .progress-bar-interrupted::-webkit-progress-bar {\n",
              "        background: #F44336;\n",
              "    }\n",
              "</style>\n"
            ]
          },
          "metadata": {}
        },
        {
          "output_type": "display_data",
          "data": {
            "text/plain": [
              "<IPython.core.display.HTML object>"
            ],
            "text/html": [
              ""
            ]
          },
          "metadata": {}
        },
        {
          "output_type": "display_data",
          "data": {
            "text/plain": [
              "<IPython.core.display.HTML object>"
            ],
            "text/html": [
              "\n",
              "<style>\n",
              "    /* Turns off some styling */\n",
              "    progress {\n",
              "        /* gets rid of default border in Firefox and Opera. */\n",
              "        border: none;\n",
              "        /* Needs to be in here for Safari polyfill so background images work as expected. */\n",
              "        background-size: auto;\n",
              "    }\n",
              "    .progress-bar-interrupted, .progress-bar-interrupted::-webkit-progress-bar {\n",
              "        background: #F44336;\n",
              "    }\n",
              "</style>\n"
            ]
          },
          "metadata": {}
        },
        {
          "output_type": "display_data",
          "data": {
            "text/plain": [
              "<IPython.core.display.HTML object>"
            ],
            "text/html": [
              ""
            ]
          },
          "metadata": {}
        },
        {
          "output_type": "display_data",
          "data": {
            "text/plain": [
              "<IPython.core.display.HTML object>"
            ],
            "text/html": [
              "\n",
              "<style>\n",
              "    /* Turns off some styling */\n",
              "    progress {\n",
              "        /* gets rid of default border in Firefox and Opera. */\n",
              "        border: none;\n",
              "        /* Needs to be in here for Safari polyfill so background images work as expected. */\n",
              "        background-size: auto;\n",
              "    }\n",
              "    .progress-bar-interrupted, .progress-bar-interrupted::-webkit-progress-bar {\n",
              "        background: #F44336;\n",
              "    }\n",
              "</style>\n"
            ]
          },
          "metadata": {}
        },
        {
          "output_type": "display_data",
          "data": {
            "text/plain": [
              "<IPython.core.display.HTML object>"
            ],
            "text/html": [
              ""
            ]
          },
          "metadata": {}
        },
        {
          "output_type": "execute_result",
          "data": {
            "text/plain": [
              "[37.85441780090332]"
            ]
          },
          "metadata": {},
          "execution_count": 102
        }
      ]
    },
    {
      "cell_type": "markdown",
      "source": [
        "Por lo tanto, en nuestro modelo de **Ensemble**:\n",
        "\n",
        "- Para la imagen con *ground truth* de 49 años, la edad predicha es 57 años. \n",
        "\n",
        "- Para la imagen con *ground truth* de 32 años, la edad predicha es 38 años. "
      ],
      "metadata": {
        "id": "NTxopBgrpMB9"
      }
    }
  ],
  "metadata": {
    "colab": {
      "collapsed_sections": [],
      "name": "Ensemble.ipynb",
      "provenance": [],
      "toc_visible": true,
      "include_colab_link": true
    },
    "gpuClass": "standard",
    "kernelspec": {
      "display_name": "Python 3",
      "name": "python3"
    },
    "language_info": {
      "name": "python"
    }
  },
  "nbformat": 4,
  "nbformat_minor": 0
}